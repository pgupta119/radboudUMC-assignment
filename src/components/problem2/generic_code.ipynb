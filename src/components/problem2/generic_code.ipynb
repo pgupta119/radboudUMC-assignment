{
 "cells": [
  {
   "cell_type": "code",
   "execution_count": 1,
   "id": "initial_id",
   "metadata": {
    "collapsed": true,
    "ExecuteTime": {
     "end_time": "2023-12-07T03:02:57.005684Z",
     "start_time": "2023-12-07T03:02:57.003628Z"
    }
   },
   "outputs": [],
   "source": [
    "import pandas as pd\n",
    "import numpy as np\n",
    "import matplotlib.pyplot as plt\n",
    "import seaborn as sns"
   ]
  },
  {
   "cell_type": "code",
   "execution_count": 82,
   "outputs": [],
   "source": [
    "def admission_admit(df):\n",
    "    # df['DISCH DATE'] = pd.to_datetime(df['DISCH DATE'], errors='coerce')\n",
    "    return df_admissions.groupby('ID')['DISCH DATE'].max()\n",
    "    \n",
    "\n",
    "def admission_tac():\n",
    "    pass\n",
    "\n",
    "def admissions():\n",
    "    pass\n",
    "\n",
    "def basic_patient_info(df):\n",
    "    return df['original disease']\n",
    "\n",
    "def glucose(df):\n",
    "    \n",
    "    if df.groupby('id')['result'].mean() > 5.5:\n",
    "        \n",
    "        return \n",
    "    else:\n",
    "        return 0\n",
    "    \n",
    "def  labs_avg(df):\n",
    "     df['creatinine'] = df[df['test'] == 'creatinine'].mean()\n",
    "     df['creatinine clearance']=  df[df['test'] == 'creatinine clearance'].mean()\n",
    "     df['urea in blood'] = df[df['test'] == 'urea in blood'].mean()\n",
    "     return df['creatinine'], df['creatinine clearance'], df['urea in blood']\n",
    "\n",
    "def labs_raw(df):\n",
    "     df['creatinine'] = df[df['test'] == 'creatinine'].mean()\n",
    "     df['creatinine clearance']=  df[df['test'] == 'creatinine clearance'].mean()\n",
    "     df['urea in blood'] = df[df['test'] == 'urea in blood'].mean()\n",
    "     return df['creatinine'], df['creatinine clearance'], df['urea in blood']\n",
    "\n",
    "def tacro(df):\n",
    "    if df['result'].mean()  > 15 or df['result'].mean()  < 5:\n",
    "        df['result'] =1\n",
    "        return df\n",
    "    else:\n",
    "        df['result'] = 0\n",
    "        return  df\n",
    "    \n",
    "def vitals(df):\n",
    "    df['systolic'] = df[df['test'] == 'systolic'].mean()\n",
    "    df['diastolic'] = df[df['test'] == 'diastolic'].mean()\n",
    "    df['HR'] = df[df['test'] == 'HR'].mean()\n",
    "    df['WT'] = df[df['test'] == 'WT'].mean()\n",
    "    return df['systolic'], df['diastolic'], df['heart rate'], df['respiratory rate'], df['temperature']"
   ],
   "metadata": {
    "collapsed": false,
    "ExecuteTime": {
     "end_time": "2023-12-07T04:39:54.476582Z",
     "start_time": "2023-12-07T04:39:54.386796Z"
    }
   },
   "id": "8a01f62713206ac5"
  },
  {
   "cell_type": "code",
   "execution_count": 100,
   "outputs": [],
   "source": [
    "## read the files \n",
    "df_admissions = pd.read_excel('/Users/prakashgupta/radboudUMC-assignment/data/source/data/1-10/Admission Tac & meds 1-10.xls', sheet_name='ADMIT')"
   ],
   "metadata": {
    "collapsed": false,
    "ExecuteTime": {
     "end_time": "2023-12-07T04:44:34.002134Z",
     "start_time": "2023-12-07T04:44:33.916868Z"
    }
   },
   "id": "e82a0116fbf3325e"
  },
  {
   "cell_type": "code",
   "execution_count": 101,
   "outputs": [
    {
     "data": {
      "text/plain": "    ID ADMIT DATE  ADMIT UNIT  DISCH DATE DISCHARGE UNIT\n0    1 2005-12-28  NICU        2007-10-26             6A\n1    2 2007-01-08  6A          2007-01-26             6A\n2    2 2007-02-06  HOLD        2007-02-20             6A\n3    3 2006-08-13  6A          2007-03-02             6A\n4    3 2007-04-04  4D          2007-04-04             4D\n5    4 2007-02-13  6ACU        2007-03-19             6A\n6    4 2007-04-17  6A          2007-05-04             6A\n7    4 2007-11-07  6A          2007-11-11             6A\n8    4 2007-12-10  6A          2007-12-10             6A\n9    4 2008-06-09  6A          2008-06-12             6B\n10   4 2009-01-15  6ACU        2009-01-18             6A\n11   5 2007-02-06  5A          2007-04-16             6A\n12   5 2007-05-05  HOLD        2007-07-04             6A\n13   5 2007-07-24  6A          2007-07-25             6A\n14   5 2007-08-21  6A          2007-10-16             6A\n15   5 2009-02-24  HOLD        2009-03-04             6A\n16   6 2006-11-09  6ACU        2007-03-14             6A\n17   6 2007-04-12  7E          2007-04-14             7E\n18   6 2007-06-27  6ACU        2007-06-28           6ACU\n19   6 2007-07-27  HOLD        2007-08-03             6A\n20   6 2007-10-08  6A          2007-10-15             6A\n21   6 2008-03-19  6A          2008-03-31             6A\n22   6 2008-09-12  6A          2008-09-15             6A\n23   6 2009-01-17  HOLD        2009-01-19             6A\n24   7 2007-03-05  6A          2007-03-21             6A\n25   8 2007-03-25  6A          2007-05-08             6A\n26   8 2007-06-02  HOLD        2007-06-10             6A\n27   8 2007-10-11  4C          2007-10-17             6A\n28   8 2008-09-15  6A          2008-09-15             6A\n29   9 2007-03-25  6A          2007-04-17             6A\n30   9 2007-11-29  6A          2007-12-01             6A\n31   9 2008-02-07  6A          2008-02-09             6A\n32  10 2007-04-03  6A          2007-04-20             6A\n33  10 2007-07-12  6ACU        2007-07-17             6A\n34  10 2007-07-27  6A          2007-08-14             6A\n35  10 2008-10-19  6B          2008-10-26             6B\n36  10 2009-03-25  6A          2009-04-06             6A",
      "text/html": "<div>\n<style scoped>\n    .dataframe tbody tr th:only-of-type {\n        vertical-align: middle;\n    }\n\n    .dataframe tbody tr th {\n        vertical-align: top;\n    }\n\n    .dataframe thead th {\n        text-align: right;\n    }\n</style>\n<table border=\"1\" class=\"dataframe\">\n  <thead>\n    <tr style=\"text-align: right;\">\n      <th></th>\n      <th>ID</th>\n      <th>ADMIT DATE</th>\n      <th>ADMIT UNIT</th>\n      <th>DISCH DATE</th>\n      <th>DISCHARGE UNIT</th>\n    </tr>\n  </thead>\n  <tbody>\n    <tr>\n      <th>0</th>\n      <td>1</td>\n      <td>2005-12-28</td>\n      <td>NICU</td>\n      <td>2007-10-26</td>\n      <td>6A</td>\n    </tr>\n    <tr>\n      <th>1</th>\n      <td>2</td>\n      <td>2007-01-08</td>\n      <td>6A</td>\n      <td>2007-01-26</td>\n      <td>6A</td>\n    </tr>\n    <tr>\n      <th>2</th>\n      <td>2</td>\n      <td>2007-02-06</td>\n      <td>HOLD</td>\n      <td>2007-02-20</td>\n      <td>6A</td>\n    </tr>\n    <tr>\n      <th>3</th>\n      <td>3</td>\n      <td>2006-08-13</td>\n      <td>6A</td>\n      <td>2007-03-02</td>\n      <td>6A</td>\n    </tr>\n    <tr>\n      <th>4</th>\n      <td>3</td>\n      <td>2007-04-04</td>\n      <td>4D</td>\n      <td>2007-04-04</td>\n      <td>4D</td>\n    </tr>\n    <tr>\n      <th>5</th>\n      <td>4</td>\n      <td>2007-02-13</td>\n      <td>6ACU</td>\n      <td>2007-03-19</td>\n      <td>6A</td>\n    </tr>\n    <tr>\n      <th>6</th>\n      <td>4</td>\n      <td>2007-04-17</td>\n      <td>6A</td>\n      <td>2007-05-04</td>\n      <td>6A</td>\n    </tr>\n    <tr>\n      <th>7</th>\n      <td>4</td>\n      <td>2007-11-07</td>\n      <td>6A</td>\n      <td>2007-11-11</td>\n      <td>6A</td>\n    </tr>\n    <tr>\n      <th>8</th>\n      <td>4</td>\n      <td>2007-12-10</td>\n      <td>6A</td>\n      <td>2007-12-10</td>\n      <td>6A</td>\n    </tr>\n    <tr>\n      <th>9</th>\n      <td>4</td>\n      <td>2008-06-09</td>\n      <td>6A</td>\n      <td>2008-06-12</td>\n      <td>6B</td>\n    </tr>\n    <tr>\n      <th>10</th>\n      <td>4</td>\n      <td>2009-01-15</td>\n      <td>6ACU</td>\n      <td>2009-01-18</td>\n      <td>6A</td>\n    </tr>\n    <tr>\n      <th>11</th>\n      <td>5</td>\n      <td>2007-02-06</td>\n      <td>5A</td>\n      <td>2007-04-16</td>\n      <td>6A</td>\n    </tr>\n    <tr>\n      <th>12</th>\n      <td>5</td>\n      <td>2007-05-05</td>\n      <td>HOLD</td>\n      <td>2007-07-04</td>\n      <td>6A</td>\n    </tr>\n    <tr>\n      <th>13</th>\n      <td>5</td>\n      <td>2007-07-24</td>\n      <td>6A</td>\n      <td>2007-07-25</td>\n      <td>6A</td>\n    </tr>\n    <tr>\n      <th>14</th>\n      <td>5</td>\n      <td>2007-08-21</td>\n      <td>6A</td>\n      <td>2007-10-16</td>\n      <td>6A</td>\n    </tr>\n    <tr>\n      <th>15</th>\n      <td>5</td>\n      <td>2009-02-24</td>\n      <td>HOLD</td>\n      <td>2009-03-04</td>\n      <td>6A</td>\n    </tr>\n    <tr>\n      <th>16</th>\n      <td>6</td>\n      <td>2006-11-09</td>\n      <td>6ACU</td>\n      <td>2007-03-14</td>\n      <td>6A</td>\n    </tr>\n    <tr>\n      <th>17</th>\n      <td>6</td>\n      <td>2007-04-12</td>\n      <td>7E</td>\n      <td>2007-04-14</td>\n      <td>7E</td>\n    </tr>\n    <tr>\n      <th>18</th>\n      <td>6</td>\n      <td>2007-06-27</td>\n      <td>6ACU</td>\n      <td>2007-06-28</td>\n      <td>6ACU</td>\n    </tr>\n    <tr>\n      <th>19</th>\n      <td>6</td>\n      <td>2007-07-27</td>\n      <td>HOLD</td>\n      <td>2007-08-03</td>\n      <td>6A</td>\n    </tr>\n    <tr>\n      <th>20</th>\n      <td>6</td>\n      <td>2007-10-08</td>\n      <td>6A</td>\n      <td>2007-10-15</td>\n      <td>6A</td>\n    </tr>\n    <tr>\n      <th>21</th>\n      <td>6</td>\n      <td>2008-03-19</td>\n      <td>6A</td>\n      <td>2008-03-31</td>\n      <td>6A</td>\n    </tr>\n    <tr>\n      <th>22</th>\n      <td>6</td>\n      <td>2008-09-12</td>\n      <td>6A</td>\n      <td>2008-09-15</td>\n      <td>6A</td>\n    </tr>\n    <tr>\n      <th>23</th>\n      <td>6</td>\n      <td>2009-01-17</td>\n      <td>HOLD</td>\n      <td>2009-01-19</td>\n      <td>6A</td>\n    </tr>\n    <tr>\n      <th>24</th>\n      <td>7</td>\n      <td>2007-03-05</td>\n      <td>6A</td>\n      <td>2007-03-21</td>\n      <td>6A</td>\n    </tr>\n    <tr>\n      <th>25</th>\n      <td>8</td>\n      <td>2007-03-25</td>\n      <td>6A</td>\n      <td>2007-05-08</td>\n      <td>6A</td>\n    </tr>\n    <tr>\n      <th>26</th>\n      <td>8</td>\n      <td>2007-06-02</td>\n      <td>HOLD</td>\n      <td>2007-06-10</td>\n      <td>6A</td>\n    </tr>\n    <tr>\n      <th>27</th>\n      <td>8</td>\n      <td>2007-10-11</td>\n      <td>4C</td>\n      <td>2007-10-17</td>\n      <td>6A</td>\n    </tr>\n    <tr>\n      <th>28</th>\n      <td>8</td>\n      <td>2008-09-15</td>\n      <td>6A</td>\n      <td>2008-09-15</td>\n      <td>6A</td>\n    </tr>\n    <tr>\n      <th>29</th>\n      <td>9</td>\n      <td>2007-03-25</td>\n      <td>6A</td>\n      <td>2007-04-17</td>\n      <td>6A</td>\n    </tr>\n    <tr>\n      <th>30</th>\n      <td>9</td>\n      <td>2007-11-29</td>\n      <td>6A</td>\n      <td>2007-12-01</td>\n      <td>6A</td>\n    </tr>\n    <tr>\n      <th>31</th>\n      <td>9</td>\n      <td>2008-02-07</td>\n      <td>6A</td>\n      <td>2008-02-09</td>\n      <td>6A</td>\n    </tr>\n    <tr>\n      <th>32</th>\n      <td>10</td>\n      <td>2007-04-03</td>\n      <td>6A</td>\n      <td>2007-04-20</td>\n      <td>6A</td>\n    </tr>\n    <tr>\n      <th>33</th>\n      <td>10</td>\n      <td>2007-07-12</td>\n      <td>6ACU</td>\n      <td>2007-07-17</td>\n      <td>6A</td>\n    </tr>\n    <tr>\n      <th>34</th>\n      <td>10</td>\n      <td>2007-07-27</td>\n      <td>6A</td>\n      <td>2007-08-14</td>\n      <td>6A</td>\n    </tr>\n    <tr>\n      <th>35</th>\n      <td>10</td>\n      <td>2008-10-19</td>\n      <td>6B</td>\n      <td>2008-10-26</td>\n      <td>6B</td>\n    </tr>\n    <tr>\n      <th>36</th>\n      <td>10</td>\n      <td>2009-03-25</td>\n      <td>6A</td>\n      <td>2009-04-06</td>\n      <td>6A</td>\n    </tr>\n  </tbody>\n</table>\n</div>"
     },
     "execution_count": 101,
     "metadata": {},
     "output_type": "execute_result"
    }
   ],
   "source": [
    "df_admissions"
   ],
   "metadata": {
    "collapsed": false,
    "ExecuteTime": {
     "end_time": "2023-12-07T04:44:34.432700Z",
     "start_time": "2023-12-07T04:44:34.365104Z"
    }
   },
   "id": "c96363b7bb528e12"
  },
  {
   "cell_type": "code",
   "execution_count": 102,
   "outputs": [],
   "source": [
    "df = admission_admit(df_admissions)"
   ],
   "metadata": {
    "collapsed": false,
    "ExecuteTime": {
     "end_time": "2023-12-07T04:44:34.989472Z",
     "start_time": "2023-12-07T04:44:34.931022Z"
    }
   },
   "id": "c6626fc5ecf9892"
  },
  {
   "cell_type": "code",
   "execution_count": 103,
   "outputs": [
    {
     "data": {
      "text/plain": "ID\n1     2007-10-26\n2     2007-02-20\n3     2007-04-04\n4     2009-01-18\n5     2009-03-04\n6     2009-01-19\n7     2007-03-21\n8     2008-09-15\n9     2008-02-09\n10    2009-04-06\nName: DISCH DATE, dtype: object"
     },
     "execution_count": 103,
     "metadata": {},
     "output_type": "execute_result"
    }
   ],
   "source": [
    "df"
   ],
   "metadata": {
    "collapsed": false,
    "ExecuteTime": {
     "end_time": "2023-12-07T04:44:36.053512Z",
     "start_time": "2023-12-07T04:44:35.981942Z"
    }
   },
   "id": "3495fc9592e99ac"
  },
  {
   "cell_type": "code",
   "execution_count": null,
   "outputs": [],
   "source": [
    "concatenated_df = pd.concat([df1, df2], axis=1)"
   ],
   "metadata": {
    "collapsed": false
   },
   "id": "c46526b9609bfe7a"
  },
  {
   "cell_type": "code",
   "execution_count": 118,
   "outputs": [],
   "source": [
    "df_glucose = pd.read_excel('/Users/prakashgupta/radboudUMC-assignment/data/source/data/1-10/Glucose 5,8,9.xls')"
   ],
   "metadata": {
    "collapsed": false,
    "ExecuteTime": {
     "end_time": "2023-12-07T04:46:49.003815Z",
     "start_time": "2023-12-07T04:46:48.812805Z"
    }
   },
   "id": "11a451d660c93793"
  },
  {
   "cell_type": "code",
   "execution_count": 119,
   "outputs": [],
   "source": [
    "df_glucose['result'] = pd.to_numeric(df_glucose['result'], errors='coerce')"
   ],
   "metadata": {
    "collapsed": false,
    "ExecuteTime": {
     "end_time": "2023-12-07T04:46:51.627041Z",
     "start_time": "2023-12-07T04:46:51.561562Z"
    }
   },
   "id": "da301f86b01ae12b"
  },
  {
   "cell_type": "code",
   "execution_count": 120,
   "outputs": [],
   "source": [
    "df_2= df_glucose.groupby('id')['result'].mean()"
   ],
   "metadata": {
    "collapsed": false,
    "ExecuteTime": {
     "end_time": "2023-12-07T04:46:55.385329Z",
     "start_time": "2023-12-07T04:46:55.308720Z"
    }
   },
   "id": "1e8ffbad03158a5b"
  },
  {
   "cell_type": "code",
   "execution_count": 44,
   "outputs": [],
   "source": [
    "df_glucose['result'] =pd.to_numeric(df_glucose['result'], errors='coerce')"
   ],
   "metadata": {
    "collapsed": false,
    "ExecuteTime": {
     "end_time": "2023-12-07T04:31:48.514706Z",
     "start_time": "2023-12-07T04:31:48.459203Z"
    }
   },
   "id": "619b637795cc2f7"
  },
  {
   "cell_type": "code",
   "execution_count": 123,
   "outputs": [],
   "source": [
    "concatenated_df = pd.concat([df_3, df_2], axis=1)"
   ],
   "metadata": {
    "collapsed": false,
    "ExecuteTime": {
     "end_time": "2023-12-07T04:47:33.856318Z",
     "start_time": "2023-12-07T04:47:33.778263Z"
    }
   },
   "id": "5beec5a96d56a163"
  },
  {
   "cell_type": "code",
   "execution_count": 107,
   "outputs": [],
   "source": [
    "df_combined = df.combine_first(df_2)"
   ],
   "metadata": {
    "collapsed": false,
    "ExecuteTime": {
     "end_time": "2023-12-07T04:44:47.949819Z",
     "start_time": "2023-12-07T04:44:47.883842Z"
    }
   },
   "id": "3c0020be2ec8e685"
  },
  {
   "cell_type": "code",
   "execution_count": 125,
   "outputs": [
    {
     "data": {
      "text/plain": "      result    result\nid                    \n1   6.780894       NaN\n2   6.427160       NaN\n3   5.584746       NaN\n4   5.043599       NaN\n5        NaN  7.718204\n6   5.589623       NaN\n7   6.651613       NaN\n8        NaN  7.746317\n9        NaN  5.966154\n10  5.776288       NaN",
      "text/html": "<div>\n<style scoped>\n    .dataframe tbody tr th:only-of-type {\n        vertical-align: middle;\n    }\n\n    .dataframe tbody tr th {\n        vertical-align: top;\n    }\n\n    .dataframe thead th {\n        text-align: right;\n    }\n</style>\n<table border=\"1\" class=\"dataframe\">\n  <thead>\n    <tr style=\"text-align: right;\">\n      <th></th>\n      <th>result</th>\n      <th>result</th>\n    </tr>\n    <tr>\n      <th>id</th>\n      <th></th>\n      <th></th>\n    </tr>\n  </thead>\n  <tbody>\n    <tr>\n      <th>1</th>\n      <td>6.780894</td>\n      <td>NaN</td>\n    </tr>\n    <tr>\n      <th>2</th>\n      <td>6.427160</td>\n      <td>NaN</td>\n    </tr>\n    <tr>\n      <th>3</th>\n      <td>5.584746</td>\n      <td>NaN</td>\n    </tr>\n    <tr>\n      <th>4</th>\n      <td>5.043599</td>\n      <td>NaN</td>\n    </tr>\n    <tr>\n      <th>5</th>\n      <td>NaN</td>\n      <td>7.718204</td>\n    </tr>\n    <tr>\n      <th>6</th>\n      <td>5.589623</td>\n      <td>NaN</td>\n    </tr>\n    <tr>\n      <th>7</th>\n      <td>6.651613</td>\n      <td>NaN</td>\n    </tr>\n    <tr>\n      <th>8</th>\n      <td>NaN</td>\n      <td>7.746317</td>\n    </tr>\n    <tr>\n      <th>9</th>\n      <td>NaN</td>\n      <td>5.966154</td>\n    </tr>\n    <tr>\n      <th>10</th>\n      <td>5.776288</td>\n      <td>NaN</td>\n    </tr>\n  </tbody>\n</table>\n</div>"
     },
     "execution_count": 125,
     "metadata": {},
     "output_type": "execute_result"
    }
   ],
   "source": [
    "concatenated_df"
   ],
   "metadata": {
    "collapsed": false,
    "ExecuteTime": {
     "end_time": "2023-12-07T04:47:43.073112Z",
     "start_time": "2023-12-07T04:47:43.008994Z"
    }
   },
   "id": "d4250e695de92b6a"
  },
  {
   "cell_type": "code",
   "execution_count": 80,
   "outputs": [
    {
     "data": {
      "text/plain": "ID\n1    2007-10-26\n2    2007-02-20\n3    2007-04-04\n4    2009-01-18\n5    2009-03-04\n6    2009-01-19\n7    2007-03-21\n8    2008-09-15\n9    2008-02-09\n10   2009-04-06\nName: DISCH DATE, dtype: datetime64[ns]"
     },
     "execution_count": 80,
     "metadata": {},
     "output_type": "execute_result"
    }
   ],
   "source": [
    "concatenated_df.groupby('ID')['DISCH DATE'].max()"
   ],
   "metadata": {
    "collapsed": false,
    "ExecuteTime": {
     "end_time": "2023-12-07T04:38:42.490183Z",
     "start_time": "2023-12-07T04:38:42.372208Z"
    }
   },
   "id": "56208addb8c8748"
  },
  {
   "cell_type": "code",
   "execution_count": 81,
   "outputs": [
    {
     "data": {
      "text/plain": "ID\n1     2007-10-26\n2     2007-02-20\n3     2007-04-04\n4     2009-01-18\n5     2009-03-04\n6     2009-01-19\n7     2007-03-21\n8     2008-09-15\n9     2008-02-09\n10    2009-04-06\nName: DISCH DATE, dtype: object"
     },
     "execution_count": 81,
     "metadata": {},
     "output_type": "execute_result"
    }
   ],
   "source": [],
   "metadata": {
    "collapsed": false,
    "ExecuteTime": {
     "end_time": "2023-12-07T04:39:26.369578Z",
     "start_time": "2023-12-07T04:39:26.273337Z"
    }
   },
   "id": "2bcddb1598b68ea6"
  },
  {
   "cell_type": "code",
   "execution_count": null,
   "outputs": [],
   "source": [],
   "metadata": {
    "collapsed": false
   },
   "id": "215f31e66a4634aa"
  }
 ],
 "metadata": {
  "kernelspec": {
   "display_name": "Python 3",
   "language": "python",
   "name": "python3"
  },
  "language_info": {
   "codemirror_mode": {
    "name": "ipython",
    "version": 2
   },
   "file_extension": ".py",
   "mimetype": "text/x-python",
   "name": "python",
   "nbconvert_exporter": "python",
   "pygments_lexer": "ipython2",
   "version": "2.7.6"
  }
 },
 "nbformat": 4,
 "nbformat_minor": 5
}
