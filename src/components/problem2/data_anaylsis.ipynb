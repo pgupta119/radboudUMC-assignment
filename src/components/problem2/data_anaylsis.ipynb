{
 "cells": [
  {
   "cell_type": "code",
   "execution_count": 1,
   "id": "initial_id",
   "metadata": {
    "collapsed": true,
    "ExecuteTime": {
     "end_time": "2023-12-07T00:32:38.748781Z",
     "start_time": "2023-12-07T00:32:38.747158Z"
    }
   },
   "outputs": [],
   "source": [
    "import pandas as pd\n",
    "import numpy as np\n",
    "import matplotlib.pyplot as plt\n",
    "import seaborn as sns\n",
    "import os"
   ]
  },
  {
   "cell_type": "markdown",
   "source": [
    "### Load data of 4 files and understand it "
   ],
   "metadata": {
    "collapsed": false
   },
   "id": "a762ea5722c21107"
  },
  {
   "cell_type": "markdown",
   "source": [
    "### first file Age of transplant"
   ],
   "metadata": {
    "collapsed": false
   },
   "id": "f8bfc288414ad9a7"
  },
  {
   "cell_type": "markdown",
   "source": [
    "#### load data"
   ],
   "metadata": {
    "collapsed": false
   },
   "id": "cdc1bb55c0dc740c"
  },
  {
   "cell_type": "code",
   "execution_count": 3,
   "outputs": [],
   "source": [
    "df_age = pd.read_excel('/Users/prakashgupta/radboudUMC-assignment/data/source/data/Age at transplant.xls')"
   ],
   "metadata": {
    "collapsed": false,
    "ExecuteTime": {
     "end_time": "2023-12-07T00:35:03.368941Z",
     "start_time": "2023-12-07T00:35:03.237999Z"
    }
   },
   "id": "3e3d34e85be423a4"
  },
  {
   "cell_type": "code",
   "execution_count": 7,
   "outputs": [],
   "source": [
    "## delete the Eligible , app , DOB\n",
    "df_age.drop(['Eligible','App','DOB'],axis=1,inplace=True)"
   ],
   "metadata": {
    "collapsed": false,
    "ExecuteTime": {
     "end_time": "2023-12-07T00:36:56.589699Z",
     "start_time": "2023-12-07T00:36:56.569336Z"
    }
   },
   "id": "33f6ea4a16e8173"
  },
  {
   "cell_type": "code",
   "execution_count": 10,
   "outputs": [
    {
     "data": {
      "text/plain": "       ID Type of transplant        DOT  Age at Tx Gender\n0    1001           Multiple 2006-11-25          0      M\n1    1002              Liver 2007-09-01          0      M\n2    1003              Liver 2007-01-02          0      F\n3    1004             Kidney 2007-02-14         12      M\n4    1005              Liver 2007-02-16         12      M\n..    ...                ...        ...        ...    ...\n489  1502              Liver 2009-02-28          8      M\n490  1503              Heart 1999-06-24          0      F\n491  1504               Lung 2008-05-19         14      M\n492  1506              Liver 2001-02-23          0      M\n493  1507               Lung 2008-08-02         16      F\n\n[494 rows x 5 columns]",
      "text/html": "<div>\n<style scoped>\n    .dataframe tbody tr th:only-of-type {\n        vertical-align: middle;\n    }\n\n    .dataframe tbody tr th {\n        vertical-align: top;\n    }\n\n    .dataframe thead th {\n        text-align: right;\n    }\n</style>\n<table border=\"1\" class=\"dataframe\">\n  <thead>\n    <tr style=\"text-align: right;\">\n      <th></th>\n      <th>ID</th>\n      <th>Type of transplant</th>\n      <th>DOT</th>\n      <th>Age at Tx</th>\n      <th>Gender</th>\n    </tr>\n  </thead>\n  <tbody>\n    <tr>\n      <th>0</th>\n      <td>1001</td>\n      <td>Multiple</td>\n      <td>2006-11-25</td>\n      <td>0</td>\n      <td>M</td>\n    </tr>\n    <tr>\n      <th>1</th>\n      <td>1002</td>\n      <td>Liver</td>\n      <td>2007-09-01</td>\n      <td>0</td>\n      <td>M</td>\n    </tr>\n    <tr>\n      <th>2</th>\n      <td>1003</td>\n      <td>Liver</td>\n      <td>2007-01-02</td>\n      <td>0</td>\n      <td>F</td>\n    </tr>\n    <tr>\n      <th>3</th>\n      <td>1004</td>\n      <td>Kidney</td>\n      <td>2007-02-14</td>\n      <td>12</td>\n      <td>M</td>\n    </tr>\n    <tr>\n      <th>4</th>\n      <td>1005</td>\n      <td>Liver</td>\n      <td>2007-02-16</td>\n      <td>12</td>\n      <td>M</td>\n    </tr>\n    <tr>\n      <th>...</th>\n      <td>...</td>\n      <td>...</td>\n      <td>...</td>\n      <td>...</td>\n      <td>...</td>\n    </tr>\n    <tr>\n      <th>489</th>\n      <td>1502</td>\n      <td>Liver</td>\n      <td>2009-02-28</td>\n      <td>8</td>\n      <td>M</td>\n    </tr>\n    <tr>\n      <th>490</th>\n      <td>1503</td>\n      <td>Heart</td>\n      <td>1999-06-24</td>\n      <td>0</td>\n      <td>F</td>\n    </tr>\n    <tr>\n      <th>491</th>\n      <td>1504</td>\n      <td>Lung</td>\n      <td>2008-05-19</td>\n      <td>14</td>\n      <td>M</td>\n    </tr>\n    <tr>\n      <th>492</th>\n      <td>1506</td>\n      <td>Liver</td>\n      <td>2001-02-23</td>\n      <td>0</td>\n      <td>M</td>\n    </tr>\n    <tr>\n      <th>493</th>\n      <td>1507</td>\n      <td>Lung</td>\n      <td>2008-08-02</td>\n      <td>16</td>\n      <td>F</td>\n    </tr>\n  </tbody>\n</table>\n<p>494 rows × 5 columns</p>\n</div>"
     },
     "execution_count": 10,
     "metadata": {},
     "output_type": "execute_result"
    }
   ],
   "source": [
    "df_age"
   ],
   "metadata": {
    "collapsed": false,
    "ExecuteTime": {
     "end_time": "2023-12-07T00:37:25.454432Z",
     "start_time": "2023-12-07T00:37:25.439064Z"
    }
   },
   "id": "7548ce7144a10a78"
  },
  {
   "cell_type": "code",
   "execution_count": 11,
   "outputs": [
    {
     "data": {
      "text/plain": "count    494.000000\nmean       7.536437\nstd        6.147089\nmin        0.000000\n25%        1.000000\n50%        8.000000\n75%       13.750000\nmax       19.000000\nName: Age at Tx, dtype: float64"
     },
     "execution_count": 11,
     "metadata": {},
     "output_type": "execute_result"
    }
   ],
   "source": [
    "df_age['Age at Tx'].describe()"
   ],
   "metadata": {
    "collapsed": false,
    "ExecuteTime": {
     "end_time": "2023-12-07T00:39:21.653175Z",
     "start_time": "2023-12-07T00:39:21.626497Z"
    }
   },
   "id": "7146fcdfcfe0ed1d"
  },
  {
   "cell_type": "code",
   "execution_count": 12,
   "outputs": [
    {
     "data": {
      "text/plain": "<AxesSubplot: ylabel='Frequency'>"
     },
     "execution_count": 12,
     "metadata": {},
     "output_type": "execute_result"
    },
    {
     "data": {
      "text/plain": "<Figure size 640x480 with 1 Axes>",
      "image/png": "[encoded data removed]"
     },
     "metadata": {},
     "output_type": "display_data"
    }
   ],
   "source": [
    "# Age at Tx \n",
    "df_age['Age at Tx'].plot(kind='hist')"
   ],
   "metadata": {
    "collapsed": false,
    "ExecuteTime": {
     "end_time": "2023-12-07T00:39:41.662867Z",
     "start_time": "2023-12-07T00:39:41.365273Z"
    }
   },
   "id": "eb78a7bd2a918f87"
  },
  {
   "cell_type": "markdown",
   "source": [
    "### second file Comed Tornotp"
   ],
   "metadata": {
    "collapsed": false
   },
   "id": "c54a5a7637972db6"
  },
  {
   "cell_type": "markdown",
   "source": [
    "#### load data"
   ],
   "metadata": {
    "collapsed": false
   },
   "id": "bb9ad89c8041767d"
  },
  {
   "cell_type": "code",
   "execution_count": 14,
   "outputs": [],
   "source": [
    "df_comed = pd.read_excel('/Users/prakashgupta/radboudUMC-assignment/data/source/data/Comed Toronto.xls')"
   ],
   "metadata": {
    "collapsed": false,
    "ExecuteTime": {
     "end_time": "2023-12-07T00:41:22.373940Z",
     "start_time": "2023-12-07T00:41:22.343142Z"
    }
   },
   "id": "2946504995dc05e0"
  },
  {
   "cell_type": "code",
   "execution_count": 15,
   "outputs": [
    {
     "data": {
      "text/plain": "     Study ID      1st tx  1 week  1 month  3 months  6 months  9 months  \\\n0        1001  11/25/2006       1        0         0         0         0   \n1        1002  01/09/2007       0        1         0         0         0   \n2        1003  02/01/2007       1        0         0         0         0   \n3        1004  02/14/2007       1        1         1         1         0   \n4        1005  02/16/2007       1        0         1         1         0   \n..        ...         ...     ...      ...       ...       ...       ...   \n478      1502  02/28/2009       0        1         1         0         0   \n479      1503  06/24/2009       0        0         0         0         0   \n480      1504  05/19/2008       1        1         1         0         0   \n481      1506  02/23/2001       0        1         1         1         1   \n482      1507  08/02/2008       1        1         1         1         0   \n\n     12 months  24 months  36 months   ...  12 months.2  24 months.2  \\\n0            0          0           0  ...          NaN          NaN   \n1            0          0           0  ...          NaN          NaN   \n2            0          0           0  ...          NaN          NaN   \n3            0          0           0  ...          NaN          NaN   \n4            0          0           0  ...          NaN          NaN   \n..         ...        ...         ...  ...          ...          ...   \n478          0          0           0  ...          NaN          NaN   \n479          0          0           0  ...          NaN          NaN   \n480          0          0           0  ...          NaN          NaN   \n481          1          0           0  ...          NaN          NaN   \n482          0          0           0  ...          NaN          NaN   \n\n     36 months .2  48 months.2  60 months.2  72 months.2  84 months.2  \\\n0             NaN          NaN          NaN          NaN          NaN   \n1             NaN          NaN          NaN          NaN          NaN   \n2             NaN          NaN          NaN          NaN          NaN   \n3             NaN          NaN          NaN          NaN          NaN   \n4             NaN          NaN          NaN          NaN          NaN   \n..            ...          ...          ...          ...          ...   \n478           NaN          NaN          NaN          NaN          NaN   \n479           NaN          NaN          NaN          NaN          NaN   \n480           NaN          NaN          NaN          NaN          NaN   \n481           NaN          NaN          NaN          NaN          NaN   \n482           NaN          NaN          NaN          NaN          NaN   \n\n    96 months.2  108 months.2  120 months.2  \n0           NaN           NaN           NaN  \n1           NaN           NaN           NaN  \n2           NaN           NaN           NaN  \n3           NaN           NaN           NaN  \n4           NaN           NaN           NaN  \n..          ...           ...           ...  \n478         NaN           NaN           NaN  \n479         NaN           NaN           NaN  \n480         NaN           NaN           NaN  \n481         NaN           NaN           NaN  \n482         NaN           NaN           NaN  \n\n[483 rows x 49 columns]",
      "text/html": "<div>\n<style scoped>\n    .dataframe tbody tr th:only-of-type {\n        vertical-align: middle;\n    }\n\n    .dataframe tbody tr th {\n        vertical-align: top;\n    }\n\n    .dataframe thead th {\n        text-align: right;\n    }\n</style>\n<table border=\"1\" class=\"dataframe\">\n  <thead>\n    <tr style=\"text-align: right;\">\n      <th></th>\n      <th>Study ID</th>\n      <th>1st tx</th>\n      <th>1 week</th>\n      <th>1 month</th>\n      <th>3 months</th>\n      <th>6 months</th>\n      <th>9 months</th>\n      <th>12 months</th>\n      <th>24 months</th>\n      <th>36 months</th>\n      <th>...</th>\n      <th>12 months.2</th>\n      <th>24 months.2</th>\n      <th>36 months .2</th>\n      <th>48 months.2</th>\n      <th>60 months.2</th>\n      <th>72 months.2</th>\n      <th>84 months.2</th>\n      <th>96 months.2</th>\n      <th>108 months.2</th>\n      <th>120 months.2</th>\n    </tr>\n  </thead>\n  <tbody>\n    <tr>\n      <th>0</th>\n      <td>1001</td>\n      <td>11/25/2006</td>\n      <td>1</td>\n      <td>0</td>\n      <td>0</td>\n      <td>0</td>\n      <td>0</td>\n      <td>0</td>\n      <td>0</td>\n      <td>0</td>\n      <td>...</td>\n      <td>NaN</td>\n      <td>NaN</td>\n      <td>NaN</td>\n      <td>NaN</td>\n      <td>NaN</td>\n      <td>NaN</td>\n      <td>NaN</td>\n      <td>NaN</td>\n      <td>NaN</td>\n      <td>NaN</td>\n    </tr>\n    <tr>\n      <th>1</th>\n      <td>1002</td>\n      <td>01/09/2007</td>\n      <td>0</td>\n      <td>1</td>\n      <td>0</td>\n      <td>0</td>\n      <td>0</td>\n      <td>0</td>\n      <td>0</td>\n      <td>0</td>\n      <td>...</td>\n      <td>NaN</td>\n      <td>NaN</td>\n      <td>NaN</td>\n      <td>NaN</td>\n      <td>NaN</td>\n      <td>NaN</td>\n      <td>NaN</td>\n      <td>NaN</td>\n      <td>NaN</td>\n      <td>NaN</td>\n    </tr>\n    <tr>\n      <th>2</th>\n      <td>1003</td>\n      <td>02/01/2007</td>\n      <td>1</td>\n      <td>0</td>\n      <td>0</td>\n      <td>0</td>\n      <td>0</td>\n      <td>0</td>\n      <td>0</td>\n      <td>0</td>\n      <td>...</td>\n      <td>NaN</td>\n      <td>NaN</td>\n      <td>NaN</td>\n      <td>NaN</td>\n      <td>NaN</td>\n      <td>NaN</td>\n      <td>NaN</td>\n      <td>NaN</td>\n      <td>NaN</td>\n      <td>NaN</td>\n    </tr>\n    <tr>\n      <th>3</th>\n      <td>1004</td>\n      <td>02/14/2007</td>\n      <td>1</td>\n      <td>1</td>\n      <td>1</td>\n      <td>1</td>\n      <td>0</td>\n      <td>0</td>\n      <td>0</td>\n      <td>0</td>\n      <td>...</td>\n      <td>NaN</td>\n      <td>NaN</td>\n      <td>NaN</td>\n      <td>NaN</td>\n      <td>NaN</td>\n      <td>NaN</td>\n      <td>NaN</td>\n      <td>NaN</td>\n      <td>NaN</td>\n      <td>NaN</td>\n    </tr>\n    <tr>\n      <th>4</th>\n      <td>1005</td>\n      <td>02/16/2007</td>\n      <td>1</td>\n      <td>0</td>\n      <td>1</td>\n      <td>1</td>\n      <td>0</td>\n      <td>0</td>\n      <td>0</td>\n      <td>0</td>\n      <td>...</td>\n      <td>NaN</td>\n      <td>NaN</td>\n      <td>NaN</td>\n      <td>NaN</td>\n      <td>NaN</td>\n      <td>NaN</td>\n      <td>NaN</td>\n      <td>NaN</td>\n      <td>NaN</td>\n      <td>NaN</td>\n    </tr>\n    <tr>\n      <th>...</th>\n      <td>...</td>\n      <td>...</td>\n      <td>...</td>\n      <td>...</td>\n      <td>...</td>\n      <td>...</td>\n      <td>...</td>\n      <td>...</td>\n      <td>...</td>\n      <td>...</td>\n      <td>...</td>\n      <td>...</td>\n      <td>...</td>\n      <td>...</td>\n      <td>...</td>\n      <td>...</td>\n      <td>...</td>\n      <td>...</td>\n      <td>...</td>\n      <td>...</td>\n      <td>...</td>\n    </tr>\n    <tr>\n      <th>478</th>\n      <td>1502</td>\n      <td>02/28/2009</td>\n      <td>0</td>\n      <td>1</td>\n      <td>1</td>\n      <td>0</td>\n      <td>0</td>\n      <td>0</td>\n      <td>0</td>\n      <td>0</td>\n      <td>...</td>\n      <td>NaN</td>\n      <td>NaN</td>\n      <td>NaN</td>\n      <td>NaN</td>\n      <td>NaN</td>\n      <td>NaN</td>\n      <td>NaN</td>\n      <td>NaN</td>\n      <td>NaN</td>\n      <td>NaN</td>\n    </tr>\n    <tr>\n      <th>479</th>\n      <td>1503</td>\n      <td>06/24/2009</td>\n      <td>0</td>\n      <td>0</td>\n      <td>0</td>\n      <td>0</td>\n      <td>0</td>\n      <td>0</td>\n      <td>0</td>\n      <td>0</td>\n      <td>...</td>\n      <td>NaN</td>\n      <td>NaN</td>\n      <td>NaN</td>\n      <td>NaN</td>\n      <td>NaN</td>\n      <td>NaN</td>\n      <td>NaN</td>\n      <td>NaN</td>\n      <td>NaN</td>\n      <td>NaN</td>\n    </tr>\n    <tr>\n      <th>480</th>\n      <td>1504</td>\n      <td>05/19/2008</td>\n      <td>1</td>\n      <td>1</td>\n      <td>1</td>\n      <td>0</td>\n      <td>0</td>\n      <td>0</td>\n      <td>0</td>\n      <td>0</td>\n      <td>...</td>\n      <td>NaN</td>\n      <td>NaN</td>\n      <td>NaN</td>\n      <td>NaN</td>\n      <td>NaN</td>\n      <td>NaN</td>\n      <td>NaN</td>\n      <td>NaN</td>\n      <td>NaN</td>\n      <td>NaN</td>\n    </tr>\n    <tr>\n      <th>481</th>\n      <td>1506</td>\n      <td>02/23/2001</td>\n      <td>0</td>\n      <td>1</td>\n      <td>1</td>\n      <td>1</td>\n      <td>1</td>\n      <td>1</td>\n      <td>0</td>\n      <td>0</td>\n      <td>...</td>\n      <td>NaN</td>\n      <td>NaN</td>\n      <td>NaN</td>\n      <td>NaN</td>\n      <td>NaN</td>\n      <td>NaN</td>\n      <td>NaN</td>\n      <td>NaN</td>\n      <td>NaN</td>\n      <td>NaN</td>\n    </tr>\n    <tr>\n      <th>482</th>\n      <td>1507</td>\n      <td>08/02/2008</td>\n      <td>1</td>\n      <td>1</td>\n      <td>1</td>\n      <td>1</td>\n      <td>0</td>\n      <td>0</td>\n      <td>0</td>\n      <td>0</td>\n      <td>...</td>\n      <td>NaN</td>\n      <td>NaN</td>\n      <td>NaN</td>\n      <td>NaN</td>\n      <td>NaN</td>\n      <td>NaN</td>\n      <td>NaN</td>\n      <td>NaN</td>\n      <td>NaN</td>\n      <td>NaN</td>\n    </tr>\n  </tbody>\n</table>\n<p>483 rows × 49 columns</p>\n</div>"
     },
     "execution_count": 15,
     "metadata": {},
     "output_type": "execute_result"
    }
   ],
   "source": [
    "df_comed"
   ],
   "metadata": {
    "collapsed": false,
    "ExecuteTime": {
     "end_time": "2023-12-07T00:41:25.871141Z",
     "start_time": "2023-12-07T00:41:25.847665Z"
    }
   },
   "id": "77327ea09915183a"
  },
  {
   "cell_type": "markdown",
   "source": [
    "#### Not able to understand what is the meaning of this data"
   ],
   "metadata": {
    "collapsed": false
   },
   "id": "20c1c14eace6bfd1"
  },
  {
   "cell_type": "markdown",
   "source": [
    "### third file Cotrims "
   ],
   "metadata": {
    "collapsed": false
   },
   "id": "7673192769ed9d5d"
  },
  {
   "cell_type": "markdown",
   "source": [
    "#### load data"
   ],
   "metadata": {
    "collapsed": false
   },
   "id": "c8bec6193c1cfa8b"
  },
  {
   "cell_type": "code",
   "execution_count": 17,
   "outputs": [],
   "source": [
    "df_cotrim = pd.read_excel('/Users/prakashgupta/radboudUMC-assignment/data/source/data/Cotrim.xls')"
   ],
   "metadata": {
    "collapsed": false,
    "ExecuteTime": {
     "end_time": "2023-12-07T00:45:47.339119Z",
     "start_time": "2023-12-07T00:45:47.300008Z"
    }
   },
   "id": "b0dd596231443b68"
  },
  {
   "cell_type": "code",
   "execution_count": 18,
   "outputs": [
    {
     "data": {
      "text/plain": "          StudyID  Startdate  StartTime             StopDate  StopTime  \\\n0            1169 2001-04-26        0.0  2020-05-07 00:00:00       0.0   \n1     TAC-SKZ-H13 2009-02-04        NaN  2009-02-04 00:00:00       NaN   \n2     TAC-SKZ-H13 2009-02-04        NaN  2009-02-04 00:00:00       NaN   \n3     TAC-SKZ-H13 2009-02-04        NaN  2041-11-15 00:00:00       NaN   \n4     TAC-SKZ-H10 1999-11-17        NaN  1999-11-19 00:00:00       NaN   \n...           ...        ...        ...                  ...       ...   \n1284         1502 2009-07-29        0.0               #NULL!       0.0   \n1285         1503 2009-07-30        0.0  2020-09-03 00:00:00       0.0   \n1286         1504 2008-06-11        0.0               #NULL!       0.0   \n1287         1506 2001-11-27        0.0  2020-03-14 00:00:00       0.0   \n1288         1507 2008-08-27        0.0               #NULL!       0.0   \n\n                                  Drug   Dose    Unit   Dosedesc  Route  \\\n0                          cotrimazole  500.0      mg     500 mg     po   \n1       COTRIMOXAZOL INFCONC 480MG=5ML  480.0      mg        NaN     IV   \n2       COTRIMOXAZOL INFCONC 480MG=5ML  480.0      mg        NaN  ORAAL   \n3       COTRIMOXAZOL INFCONC 480MG=5ML  480.0      mg        NaN  ORAAL   \n4     COTRIMOXAZOL INFCONC 480MG=5ML E    5.0      ml        NaN     IV   \n...                                ...    ...     ...        ...    ...   \n1284                     COTRIMOXAZOLE   80.0      mg       80mg     NJ   \n1285                     COTRIMOXAZOLE   20.0      MG       20MG  PO/NG   \n1286                     COTRIMOXAZOLE  160.0      MG      160MG     PO   \n1287                     COTRIMOXAZOLE   30.0  mg TMP  30 mg TMP     po   \n1288                     COTRIMOXAZOLE  160.0      mg     160 mg     po   \n\n     Schedule  ATCcode  \n0         qid  J01EE01  \n1         q8h  x Daags  \n2         q8h  x Daags  \n3         q8h  x Daags  \n4        q12h  x Daags  \n...       ...      ...  \n1284     QMWF  J01EE01  \n1285      MWF  J01EE01  \n1286      MWF  J01EE01  \n1287  Q M/W/F  J01EE01  \n1288      MWF  J01EE01  \n\n[1289 rows x 12 columns]",
      "text/html": "<div>\n<style scoped>\n    .dataframe tbody tr th:only-of-type {\n        vertical-align: middle;\n    }\n\n    .dataframe tbody tr th {\n        vertical-align: top;\n    }\n\n    .dataframe thead th {\n        text-align: right;\n    }\n</style>\n<table border=\"1\" class=\"dataframe\">\n  <thead>\n    <tr style=\"text-align: right;\">\n      <th></th>\n      <th>StudyID</th>\n      <th>Startdate</th>\n      <th>StartTime</th>\n      <th>StopDate</th>\n      <th>StopTime</th>\n      <th>Drug</th>\n      <th>Dose</th>\n      <th>Unit</th>\n      <th>Dosedesc</th>\n      <th>Route</th>\n      <th>Schedule</th>\n      <th>ATCcode</th>\n    </tr>\n  </thead>\n  <tbody>\n    <tr>\n      <th>0</th>\n      <td>1169</td>\n      <td>2001-04-26</td>\n      <td>0.0</td>\n      <td>2020-05-07 00:00:00</td>\n      <td>0.0</td>\n      <td>cotrimazole</td>\n      <td>500.0</td>\n      <td>mg</td>\n      <td>500 mg</td>\n      <td>po</td>\n      <td>qid</td>\n      <td>J01EE01</td>\n    </tr>\n    <tr>\n      <th>1</th>\n      <td>TAC-SKZ-H13</td>\n      <td>2009-02-04</td>\n      <td>NaN</td>\n      <td>2009-02-04 00:00:00</td>\n      <td>NaN</td>\n      <td>COTRIMOXAZOL INFCONC 480MG=5ML</td>\n      <td>480.0</td>\n      <td>mg</td>\n      <td>NaN</td>\n      <td>IV</td>\n      <td>q8h</td>\n      <td>x Daags</td>\n    </tr>\n    <tr>\n      <th>2</th>\n      <td>TAC-SKZ-H13</td>\n      <td>2009-02-04</td>\n      <td>NaN</td>\n      <td>2009-02-04 00:00:00</td>\n      <td>NaN</td>\n      <td>COTRIMOXAZOL INFCONC 480MG=5ML</td>\n      <td>480.0</td>\n      <td>mg</td>\n      <td>NaN</td>\n      <td>ORAAL</td>\n      <td>q8h</td>\n      <td>x Daags</td>\n    </tr>\n    <tr>\n      <th>3</th>\n      <td>TAC-SKZ-H13</td>\n      <td>2009-02-04</td>\n      <td>NaN</td>\n      <td>2041-11-15 00:00:00</td>\n      <td>NaN</td>\n      <td>COTRIMOXAZOL INFCONC 480MG=5ML</td>\n      <td>480.0</td>\n      <td>mg</td>\n      <td>NaN</td>\n      <td>ORAAL</td>\n      <td>q8h</td>\n      <td>x Daags</td>\n    </tr>\n    <tr>\n      <th>4</th>\n      <td>TAC-SKZ-H10</td>\n      <td>1999-11-17</td>\n      <td>NaN</td>\n      <td>1999-11-19 00:00:00</td>\n      <td>NaN</td>\n      <td>COTRIMOXAZOL INFCONC 480MG=5ML E</td>\n      <td>5.0</td>\n      <td>ml</td>\n      <td>NaN</td>\n      <td>IV</td>\n      <td>q12h</td>\n      <td>x Daags</td>\n    </tr>\n    <tr>\n      <th>...</th>\n      <td>...</td>\n      <td>...</td>\n      <td>...</td>\n      <td>...</td>\n      <td>...</td>\n      <td>...</td>\n      <td>...</td>\n      <td>...</td>\n      <td>...</td>\n      <td>...</td>\n      <td>...</td>\n      <td>...</td>\n    </tr>\n    <tr>\n      <th>1284</th>\n      <td>1502</td>\n      <td>2009-07-29</td>\n      <td>0.0</td>\n      <td>#NULL!</td>\n      <td>0.0</td>\n      <td>COTRIMOXAZOLE</td>\n      <td>80.0</td>\n      <td>mg</td>\n      <td>80mg</td>\n      <td>NJ</td>\n      <td>QMWF</td>\n      <td>J01EE01</td>\n    </tr>\n    <tr>\n      <th>1285</th>\n      <td>1503</td>\n      <td>2009-07-30</td>\n      <td>0.0</td>\n      <td>2020-09-03 00:00:00</td>\n      <td>0.0</td>\n      <td>COTRIMOXAZOLE</td>\n      <td>20.0</td>\n      <td>MG</td>\n      <td>20MG</td>\n      <td>PO/NG</td>\n      <td>MWF</td>\n      <td>J01EE01</td>\n    </tr>\n    <tr>\n      <th>1286</th>\n      <td>1504</td>\n      <td>2008-06-11</td>\n      <td>0.0</td>\n      <td>#NULL!</td>\n      <td>0.0</td>\n      <td>COTRIMOXAZOLE</td>\n      <td>160.0</td>\n      <td>MG</td>\n      <td>160MG</td>\n      <td>PO</td>\n      <td>MWF</td>\n      <td>J01EE01</td>\n    </tr>\n    <tr>\n      <th>1287</th>\n      <td>1506</td>\n      <td>2001-11-27</td>\n      <td>0.0</td>\n      <td>2020-03-14 00:00:00</td>\n      <td>0.0</td>\n      <td>COTRIMOXAZOLE</td>\n      <td>30.0</td>\n      <td>mg TMP</td>\n      <td>30 mg TMP</td>\n      <td>po</td>\n      <td>Q M/W/F</td>\n      <td>J01EE01</td>\n    </tr>\n    <tr>\n      <th>1288</th>\n      <td>1507</td>\n      <td>2008-08-27</td>\n      <td>0.0</td>\n      <td>#NULL!</td>\n      <td>0.0</td>\n      <td>COTRIMOXAZOLE</td>\n      <td>160.0</td>\n      <td>mg</td>\n      <td>160 mg</td>\n      <td>po</td>\n      <td>MWF</td>\n      <td>J01EE01</td>\n    </tr>\n  </tbody>\n</table>\n<p>1289 rows × 12 columns</p>\n</div>"
     },
     "execution_count": 18,
     "metadata": {},
     "output_type": "execute_result"
    }
   ],
   "source": [
    "df_cotrim"
   ],
   "metadata": {
    "collapsed": false,
    "ExecuteTime": {
     "end_time": "2023-12-07T00:45:50.419963Z",
     "start_time": "2023-12-07T00:45:50.346324Z"
    }
   },
   "id": "ab3756dfdfbe0e17"
  },
  {
   "cell_type": "markdown",
   "source": [
    "#### Preprocessing"
   ],
   "metadata": {
    "collapsed": false
   },
   "id": "43c2f03f92102e00"
  },
  {
   "cell_type": "code",
   "execution_count": 23,
   "outputs": [],
   "source": [
    "## delete  id which start TAC\n",
    "df_cotrim  = df_cotrim[~df_cotrim['StudyID'].astype(str).str.startswith(\"TAC-SKZ-\")]"
   ],
   "metadata": {
    "collapsed": false,
    "ExecuteTime": {
     "end_time": "2023-12-07T00:49:19.110779Z",
     "start_time": "2023-12-07T00:49:19.088241Z"
    }
   },
   "id": "49a7d0138fe990c2"
  },
  {
   "cell_type": "code",
   "execution_count": 24,
   "outputs": [
    {
     "data": {
      "text/plain": "     StudyID  Startdate  StartTime             StopDate  StopTime  \\\n0       1169 2001-04-26        0.0  2020-05-07 00:00:00       0.0   \n233     1002 2007-01-22        0.0  2020-01-24 00:00:00       0.0   \n234     1004 2007-04-17        0.0               #NULL!       0.0   \n235     1004 2007-11-07        0.0               #NULL!       0.0   \n236     1004 2008-06-09        0.0               #NULL!       0.0   \n...      ...        ...        ...                  ...       ...   \n1284    1502 2009-07-29        0.0               #NULL!       0.0   \n1285    1503 2009-07-30        0.0  2020-09-03 00:00:00       0.0   \n1286    1504 2008-06-11        0.0               #NULL!       0.0   \n1287    1506 2001-11-27        0.0  2020-03-14 00:00:00       0.0   \n1288    1507 2008-08-27        0.0               #NULL!       0.0   \n\n               Drug   Dose    Unit   Dosedesc   Route Schedule  ATCcode  \n0       cotrimazole  500.0      mg     500 mg      po      qid  J01EE01  \n233   cotrimoxazole   40.0      mg      40 mg      PO  3x/week  J01EE01  \n234   cotrimoxazole   40.0      mg      40 mg  g-tube    dialy  J01EE01  \n235   cotrimoxazole   40.0      mg      40 mg      iv     q24h  J01EE01  \n236   cotrimoxazole   40.0      mg      40 mg  g-tube     q24h  J01EE01  \n...             ...    ...     ...        ...     ...      ...      ...  \n1284  COTRIMOXAZOLE   80.0      mg       80mg      NJ     QMWF  J01EE01  \n1285  COTRIMOXAZOLE   20.0      MG       20MG   PO/NG      MWF  J01EE01  \n1286  COTRIMOXAZOLE  160.0      MG      160MG      PO      MWF  J01EE01  \n1287  COTRIMOXAZOLE   30.0  mg TMP  30 mg TMP      po  Q M/W/F  J01EE01  \n1288  COTRIMOXAZOLE  160.0      mg     160 mg      po      MWF  J01EE01  \n\n[1057 rows x 12 columns]",
      "text/html": "<div>\n<style scoped>\n    .dataframe tbody tr th:only-of-type {\n        vertical-align: middle;\n    }\n\n    .dataframe tbody tr th {\n        vertical-align: top;\n    }\n\n    .dataframe thead th {\n        text-align: right;\n    }\n</style>\n<table border=\"1\" class=\"dataframe\">\n  <thead>\n    <tr style=\"text-align: right;\">\n      <th></th>\n      <th>StudyID</th>\n      <th>Startdate</th>\n      <th>StartTime</th>\n      <th>StopDate</th>\n      <th>StopTime</th>\n      <th>Drug</th>\n      <th>Dose</th>\n      <th>Unit</th>\n      <th>Dosedesc</th>\n      <th>Route</th>\n      <th>Schedule</th>\n      <th>ATCcode</th>\n    </tr>\n  </thead>\n  <tbody>\n    <tr>\n      <th>0</th>\n      <td>1169</td>\n      <td>2001-04-26</td>\n      <td>0.0</td>\n      <td>2020-05-07 00:00:00</td>\n      <td>0.0</td>\n      <td>cotrimazole</td>\n      <td>500.0</td>\n      <td>mg</td>\n      <td>500 mg</td>\n      <td>po</td>\n      <td>qid</td>\n      <td>J01EE01</td>\n    </tr>\n    <tr>\n      <th>233</th>\n      <td>1002</td>\n      <td>2007-01-22</td>\n      <td>0.0</td>\n      <td>2020-01-24 00:00:00</td>\n      <td>0.0</td>\n      <td>cotrimoxazole</td>\n      <td>40.0</td>\n      <td>mg</td>\n      <td>40 mg</td>\n      <td>PO</td>\n      <td>3x/week</td>\n      <td>J01EE01</td>\n    </tr>\n    <tr>\n      <th>234</th>\n      <td>1004</td>\n      <td>2007-04-17</td>\n      <td>0.0</td>\n      <td>#NULL!</td>\n      <td>0.0</td>\n      <td>cotrimoxazole</td>\n      <td>40.0</td>\n      <td>mg</td>\n      <td>40 mg</td>\n      <td>g-tube</td>\n      <td>dialy</td>\n      <td>J01EE01</td>\n    </tr>\n    <tr>\n      <th>235</th>\n      <td>1004</td>\n      <td>2007-11-07</td>\n      <td>0.0</td>\n      <td>#NULL!</td>\n      <td>0.0</td>\n      <td>cotrimoxazole</td>\n      <td>40.0</td>\n      <td>mg</td>\n      <td>40 mg</td>\n      <td>iv</td>\n      <td>q24h</td>\n      <td>J01EE01</td>\n    </tr>\n    <tr>\n      <th>236</th>\n      <td>1004</td>\n      <td>2008-06-09</td>\n      <td>0.0</td>\n      <td>#NULL!</td>\n      <td>0.0</td>\n      <td>cotrimoxazole</td>\n      <td>40.0</td>\n      <td>mg</td>\n      <td>40 mg</td>\n      <td>g-tube</td>\n      <td>q24h</td>\n      <td>J01EE01</td>\n    </tr>\n    <tr>\n      <th>...</th>\n      <td>...</td>\n      <td>...</td>\n      <td>...</td>\n      <td>...</td>\n      <td>...</td>\n      <td>...</td>\n      <td>...</td>\n      <td>...</td>\n      <td>...</td>\n      <td>...</td>\n      <td>...</td>\n      <td>...</td>\n    </tr>\n    <tr>\n      <th>1284</th>\n      <td>1502</td>\n      <td>2009-07-29</td>\n      <td>0.0</td>\n      <td>#NULL!</td>\n      <td>0.0</td>\n      <td>COTRIMOXAZOLE</td>\n      <td>80.0</td>\n      <td>mg</td>\n      <td>80mg</td>\n      <td>NJ</td>\n      <td>QMWF</td>\n      <td>J01EE01</td>\n    </tr>\n    <tr>\n      <th>1285</th>\n      <td>1503</td>\n      <td>2009-07-30</td>\n      <td>0.0</td>\n      <td>2020-09-03 00:00:00</td>\n      <td>0.0</td>\n      <td>COTRIMOXAZOLE</td>\n      <td>20.0</td>\n      <td>MG</td>\n      <td>20MG</td>\n      <td>PO/NG</td>\n      <td>MWF</td>\n      <td>J01EE01</td>\n    </tr>\n    <tr>\n      <th>1286</th>\n      <td>1504</td>\n      <td>2008-06-11</td>\n      <td>0.0</td>\n      <td>#NULL!</td>\n      <td>0.0</td>\n      <td>COTRIMOXAZOLE</td>\n      <td>160.0</td>\n      <td>MG</td>\n      <td>160MG</td>\n      <td>PO</td>\n      <td>MWF</td>\n      <td>J01EE01</td>\n    </tr>\n    <tr>\n      <th>1287</th>\n      <td>1506</td>\n      <td>2001-11-27</td>\n      <td>0.0</td>\n      <td>2020-03-14 00:00:00</td>\n      <td>0.0</td>\n      <td>COTRIMOXAZOLE</td>\n      <td>30.0</td>\n      <td>mg TMP</td>\n      <td>30 mg TMP</td>\n      <td>po</td>\n      <td>Q M/W/F</td>\n      <td>J01EE01</td>\n    </tr>\n    <tr>\n      <th>1288</th>\n      <td>1507</td>\n      <td>2008-08-27</td>\n      <td>0.0</td>\n      <td>#NULL!</td>\n      <td>0.0</td>\n      <td>COTRIMOXAZOLE</td>\n      <td>160.0</td>\n      <td>mg</td>\n      <td>160 mg</td>\n      <td>po</td>\n      <td>MWF</td>\n      <td>J01EE01</td>\n    </tr>\n  </tbody>\n</table>\n<p>1057 rows × 12 columns</p>\n</div>"
     },
     "execution_count": 24,
     "metadata": {},
     "output_type": "execute_result"
    }
   ],
   "source": [
    "df_cotrim"
   ],
   "metadata": {
    "collapsed": false,
    "ExecuteTime": {
     "end_time": "2023-12-07T00:49:21.189263Z",
     "start_time": "2023-12-07T00:49:21.185577Z"
    }
   },
   "id": "4da14388b0a12fa1"
  },
  {
   "cell_type": "code",
   "execution_count": 25,
   "outputs": [
    {
     "data": {
      "text/plain": "array(['cotrimazole', 'cotrimoxazole', 'COTRIMOXAZOLE'], dtype=object)"
     },
     "execution_count": 25,
     "metadata": {},
     "output_type": "execute_result"
    }
   ],
   "source": [
    "## check which kind of drug takking by each patient\n",
    "df_cotrim['Drug'].unique()"
   ],
   "metadata": {
    "collapsed": false,
    "ExecuteTime": {
     "end_time": "2023-12-07T00:50:07.904060Z",
     "start_time": "2023-12-07T00:50:07.882208Z"
    }
   },
   "id": "f9670634caec9ef3"
  },
  {
   "cell_type": "markdown",
   "source": [
    "### fourth file Dialysis"
   ],
   "metadata": {
    "collapsed": false
   },
   "id": "492adeca33deb10e"
  },
  {
   "cell_type": "code",
   "execution_count": 27,
   "outputs": [],
   "source": [
    "df_dialysis = pd.read_excel('/Users/prakashgupta/radboudUMC-assignment/data/source/data/Dialysis dates.xls')"
   ],
   "metadata": {
    "collapsed": false,
    "ExecuteTime": {
     "end_time": "2023-12-07T00:57:05.994388Z",
     "start_time": "2023-12-07T00:57:05.976474Z"
    }
   },
   "id": "95e6cd829500768f"
  },
  {
   "cell_type": "code",
   "execution_count": 28,
   "outputs": [
    {
     "data": {
      "text/plain": "    Study ID  Type of dialysis  Start date  Stop date Pre-tx Post-tx  \\\n0          1                  1 2007-01-29 2007-10-26    NaN       x   \n1          4                  1 2000-01-19 2007-02-14      x     NaN   \n2          7                  1 2006-06-04 2006-06-14      x     NaN   \n3          7                  1 2006-10-06 2007-03-06      x     NaN   \n4         17                  2 2005-05-04 2007-06-18      x     NaN   \n..       ...                ...        ...        ...    ...     ...   \n59       464                  1 2008-04-16 2008-05-22      x     NaN   \n60       480                  1 2003-10-23 2003-11-04      x     NaN   \n61       483                  2 2006-12-20 2009-01-29    NaN       x   \n62       488                  1 2008-01-16 2008-03-31      x     NaN   \n63       488                  2 2008-04-01 2009-06-10      x     NaN   \n\n   Unnamed: 6  \n0         NaN  \n1         NaN  \n2         NaN  \n3         NaN  \n4         NaN  \n..        ...  \n59        NaN  \n60        NaN  \n61        NaN  \n62        NaN  \n63        NaN  \n\n[64 rows x 7 columns]",
      "text/html": "<div>\n<style scoped>\n    .dataframe tbody tr th:only-of-type {\n        vertical-align: middle;\n    }\n\n    .dataframe tbody tr th {\n        vertical-align: top;\n    }\n\n    .dataframe thead th {\n        text-align: right;\n    }\n</style>\n<table border=\"1\" class=\"dataframe\">\n  <thead>\n    <tr style=\"text-align: right;\">\n      <th></th>\n      <th>Study ID</th>\n      <th>Type of dialysis</th>\n      <th>Start date</th>\n      <th>Stop date</th>\n      <th>Pre-tx</th>\n      <th>Post-tx</th>\n      <th>Unnamed: 6</th>\n    </tr>\n  </thead>\n  <tbody>\n    <tr>\n      <th>0</th>\n      <td>1</td>\n      <td>1</td>\n      <td>2007-01-29</td>\n      <td>2007-10-26</td>\n      <td>NaN</td>\n      <td>x</td>\n      <td>NaN</td>\n    </tr>\n    <tr>\n      <th>1</th>\n      <td>4</td>\n      <td>1</td>\n      <td>2000-01-19</td>\n      <td>2007-02-14</td>\n      <td>x</td>\n      <td>NaN</td>\n      <td>NaN</td>\n    </tr>\n    <tr>\n      <th>2</th>\n      <td>7</td>\n      <td>1</td>\n      <td>2006-06-04</td>\n      <td>2006-06-14</td>\n      <td>x</td>\n      <td>NaN</td>\n      <td>NaN</td>\n    </tr>\n    <tr>\n      <th>3</th>\n      <td>7</td>\n      <td>1</td>\n      <td>2006-10-06</td>\n      <td>2007-03-06</td>\n      <td>x</td>\n      <td>NaN</td>\n      <td>NaN</td>\n    </tr>\n    <tr>\n      <th>4</th>\n      <td>17</td>\n      <td>2</td>\n      <td>2005-05-04</td>\n      <td>2007-06-18</td>\n      <td>x</td>\n      <td>NaN</td>\n      <td>NaN</td>\n    </tr>\n    <tr>\n      <th>...</th>\n      <td>...</td>\n      <td>...</td>\n      <td>...</td>\n      <td>...</td>\n      <td>...</td>\n      <td>...</td>\n      <td>...</td>\n    </tr>\n    <tr>\n      <th>59</th>\n      <td>464</td>\n      <td>1</td>\n      <td>2008-04-16</td>\n      <td>2008-05-22</td>\n      <td>x</td>\n      <td>NaN</td>\n      <td>NaN</td>\n    </tr>\n    <tr>\n      <th>60</th>\n      <td>480</td>\n      <td>1</td>\n      <td>2003-10-23</td>\n      <td>2003-11-04</td>\n      <td>x</td>\n      <td>NaN</td>\n      <td>NaN</td>\n    </tr>\n    <tr>\n      <th>61</th>\n      <td>483</td>\n      <td>2</td>\n      <td>2006-12-20</td>\n      <td>2009-01-29</td>\n      <td>NaN</td>\n      <td>x</td>\n      <td>NaN</td>\n    </tr>\n    <tr>\n      <th>62</th>\n      <td>488</td>\n      <td>1</td>\n      <td>2008-01-16</td>\n      <td>2008-03-31</td>\n      <td>x</td>\n      <td>NaN</td>\n      <td>NaN</td>\n    </tr>\n    <tr>\n      <th>63</th>\n      <td>488</td>\n      <td>2</td>\n      <td>2008-04-01</td>\n      <td>2009-06-10</td>\n      <td>x</td>\n      <td>NaN</td>\n      <td>NaN</td>\n    </tr>\n  </tbody>\n</table>\n<p>64 rows × 7 columns</p>\n</div>"
     },
     "execution_count": 28,
     "metadata": {},
     "output_type": "execute_result"
    }
   ],
   "source": [
    "df_dialysis"
   ],
   "metadata": {
    "collapsed": false,
    "ExecuteTime": {
     "end_time": "2023-12-07T00:57:11.154973Z",
     "start_time": "2023-12-07T00:57:11.103058Z"
    }
   },
   "id": "7bbd2b7784001fb6"
  },
  {
   "cell_type": "code",
   "execution_count": 29,
   "outputs": [],
   "source": [
    "## dele columsn not required\n",
    "df_dialysis.drop(['Pre-tx','Post-tx','Unnamed: 6'],axis=1,inplace=True)"
   ],
   "metadata": {
    "collapsed": false,
    "ExecuteTime": {
     "end_time": "2023-12-07T00:58:17.550707Z",
     "start_time": "2023-12-07T00:58:17.517075Z"
    }
   },
   "id": "6946ac9dadfdcf8b"
  },
  {
   "cell_type": "code",
   "execution_count": 30,
   "outputs": [
    {
     "data": {
      "text/plain": "    Study ID  Type of dialysis  Start date  Stop date\n0          1                  1 2007-01-29 2007-10-26\n1          4                  1 2000-01-19 2007-02-14\n2          7                  1 2006-06-04 2006-06-14\n3          7                  1 2006-10-06 2007-03-06\n4         17                  2 2005-05-04 2007-06-18\n..       ...                ...        ...        ...\n59       464                  1 2008-04-16 2008-05-22\n60       480                  1 2003-10-23 2003-11-04\n61       483                  2 2006-12-20 2009-01-29\n62       488                  1 2008-01-16 2008-03-31\n63       488                  2 2008-04-01 2009-06-10\n\n[64 rows x 4 columns]",
      "text/html": "<div>\n<style scoped>\n    .dataframe tbody tr th:only-of-type {\n        vertical-align: middle;\n    }\n\n    .dataframe tbody tr th {\n        vertical-align: top;\n    }\n\n    .dataframe thead th {\n        text-align: right;\n    }\n</style>\n<table border=\"1\" class=\"dataframe\">\n  <thead>\n    <tr style=\"text-align: right;\">\n      <th></th>\n      <th>Study ID</th>\n      <th>Type of dialysis</th>\n      <th>Start date</th>\n      <th>Stop date</th>\n    </tr>\n  </thead>\n  <tbody>\n    <tr>\n      <th>0</th>\n      <td>1</td>\n      <td>1</td>\n      <td>2007-01-29</td>\n      <td>2007-10-26</td>\n    </tr>\n    <tr>\n      <th>1</th>\n      <td>4</td>\n      <td>1</td>\n      <td>2000-01-19</td>\n      <td>2007-02-14</td>\n    </tr>\n    <tr>\n      <th>2</th>\n      <td>7</td>\n      <td>1</td>\n      <td>2006-06-04</td>\n      <td>2006-06-14</td>\n    </tr>\n    <tr>\n      <th>3</th>\n      <td>7</td>\n      <td>1</td>\n      <td>2006-10-06</td>\n      <td>2007-03-06</td>\n    </tr>\n    <tr>\n      <th>4</th>\n      <td>17</td>\n      <td>2</td>\n      <td>2005-05-04</td>\n      <td>2007-06-18</td>\n    </tr>\n    <tr>\n      <th>...</th>\n      <td>...</td>\n      <td>...</td>\n      <td>...</td>\n      <td>...</td>\n    </tr>\n    <tr>\n      <th>59</th>\n      <td>464</td>\n      <td>1</td>\n      <td>2008-04-16</td>\n      <td>2008-05-22</td>\n    </tr>\n    <tr>\n      <th>60</th>\n      <td>480</td>\n      <td>1</td>\n      <td>2003-10-23</td>\n      <td>2003-11-04</td>\n    </tr>\n    <tr>\n      <th>61</th>\n      <td>483</td>\n      <td>2</td>\n      <td>2006-12-20</td>\n      <td>2009-01-29</td>\n    </tr>\n    <tr>\n      <th>62</th>\n      <td>488</td>\n      <td>1</td>\n      <td>2008-01-16</td>\n      <td>2008-03-31</td>\n    </tr>\n    <tr>\n      <th>63</th>\n      <td>488</td>\n      <td>2</td>\n      <td>2008-04-01</td>\n      <td>2009-06-10</td>\n    </tr>\n  </tbody>\n</table>\n<p>64 rows × 4 columns</p>\n</div>"
     },
     "execution_count": 30,
     "metadata": {},
     "output_type": "execute_result"
    }
   ],
   "source": [
    "df_dialysis"
   ],
   "metadata": {
    "collapsed": false,
    "ExecuteTime": {
     "end_time": "2023-12-07T00:58:20.356543Z",
     "start_time": "2023-12-07T00:58:20.264796Z"
    }
   },
   "id": "6acdcd615153347f"
  },
  {
   "cell_type": "markdown",
   "source": [
    "### fifth file Meidcation"
   ],
   "metadata": {
    "collapsed": false
   },
   "id": "907c9c8bb85660bd"
  },
  {
   "cell_type": "code",
   "execution_count": 31,
   "outputs": [],
   "source": [
    "df_medication = pd.read_excel('/Users/prakashgupta/radboudUMC-assignment/data/source/data/Medication.xls')"
   ],
   "metadata": {
    "collapsed": false,
    "ExecuteTime": {
     "end_time": "2023-12-07T00:59:03.111619Z",
     "start_time": "2023-12-07T00:59:01.685789Z"
    }
   },
   "id": "6418d08635d09fc6"
  },
  {
   "cell_type": "code",
   "execution_count": 32,
   "outputs": [
    {
     "data": {
      "text/plain": "           StudyID            Startdate  StartTime             StopDate  \\\n0      TAC-SKZ-H12  2010-06-01 00:00:00        NaN  2010-06-09 00:00:00   \n1      TAC-SKZ-N29  2006-12-07 00:00:00        NaN  2007-04-24 00:00:00   \n2      TAC-SKZ-H16  2011-03-08 00:00:00        NaN  2011-07-29 00:00:00   \n3      TAC-SKZ-H16  2011-04-18 00:00:00        NaN  2011-04-20 00:00:00   \n4      TAC-SKZ-H16  2011-07-21 00:00:00        NaN  2011-07-21 00:00:00   \n...            ...                  ...        ...                  ...   \n60252         1399  2008-01-29 00:00:00        0.0  2020-03-27 00:00:00   \n60253         1496  2007-09-13 00:00:00        0.0  2020-11-15 00:00:00   \n60254  TAC-SKZ-N26  1998-08-10 00:00:00        NaN  1998-08-11 00:00:00   \n60255  TAC-SKZ-N32  1999-02-12 00:00:00        NaN  1999-02-13 00:00:00   \n60256  TAC-SKZ-N04  2010-12-21 00:00:00        NaN  2010-12-29 00:00:00   \n\n       StopTime                              Drug Dose Unit          Dosedesc  \\\n0           NaN                17-BETA-OESTRADIOL  2.5   mg           x Daags   \n1           NaN  3% DITRANOL 25% SALIC.ZUUR 10% A    0  NaN           x Daags   \n2           NaN            ACENOCOUMAROL TABL 1MG    0   mg           x Daags   \n3           NaN            ACENOCOUMAROL TABL 1MG    1   mg  volgens afspraak   \n4           NaN            ACENOCOUMAROL TABL 1MG    0   mg           x Daags   \n...         ...                               ...  ...  ...               ...   \n60252       0.0                         ZOPICLONE  7.5   mg            7.5 mg   \n60253       0.0                         ZOPICLONE    0  NaN               NaN   \n60254       NaN         ZOVIRAX 40MG/ML SUSPENSIE    0  NaN               NaN   \n60255       NaN             ZOVIRAX SUSP 40 MG/ML    0  NaN               NaN   \n60256       NaN  ZWAVEL 5% IN ZINKOXIDESMEERSEL 3    0   mg               NaN   \n\n        Route Schedule  ATCcode  \n0       ORAAL    daily      NaN  \n1      CUTAAN    daily      NaN  \n2       ORAAL    daily      NaN  \n3       ORAAL  routine      NaN  \n4       ORAAL    daily      NaN  \n...       ...      ...      ...  \n60252      po      QHS  N05CF01  \n60253     NaN      NaN  N05CF01  \n60254   ORAAL     q12h  x Daags  \n60255   ORAAL     q12h  x Daags  \n60256  CUTAAN    daily  x Daags  \n\n[60257 rows x 12 columns]",
      "text/html": "<div>\n<style scoped>\n    .dataframe tbody tr th:only-of-type {\n        vertical-align: middle;\n    }\n\n    .dataframe tbody tr th {\n        vertical-align: top;\n    }\n\n    .dataframe thead th {\n        text-align: right;\n    }\n</style>\n<table border=\"1\" class=\"dataframe\">\n  <thead>\n    <tr style=\"text-align: right;\">\n      <th></th>\n      <th>StudyID</th>\n      <th>Startdate</th>\n      <th>StartTime</th>\n      <th>StopDate</th>\n      <th>StopTime</th>\n      <th>Drug</th>\n      <th>Dose</th>\n      <th>Unit</th>\n      <th>Dosedesc</th>\n      <th>Route</th>\n      <th>Schedule</th>\n      <th>ATCcode</th>\n    </tr>\n  </thead>\n  <tbody>\n    <tr>\n      <th>0</th>\n      <td>TAC-SKZ-H12</td>\n      <td>2010-06-01 00:00:00</td>\n      <td>NaN</td>\n      <td>2010-06-09 00:00:00</td>\n      <td>NaN</td>\n      <td>17-BETA-OESTRADIOL</td>\n      <td>2.5</td>\n      <td>mg</td>\n      <td>x Daags</td>\n      <td>ORAAL</td>\n      <td>daily</td>\n      <td>NaN</td>\n    </tr>\n    <tr>\n      <th>1</th>\n      <td>TAC-SKZ-N29</td>\n      <td>2006-12-07 00:00:00</td>\n      <td>NaN</td>\n      <td>2007-04-24 00:00:00</td>\n      <td>NaN</td>\n      <td>3% DITRANOL 25% SALIC.ZUUR 10% A</td>\n      <td>0</td>\n      <td>NaN</td>\n      <td>x Daags</td>\n      <td>CUTAAN</td>\n      <td>daily</td>\n      <td>NaN</td>\n    </tr>\n    <tr>\n      <th>2</th>\n      <td>TAC-SKZ-H16</td>\n      <td>2011-03-08 00:00:00</td>\n      <td>NaN</td>\n      <td>2011-07-29 00:00:00</td>\n      <td>NaN</td>\n      <td>ACENOCOUMAROL TABL 1MG</td>\n      <td>0</td>\n      <td>mg</td>\n      <td>x Daags</td>\n      <td>ORAAL</td>\n      <td>daily</td>\n      <td>NaN</td>\n    </tr>\n    <tr>\n      <th>3</th>\n      <td>TAC-SKZ-H16</td>\n      <td>2011-04-18 00:00:00</td>\n      <td>NaN</td>\n      <td>2011-04-20 00:00:00</td>\n      <td>NaN</td>\n      <td>ACENOCOUMAROL TABL 1MG</td>\n      <td>1</td>\n      <td>mg</td>\n      <td>volgens afspraak</td>\n      <td>ORAAL</td>\n      <td>routine</td>\n      <td>NaN</td>\n    </tr>\n    <tr>\n      <th>4</th>\n      <td>TAC-SKZ-H16</td>\n      <td>2011-07-21 00:00:00</td>\n      <td>NaN</td>\n      <td>2011-07-21 00:00:00</td>\n      <td>NaN</td>\n      <td>ACENOCOUMAROL TABL 1MG</td>\n      <td>0</td>\n      <td>mg</td>\n      <td>x Daags</td>\n      <td>ORAAL</td>\n      <td>daily</td>\n      <td>NaN</td>\n    </tr>\n    <tr>\n      <th>...</th>\n      <td>...</td>\n      <td>...</td>\n      <td>...</td>\n      <td>...</td>\n      <td>...</td>\n      <td>...</td>\n      <td>...</td>\n      <td>...</td>\n      <td>...</td>\n      <td>...</td>\n      <td>...</td>\n      <td>...</td>\n    </tr>\n    <tr>\n      <th>60252</th>\n      <td>1399</td>\n      <td>2008-01-29 00:00:00</td>\n      <td>0.0</td>\n      <td>2020-03-27 00:00:00</td>\n      <td>0.0</td>\n      <td>ZOPICLONE</td>\n      <td>7.5</td>\n      <td>mg</td>\n      <td>7.5 mg</td>\n      <td>po</td>\n      <td>QHS</td>\n      <td>N05CF01</td>\n    </tr>\n    <tr>\n      <th>60253</th>\n      <td>1496</td>\n      <td>2007-09-13 00:00:00</td>\n      <td>0.0</td>\n      <td>2020-11-15 00:00:00</td>\n      <td>0.0</td>\n      <td>ZOPICLONE</td>\n      <td>0</td>\n      <td>NaN</td>\n      <td>NaN</td>\n      <td>NaN</td>\n      <td>NaN</td>\n      <td>N05CF01</td>\n    </tr>\n    <tr>\n      <th>60254</th>\n      <td>TAC-SKZ-N26</td>\n      <td>1998-08-10 00:00:00</td>\n      <td>NaN</td>\n      <td>1998-08-11 00:00:00</td>\n      <td>NaN</td>\n      <td>ZOVIRAX 40MG/ML SUSPENSIE</td>\n      <td>0</td>\n      <td>NaN</td>\n      <td>NaN</td>\n      <td>ORAAL</td>\n      <td>q12h</td>\n      <td>x Daags</td>\n    </tr>\n    <tr>\n      <th>60255</th>\n      <td>TAC-SKZ-N32</td>\n      <td>1999-02-12 00:00:00</td>\n      <td>NaN</td>\n      <td>1999-02-13 00:00:00</td>\n      <td>NaN</td>\n      <td>ZOVIRAX SUSP 40 MG/ML</td>\n      <td>0</td>\n      <td>NaN</td>\n      <td>NaN</td>\n      <td>ORAAL</td>\n      <td>q12h</td>\n      <td>x Daags</td>\n    </tr>\n    <tr>\n      <th>60256</th>\n      <td>TAC-SKZ-N04</td>\n      <td>2010-12-21 00:00:00</td>\n      <td>NaN</td>\n      <td>2010-12-29 00:00:00</td>\n      <td>NaN</td>\n      <td>ZWAVEL 5% IN ZINKOXIDESMEERSEL 3</td>\n      <td>0</td>\n      <td>mg</td>\n      <td>NaN</td>\n      <td>CUTAAN</td>\n      <td>daily</td>\n      <td>x Daags</td>\n    </tr>\n  </tbody>\n</table>\n<p>60257 rows × 12 columns</p>\n</div>"
     },
     "execution_count": 32,
     "metadata": {},
     "output_type": "execute_result"
    }
   ],
   "source": [
    "df_medication"
   ],
   "metadata": {
    "collapsed": false,
    "ExecuteTime": {
     "end_time": "2023-12-07T00:59:05.683937Z",
     "start_time": "2023-12-07T00:59:05.652040Z"
    }
   },
   "id": "90265aff3e89db19"
  },
  {
   "cell_type": "markdown",
   "source": [
    "#### pre-processing   "
   ],
   "metadata": {
    "collapsed": false
   },
   "id": "c2ac8e50fe77062f"
  },
  {
   "cell_type": "code",
   "execution_count": 33,
   "outputs": [],
   "source": [
    "## delete  id which start TAC\n",
    "df_medication = df_medication[~df_medication['StudyID'].astype(str).str.startswith(\"TAC-SKZ-\")]"
   ],
   "metadata": {
    "collapsed": false,
    "ExecuteTime": {
     "end_time": "2023-12-07T00:59:57.771093Z",
     "start_time": "2023-12-07T00:59:57.725034Z"
    }
   },
   "id": "328b2e90895a46c4"
  },
  {
   "cell_type": "code",
   "execution_count": 34,
   "outputs": [
    {
     "data": {
      "text/plain": "      StudyID            Startdate  StartTime             StopDate  StopTime  \\\n48       1001  2006-12-14 00:00:00       16.0               #NULL!       0.0   \n49       1038  2005-10-27 00:00:00        0.0  2020-08-21 00:00:00       0.0   \n50       1040  2004-02-27 00:00:00        0.0  2020-12-15 00:00:00       0.0   \n51       1044  2006-06-06 00:00:00       20.0               #NULL!       0.0   \n52       1063  2004-12-16 00:00:00        0.0  2020-07-24 00:00:00       0.0   \n...       ...                  ...        ...                  ...       ...   \n60249    1240  2008-04-18 00:00:00        0.0  2020-04-22 00:00:00       0.0   \n60250    1240  2008-04-22 00:00:00        0.0               #NULL!       0.0   \n60251    1399  2007-10-09 00:00:00        0.0  2020-01-29 00:00:00       0.0   \n60252    1399  2008-01-29 00:00:00        0.0  2020-03-27 00:00:00       0.0   \n60253    1496  2007-09-13 00:00:00        0.0  2020-11-15 00:00:00       0.0   \n\n                Drug Dose       Unit     Dosedesc   Route Schedule  ATCcode  \n48     ACETAMINOPHEN  120        NaN          120  ngt/pr      PRN  N02BE01  \n49     ACETAMINOPHEN  500         mg        500mg      po      PRN  N02BE01  \n50     ACETAMINOPHEN  500         mg        500mg      po      PRN  N02BE01  \n51     ACETAMINOPHEN  125        NaN          125      PR      PRN  N02BE01  \n52     ACETAMINOPHEN    2  extra str  2 extra str      po      PRN  N02BE01  \n...              ...  ...        ...          ...     ...      ...      ...  \n60249      ZOPICLONE  2.5         mg        2.5mg      PO      QHS  N05CF01  \n60250      ZOPICLONE    5         mg          5mg      PO      QHS  N05CF01  \n60251      ZOPICLONE    5         mg         5 mg      po      QHS  N05CF01  \n60252      ZOPICLONE  7.5         mg       7.5 mg      po      QHS  N05CF01  \n60253      ZOPICLONE    0        NaN          NaN     NaN      NaN  N05CF01  \n\n[51088 rows x 12 columns]",
      "text/html": "<div>\n<style scoped>\n    .dataframe tbody tr th:only-of-type {\n        vertical-align: middle;\n    }\n\n    .dataframe tbody tr th {\n        vertical-align: top;\n    }\n\n    .dataframe thead th {\n        text-align: right;\n    }\n</style>\n<table border=\"1\" class=\"dataframe\">\n  <thead>\n    <tr style=\"text-align: right;\">\n      <th></th>\n      <th>StudyID</th>\n      <th>Startdate</th>\n      <th>StartTime</th>\n      <th>StopDate</th>\n      <th>StopTime</th>\n      <th>Drug</th>\n      <th>Dose</th>\n      <th>Unit</th>\n      <th>Dosedesc</th>\n      <th>Route</th>\n      <th>Schedule</th>\n      <th>ATCcode</th>\n    </tr>\n  </thead>\n  <tbody>\n    <tr>\n      <th>48</th>\n      <td>1001</td>\n      <td>2006-12-14 00:00:00</td>\n      <td>16.0</td>\n      <td>#NULL!</td>\n      <td>0.0</td>\n      <td>ACETAMINOPHEN</td>\n      <td>120</td>\n      <td>NaN</td>\n      <td>120</td>\n      <td>ngt/pr</td>\n      <td>PRN</td>\n      <td>N02BE01</td>\n    </tr>\n    <tr>\n      <th>49</th>\n      <td>1038</td>\n      <td>2005-10-27 00:00:00</td>\n      <td>0.0</td>\n      <td>2020-08-21 00:00:00</td>\n      <td>0.0</td>\n      <td>ACETAMINOPHEN</td>\n      <td>500</td>\n      <td>mg</td>\n      <td>500mg</td>\n      <td>po</td>\n      <td>PRN</td>\n      <td>N02BE01</td>\n    </tr>\n    <tr>\n      <th>50</th>\n      <td>1040</td>\n      <td>2004-02-27 00:00:00</td>\n      <td>0.0</td>\n      <td>2020-12-15 00:00:00</td>\n      <td>0.0</td>\n      <td>ACETAMINOPHEN</td>\n      <td>500</td>\n      <td>mg</td>\n      <td>500mg</td>\n      <td>po</td>\n      <td>PRN</td>\n      <td>N02BE01</td>\n    </tr>\n    <tr>\n      <th>51</th>\n      <td>1044</td>\n      <td>2006-06-06 00:00:00</td>\n      <td>20.0</td>\n      <td>#NULL!</td>\n      <td>0.0</td>\n      <td>ACETAMINOPHEN</td>\n      <td>125</td>\n      <td>NaN</td>\n      <td>125</td>\n      <td>PR</td>\n      <td>PRN</td>\n      <td>N02BE01</td>\n    </tr>\n    <tr>\n      <th>52</th>\n      <td>1063</td>\n      <td>2004-12-16 00:00:00</td>\n      <td>0.0</td>\n      <td>2020-07-24 00:00:00</td>\n      <td>0.0</td>\n      <td>ACETAMINOPHEN</td>\n      <td>2</td>\n      <td>extra str</td>\n      <td>2 extra str</td>\n      <td>po</td>\n      <td>PRN</td>\n      <td>N02BE01</td>\n    </tr>\n    <tr>\n      <th>...</th>\n      <td>...</td>\n      <td>...</td>\n      <td>...</td>\n      <td>...</td>\n      <td>...</td>\n      <td>...</td>\n      <td>...</td>\n      <td>...</td>\n      <td>...</td>\n      <td>...</td>\n      <td>...</td>\n      <td>...</td>\n    </tr>\n    <tr>\n      <th>60249</th>\n      <td>1240</td>\n      <td>2008-04-18 00:00:00</td>\n      <td>0.0</td>\n      <td>2020-04-22 00:00:00</td>\n      <td>0.0</td>\n      <td>ZOPICLONE</td>\n      <td>2.5</td>\n      <td>mg</td>\n      <td>2.5mg</td>\n      <td>PO</td>\n      <td>QHS</td>\n      <td>N05CF01</td>\n    </tr>\n    <tr>\n      <th>60250</th>\n      <td>1240</td>\n      <td>2008-04-22 00:00:00</td>\n      <td>0.0</td>\n      <td>#NULL!</td>\n      <td>0.0</td>\n      <td>ZOPICLONE</td>\n      <td>5</td>\n      <td>mg</td>\n      <td>5mg</td>\n      <td>PO</td>\n      <td>QHS</td>\n      <td>N05CF01</td>\n    </tr>\n    <tr>\n      <th>60251</th>\n      <td>1399</td>\n      <td>2007-10-09 00:00:00</td>\n      <td>0.0</td>\n      <td>2020-01-29 00:00:00</td>\n      <td>0.0</td>\n      <td>ZOPICLONE</td>\n      <td>5</td>\n      <td>mg</td>\n      <td>5 mg</td>\n      <td>po</td>\n      <td>QHS</td>\n      <td>N05CF01</td>\n    </tr>\n    <tr>\n      <th>60252</th>\n      <td>1399</td>\n      <td>2008-01-29 00:00:00</td>\n      <td>0.0</td>\n      <td>2020-03-27 00:00:00</td>\n      <td>0.0</td>\n      <td>ZOPICLONE</td>\n      <td>7.5</td>\n      <td>mg</td>\n      <td>7.5 mg</td>\n      <td>po</td>\n      <td>QHS</td>\n      <td>N05CF01</td>\n    </tr>\n    <tr>\n      <th>60253</th>\n      <td>1496</td>\n      <td>2007-09-13 00:00:00</td>\n      <td>0.0</td>\n      <td>2020-11-15 00:00:00</td>\n      <td>0.0</td>\n      <td>ZOPICLONE</td>\n      <td>0</td>\n      <td>NaN</td>\n      <td>NaN</td>\n      <td>NaN</td>\n      <td>NaN</td>\n      <td>N05CF01</td>\n    </tr>\n  </tbody>\n</table>\n<p>51088 rows × 12 columns</p>\n</div>"
     },
     "execution_count": 34,
     "metadata": {},
     "output_type": "execute_result"
    }
   ],
   "source": [
    "df_medication"
   ],
   "metadata": {
    "collapsed": false,
    "ExecuteTime": {
     "end_time": "2023-12-07T00:59:59.598505Z",
     "start_time": "2023-12-07T00:59:59.561327Z"
    }
   },
   "id": "d7b1f27a7418c768"
  },
  {
   "cell_type": "code",
   "execution_count": 35,
   "outputs": [
    {
     "name": "stderr",
     "output_type": "stream",
     "text": [
      "/opt/homebrew/lib/python3.11/site-packages/pandas/core/frame.py:4308: SettingWithCopyWarning: \n",
      "A value is trying to be set on a copy of a slice from a DataFrame\n",
      "\n",
      "See the caveats in the documentation: https://pandas.pydata.org/pandas-docs/stable/user_guide/indexing.html#returning-a-view-versus-a-copy\n",
      "  return super().drop(\n"
     ]
    }
   ],
   "source": [
    "## delete columns not required\n",
    "\n",
    "df_medication.drop(['ATCcode','Schedule','Route','Unit'],axis=1,inplace=True)"
   ],
   "metadata": {
    "collapsed": false,
    "ExecuteTime": {
     "end_time": "2023-12-07T01:02:09.869596Z",
     "start_time": "2023-12-07T01:02:09.833709Z"
    }
   },
   "id": "23311001fa1e3ce0"
  },
  {
   "cell_type": "code",
   "execution_count": 36,
   "outputs": [
    {
     "data": {
      "text/plain": "      StudyID            Startdate  StartTime             StopDate  StopTime  \\\n48       1001  2006-12-14 00:00:00       16.0               #NULL!       0.0   \n49       1038  2005-10-27 00:00:00        0.0  2020-08-21 00:00:00       0.0   \n50       1040  2004-02-27 00:00:00        0.0  2020-12-15 00:00:00       0.0   \n51       1044  2006-06-06 00:00:00       20.0               #NULL!       0.0   \n52       1063  2004-12-16 00:00:00        0.0  2020-07-24 00:00:00       0.0   \n...       ...                  ...        ...                  ...       ...   \n60249    1240  2008-04-18 00:00:00        0.0  2020-04-22 00:00:00       0.0   \n60250    1240  2008-04-22 00:00:00        0.0               #NULL!       0.0   \n60251    1399  2007-10-09 00:00:00        0.0  2020-01-29 00:00:00       0.0   \n60252    1399  2008-01-29 00:00:00        0.0  2020-03-27 00:00:00       0.0   \n60253    1496  2007-09-13 00:00:00        0.0  2020-11-15 00:00:00       0.0   \n\n                Drug Dose     Dosedesc  \n48     ACETAMINOPHEN  120          120  \n49     ACETAMINOPHEN  500        500mg  \n50     ACETAMINOPHEN  500        500mg  \n51     ACETAMINOPHEN  125          125  \n52     ACETAMINOPHEN    2  2 extra str  \n...              ...  ...          ...  \n60249      ZOPICLONE  2.5        2.5mg  \n60250      ZOPICLONE    5          5mg  \n60251      ZOPICLONE    5         5 mg  \n60252      ZOPICLONE  7.5       7.5 mg  \n60253      ZOPICLONE    0          NaN  \n\n[51088 rows x 8 columns]",
      "text/html": "<div>\n<style scoped>\n    .dataframe tbody tr th:only-of-type {\n        vertical-align: middle;\n    }\n\n    .dataframe tbody tr th {\n        vertical-align: top;\n    }\n\n    .dataframe thead th {\n        text-align: right;\n    }\n</style>\n<table border=\"1\" class=\"dataframe\">\n  <thead>\n    <tr style=\"text-align: right;\">\n      <th></th>\n      <th>StudyID</th>\n      <th>Startdate</th>\n      <th>StartTime</th>\n      <th>StopDate</th>\n      <th>StopTime</th>\n      <th>Drug</th>\n      <th>Dose</th>\n      <th>Dosedesc</th>\n    </tr>\n  </thead>\n  <tbody>\n    <tr>\n      <th>48</th>\n      <td>1001</td>\n      <td>2006-12-14 00:00:00</td>\n      <td>16.0</td>\n      <td>#NULL!</td>\n      <td>0.0</td>\n      <td>ACETAMINOPHEN</td>\n      <td>120</td>\n      <td>120</td>\n    </tr>\n    <tr>\n      <th>49</th>\n      <td>1038</td>\n      <td>2005-10-27 00:00:00</td>\n      <td>0.0</td>\n      <td>2020-08-21 00:00:00</td>\n      <td>0.0</td>\n      <td>ACETAMINOPHEN</td>\n      <td>500</td>\n      <td>500mg</td>\n    </tr>\n    <tr>\n      <th>50</th>\n      <td>1040</td>\n      <td>2004-02-27 00:00:00</td>\n      <td>0.0</td>\n      <td>2020-12-15 00:00:00</td>\n      <td>0.0</td>\n      <td>ACETAMINOPHEN</td>\n      <td>500</td>\n      <td>500mg</td>\n    </tr>\n    <tr>\n      <th>51</th>\n      <td>1044</td>\n      <td>2006-06-06 00:00:00</td>\n      <td>20.0</td>\n      <td>#NULL!</td>\n      <td>0.0</td>\n      <td>ACETAMINOPHEN</td>\n      <td>125</td>\n      <td>125</td>\n    </tr>\n    <tr>\n      <th>52</th>\n      <td>1063</td>\n      <td>2004-12-16 00:00:00</td>\n      <td>0.0</td>\n      <td>2020-07-24 00:00:00</td>\n      <td>0.0</td>\n      <td>ACETAMINOPHEN</td>\n      <td>2</td>\n      <td>2 extra str</td>\n    </tr>\n    <tr>\n      <th>...</th>\n      <td>...</td>\n      <td>...</td>\n      <td>...</td>\n      <td>...</td>\n      <td>...</td>\n      <td>...</td>\n      <td>...</td>\n      <td>...</td>\n    </tr>\n    <tr>\n      <th>60249</th>\n      <td>1240</td>\n      <td>2008-04-18 00:00:00</td>\n      <td>0.0</td>\n      <td>2020-04-22 00:00:00</td>\n      <td>0.0</td>\n      <td>ZOPICLONE</td>\n      <td>2.5</td>\n      <td>2.5mg</td>\n    </tr>\n    <tr>\n      <th>60250</th>\n      <td>1240</td>\n      <td>2008-04-22 00:00:00</td>\n      <td>0.0</td>\n      <td>#NULL!</td>\n      <td>0.0</td>\n      <td>ZOPICLONE</td>\n      <td>5</td>\n      <td>5mg</td>\n    </tr>\n    <tr>\n      <th>60251</th>\n      <td>1399</td>\n      <td>2007-10-09 00:00:00</td>\n      <td>0.0</td>\n      <td>2020-01-29 00:00:00</td>\n      <td>0.0</td>\n      <td>ZOPICLONE</td>\n      <td>5</td>\n      <td>5 mg</td>\n    </tr>\n    <tr>\n      <th>60252</th>\n      <td>1399</td>\n      <td>2008-01-29 00:00:00</td>\n      <td>0.0</td>\n      <td>2020-03-27 00:00:00</td>\n      <td>0.0</td>\n      <td>ZOPICLONE</td>\n      <td>7.5</td>\n      <td>7.5 mg</td>\n    </tr>\n    <tr>\n      <th>60253</th>\n      <td>1496</td>\n      <td>2007-09-13 00:00:00</td>\n      <td>0.0</td>\n      <td>2020-11-15 00:00:00</td>\n      <td>0.0</td>\n      <td>ZOPICLONE</td>\n      <td>0</td>\n      <td>NaN</td>\n    </tr>\n  </tbody>\n</table>\n<p>51088 rows × 8 columns</p>\n</div>"
     },
     "execution_count": 36,
     "metadata": {},
     "output_type": "execute_result"
    }
   ],
   "source": [
    "df_medication"
   ],
   "metadata": {
    "collapsed": false,
    "ExecuteTime": {
     "end_time": "2023-12-07T01:02:12.505549Z",
     "start_time": "2023-12-07T01:02:12.472713Z"
    }
   },
   "id": "2bcf9d73b07874a8"
  },
  {
   "cell_type": "code",
   "execution_count": 37,
   "outputs": [
    {
     "data": {
      "text/plain": "array(['ACETAMINOPHEN', 'ACETAMINOPHEN/CODEINE 300/30', 'acetazolamide',\n       'ACETAZOLAMIDE', 'acetominophen', 'Acetominophen',\n       'acetylcysteine', 'ACETYLCYSTEINE', 'acetylsalicylic acid',\n       'Acetylsalicylic acid', 'acyclovir', 'ACYCLOVIR', 'adek', 'ADEK',\n       'adeks', 'ADVAIR', 'ALBENDAZOLE', 'albumin', 'ALBUMIN 25%',\n       'aldactaczide', 'aldactazide', 'ALDACTAZIDE', 'ALENDRONATE SODIUM',\n       'alfacalcidol', 'ALFACALCIDOL', 'allopurinol', 'ALLOPURINOL',\n       'alprostadil', 'amantadine', 'ambisome', 'amikacin', 'AMIKACIN',\n       'amiloride', 'AMILORIDE', 'amiodarone', 'AMIODARONE',\n       'amitriptyline', 'AMITRIPTYLINE', 'amlodipin', 'amlodipine',\n       'AMLODIPINE', 'amoxicillin', 'AMOXICILLIN',\n       'AMOXICILLIN-CLAVULANATE', 'amoxiclllin', 'amoxycillin',\n       'AMPHOTERICIN', 'amphotericin B', 'amphoterivin B', 'ampicilin',\n       'ampicillin', 'AMPICILLIN', 'ampivillin',\n       'ANTI-THYMOCYTE GLOBULIN', 'arginine', 'ARGININE', 'AS', 'ASA',\n       'ASACOL', 'ascorbic acid', 'ascorbiv acid', 'asorbic acid',\n       'atenolol', 'ATENOLOL', 'ATG', 'atorvastatin', 'ATORVASTATIN',\n       'ATOVAQUONE', 'azathioprine', 'AZATHIOPRINE', 'azithromycin',\n       'AZITHROMYCIN', 'basiliximab', 'BASILIXIMAB', 'BECLOMETHASONE',\n       'BENEFIBRE', 'BETAMETHASONE', 'BETAMETHASONE VALERATE', 'biotin',\n       'bisacodyl', 'BISACODYL', 'BISACODYL/DOCUSATE', 'BUDESONIDE',\n       'busulfan', 'calcitriol', 'CALCITRIOL', 'CALCITRIOL IV',\n       'calcitrol', 'calcium carbonate', 'CALCIUM CARBONATE',\n       'CALCIUM CARBONATE (ELEMENTAL)',\n       'CALCIUM CARBONATE AND VITAMIN D3', 'CALCIUM CARBONATE/VIT D',\n       'CALCIUM CHLORIDE DIHYDRATE', 'CALCIUM EFFERVESCENT',\n       'CALCIUM STANLEY', 'captopril', 'CAPTOPRIL', 'CARBAMAZEPINE',\n       'carvedilol', 'CARVEDILOL', 'carvediol', 'caspofungin',\n       'CASPOFUNGIN', 'cefaclor', 'CEFACLOR', 'cefazolin', 'CEFAZOLIN',\n       'cefazoline', 'cefiatraxone', 'cefixime', 'CEFIXIME', 'cefotaxime',\n       'CEFOTAXIME', 'cefotixin', 'cefotoxin', 'cefoxitin', 'CEFOXITIN',\n       'CEFPROZIL', 'ceftazidime', 'CEFTAZIDIME', 'ceftazodime',\n       'ceftriaxone', 'CEFTRIAXONE', 'cefuroxime', 'CEFUROXIME',\n       'cefuroxime axetil', 'CELEBREX', 'CELEXA', 'cephalexin',\n       'CEPHALEXIN', 'chloral hydrate', 'CHLORAL HYDRATE',\n       'CHLORHEXIDINE DRESSING', 'chlorothiazide', 'chlorthiazide',\n       'cholcalciferol', 'cholecalciferol', 'CHOLECALCIFEROL',\n       'CHOLESTYRAMINE RESIN', 'CIDOFOVIR', 'ciprofloxacin',\n       'CIPROFLOXACIN', 'cisapride', 'CISAPRIDE', 'cisplatinum',\n       'citalopram', 'CITALOPRAM', 'citrate-C', 'CITRATE-C', 'CITRULLINE',\n       'clarithromycin', 'CLARITHROMYCIN', 'clavulin', 'clindamycin',\n       'CLINDAMYCIN', 'CLINDAMYCIN TOPICAL', 'clobazam', 'CLOBAZAM',\n       'clonazepam', 'CLONAZEPAM', 'clonidine', 'CLONIDINE',\n       'clopidogrel', 'CLOPIDOGREL BISULFATE', 'clotrimazole',\n       'CLOTRIMAZOLE', 'cloxacillin', 'CLOXACILLIN',\n       'cmv immune globbulin', 'cmv immune globulin',\n       'CMV immune globulin', 'cmv immune globuline',\n       'CMV immune globuline', 'cmv imune globulin', 'codeine', 'CODEINE',\n       'COENZYME Q', 'coftriaxone disodium', 'COTAZYM', 'cotrimazole',\n       'cotrimoxazole', 'COTRIMOXAZOLE', 'CREATINE', 'cyanocobalamin',\n       'CYANOCOBALAMIN', 'CYCLEN', 'cyclophophamide', 'cyclophosphamide',\n       'CYCLOPHOSPHAMIDE', 'cyclosporin', 'cyclosporine', 'CYCLOSPORINE',\n       'CYSTEAMINE', 'CYSTEAMINE OPHTHALMIC', 'cytarabine', 'CYTOGAM',\n       'CYTOGAM/PLACEBO', 'daclizumab', 'DACLIZUMAB', 'dacllizumab',\n       'DALTEPARIN', 'dapsone', 'DAPSONE', 'darbepoetin',\n       'DARBEPOETIN ALFA', 'darbepoetin alpha', 'daunomycin',\n       'daunorubicin', 'deferoxamine', 'DEFEROXAMINE MESYLATE',\n       'DEPO-PROVERA', 'DESMOPRESSIN', 'DESOGESTREL-ETHINYL ESTRADIOL',\n       'dexamethasone', 'DEXAMETHASONE', 'diavite', 'diazepam',\n       'DIAZEPAM', 'DICHLOROACETATE', 'dicitrate', 'DICITRATE',\n       'DICLOFENAC SODIUM', 'digoxin', 'DIGOXIN', 'dilantin', 'DILTIAZEM',\n       'dimenhydrinate', 'DIMENHYDRINATE', 'dimenhydrindate', 'diovol',\n       'diphenhydramine', 'DIPHENHYDRAMINE', 'dipyridamole',\n       'DIPYRIDAMOLE', 'dobutamine', 'docusate', 'DOCUSATE',\n       'DOCUSATE SODIUM', 'domperidone', 'DOMPERIDONE', 'dopamine',\n       'doxazosin', 'DOXAZOSIN', 'doxorubicin', 'DUCOSATE', 'ECULIZUMAB',\n       'enalapril', 'ENALAPRIL', 'enoxaparin', 'ENOXAPARIN', 'enoxaprain',\n       'EPINEPHRINE INHAL', 'EPO', 'epoetin', 'ergocalciferol',\n       'ERGOCALCIFEROL', 'erythromycin', 'ERYTHROMYCIN-TRETINOIN',\n       'escitalopram', 'ESCITALOPRAM', 'esomeprazole', 'ESOMEPRAZOLE',\n       'ETHAMBUTOL', 'ETHINYL ESTRADIOL/NORGEST', 'ETHOSUXIMIDE',\n       'etoposide', 'FE GLUCONATE', 'FENTANYL', 'ferrous fumarate',\n       'FERROUS FUMARATE', 'FERROUS GLUCONATE', 'FERROUS SULPHATE',\n       'filgrastim', 'FILGRASTIM', 'FLEXERIL', 'fluconazole',\n       'FLUCONAZOLE', 'FLUOXETINE', 'FLUTICASONE',\n       'fluticasone 125 mcg/puff', 'fluticasone 250 mcg/puff',\n       'fluticonazole', 'FLUVOXAMINE', 'folic acid', 'FOLIC ACID',\n       'foscarnet', 'FOSCARNET', 'fosinopril', 'FOSINOPRIL', 'FUCIDIN',\n       'furosemide', 'FUROSEMIDE', 'FUSIDIC ACID', 'gabapentin',\n       'GABAPENTIN', 'ganciclovir', 'GANCICLOVIR', 'gancivlovir',\n       'gancyclovir', 'GANCYCLOVIR', 'gentamicin', 'Gentamicin',\n       'GENTAMICIN', 'gentamivin', 'GLUTAMINE', 'glycopyrrolate',\n       'granisetron', 'GROWTH HORMONE', 'H1N1 VACCINE', 'haloperidol',\n       'heparin', 'HEPARIN', 'heparine', 'HEPATITIS B IMMUNEGLOBULIN',\n       'HEPLOCK', 'hydralazine', 'HYDRALAZINE', 'hydrochlorothiazide',\n       'HYDROCHLOROTHIAZIDE', 'hydrochlorthiazide', 'hydrocholorthiazide',\n       'hydrocortisone', 'HYDROCORTISONE', 'HYDROGEN PEROXIDE ORAL',\n       'hydromorphone', 'HYDROMORPHONE', 'hydroxizine', 'hydroxyzine',\n       'HYDROXYZINE', 'ibuprofen', 'ifosfamide', 'IMMUNE GLOBULIN',\n       'infliximab', 'INFLUENZA VACCINE', 'INSULIN', 'ipratropium',\n       'IPRATROPIUM BROMIDE', 'IRBESARTAN', 'IRON', 'IRON SUCROSE',\n       'isoniazid', 'ISONIAZID', 'isoproterenol', 'ISOPROTERENOL',\n       'ISOTRETINOIN', 'itraconazole', 'ITRACONAZOLE', 'IVERMECTIN',\n       'ketorolac', 'ketotifen', 'KETOTIFEN', 'labetalol', 'LABETALOL',\n       'lactulose', 'LACTULOSE', 'LAMIVUDINE', 'lamotrigine',\n       'LAMOTRIGINE', 'lansoprazole', 'LANSOPRAZOLE', 'LEFLUNOMIDE',\n       'leucoverin calcium', 'leucovorin calcium', 'LEUCOVORIN CALCIUM',\n       'LEUPROLIDE', 'levetiracetam', 'LEVETIRACETAM', 'levocarnitine',\n       'LEVOCARNITINE', 'levofloxacin', 'LEVOFLOXACIN', 'levothyroxine',\n       'LEVOTHYROXINE', 'linezolid', 'LINEZOLIDE', 'LIPIDIL',\n       'lisinopril', 'LISINOPRIL', 'loperamide', 'LOPERAMIDE',\n       'lorazepam', 'LORAZEPAM', 'losartan', 'LOSARTEN', 'LOVASTATIN',\n       'LOW MOLECULAR WEIGHT HEPARIN', 'magnesium', 'MAGNESIUM CITRATE',\n       'magnesium glucoheptonate', 'MAGNESIUM GLUCOHEPTONATE',\n       'magnesium hydroxide', 'Magnesium hydroxide',\n       'MAGNESIUM HYDROXIDE', 'magnesium oxide', 'MAGNESIUM OXIDE',\n       'MAGNESIUM SULFATE', 'magnesium sulphate', 'Magnesium sulphate',\n       'MAGNESIUM SULPHATE', 'MANNITOL 20%', 'medicatie', 'MEFLOQUINE',\n       'MENINGOCOCCAL CONJUGATE( A,C,Y,W', 'MENJUGATE', 'meperidine',\n       'mercaptopurine', 'meropenem', 'MEROPENEM', 'METHADONE',\n       'methotrexate', 'METHOTREXATE', 'METHYLPHENIDATE',\n       'METHYLPHENIDATE SR', 'methylprednisolone', 'METHYLPREDNISOLONE',\n       'METHYLPREDNISOLONE ACETATE-NEOMY', 'metoclopramide',\n       'METOCLOPRAMIDE', 'metolazone', 'METOLAZONE', 'metoprolol',\n       'METOPROLOL', 'metronidazole', 'METRONIDAZOLE', 'MICRONOR',\n       'midazolam', 'MIDAZOLAM', 'MIDODRINE', 'milirone', 'MILRINONE',\n       'MINERAL OIL', 'MINOCYCLINE', 'MOMETASONE FUROATE', 'montelukast',\n       'MONTELUKAST', 'morphine', 'MORPHINE', 'MOXIFLOXACIN',\n       'MULTIVITAMIN', 'MUPIROCIN OINTMENT', 'mycophenolate',\n       'Mycophenolate', 'MYCOPHENOLATE MOFETIL',\n       'MYCOPHENOLATE MOFETIL (MMF)', 'MYCOPHENOLATE SODIUM', 'nabilone',\n       'NABILONE', 'nadolol', 'NADOLOL', 'NAPROXEN SODIUM', 'NEXIUM',\n       'nifedipine', 'NIFEDIPINE', 'NIFEDIPINE B&S', 'nitrofurantoin',\n       'NITROFURANTOIN', 'NORETHINDRONE', 'NORFLOXACIN', 'novospirozine',\n       'NOVOSPIROZINE', 'nystatin', 'NYSTATIN', 'NYSTATIN MOUTHWASH',\n       'nystatin ointment', 'NYSTATIN TOPCIAL', 'octreotide',\n       'OCTREOTIDE', 'OKT3', 'olanzapine', 'OLANZAPINE',\n       'OMEGA 3 COMPLEX', 'omeprazeol', 'omeprazole', 'OMEPRAZOLE',\n       'ondansetron', 'ONDANSETRON', 'oseltamivir', 'OSELTAMIVIR',\n       'oxybutynin', 'OXYBUTYNIN CHLORIDE', 'OXYBUTYNIN XL', 'oxycodone',\n       'PALIPERIDONE', 'palivizumab', 'PALIVIZUMAB', 'pamidronate',\n       'PANCRELIPASE', 'panroprazole', 'pantoprazole', 'PANTOPRAZOLE',\n       'PAROXETINE', 'penicillin', 'PENICILLIN', 'penicillin vk',\n       'penivillin', 'pentamidine', 'PENTAMIDINE', 'PENTASA',\n       'phenobarbital', 'PHENOBARBITAL', 'phenoxybenzamine',\n       'PHENOXYBENZAMINE', 'phenytoin', 'PHENYTOIN', 'PHOSPHATE',\n       'PHOSPHATE SANDOZ', 'phytonadione', 'PICO-SALAX',\n       'PIMECROLIMUS 1% CREAM', 'piperacillin', 'PIPERACILLIN',\n       'piperacillin-tazobactam', 'PIPERACILLIN-TAZOBACTAM',\n       'piperacllin', 'PIZOTIFEN', 'PNEUMOCOCCAL CONJUGATE',\n       'POLYETHYLENE GLYCOL 3350', 'POLYSPORIN', 'potassium chloride',\n       'POTASSIUM CHLORIDE', 'POTASSIUM CITRATE', 'POTASSIUM CL (K10)',\n       'pravastatin', 'PRAVASTATIN', 'prazosin', 'PRAZOSIN', 'prazosine',\n       'prednisolone', 'Prednisolone', 'PREDNISOLONE', 'prednisone',\n       'PREDNISONE', 'PROBENECID', 'PROGESTERONE', 'propanolol',\n       'propranolol', 'PROPRANOLOL', 'PYRANTEL PAMOATE', 'pyridoxine',\n       'PYRIDOXINE', 'pyrimethamine', 'PYRIMETHAMINE', 'quetiapine',\n       'QUETIAPINE', 'RABBIT ANTI-THYMOCYTE GLOBULIN', 'RAMIPRIL',\n       'ranitidine', 'RANITIDINE', 'ranititinde', 'rapamycin',\n       'rasburicase', 'RATS', 'RECOMBIVAX HB', 'replavite', 'REPLAVITE',\n       'ribavirin', 'RIBAVIRIN', 'riboflavin', 'RIFABUTIN', 'rifampin',\n       'RIFAMPIN', 'risperidone', 'RISPERIDONE', 'rituximab', 'RITUXIMAB',\n       'rituximiab', 'salbutamol', 'SALBUTAMOL',\n       'salbutamol 100 mcg/puff', 'SALBUTAMOL INHAL', 'SALINE LOCK',\n       'SALMETEROL XINAFOATE', 'SALMETEROL/FLUTICASONE', 'SELENIUM',\n       'SENEKOT', 'senokot', 'sertraline', 'SERTRALINE', 'sevelamer',\n       'SEVELAMER', 'SILDENAFIL', 'SIMVASTATIN', 'sirolimus', 'SIROLIMUS',\n       'SODIUM BENZOATE', 'sodium bicarbonate', 'SODIUM BICARBONATE',\n       'sodium bivarbonate', 'sodium carbonate', 'sodium chloride',\n       'SODIUM CHLORIDE', 'SODIUM DICITRATE', 'SODIUM PHENYLBUTYRATE',\n       'SODIUM PHOSPHATE', 'sodium PO4', 'SODIUM POLYSTYRENE',\n       'SOMATROPIN', 'SOMATROPIN AQ', 'SOTALOL', 'spironolactone',\n       'SPIRONOLACTONE', 'sucralfate', 'SULFADIAZINE', 'sulfasalazine',\n       'SULFASALAZINE', 'tacrolimus', 'TACROLIMUS', 'TACROLIMUS (FK506)',\n       'TAMSULOSIN', 'tazocin', 'TAZOCIN(PIP/TAZO)',\n       'TESTOSTERONE CYPIONATE', 'TETANUS TOXOID', 'TETRACYCLINE',\n       'THEOPHYLLINE', 'THIAMINE', 'thymoglobulin', 'THYMOGLOBULIN',\n       'timentin', 'tinzaparin', 'tobramycin', 'TOBRAMYCIN', 'topiramate',\n       'TOPIRAMATE', 'TPA', 'tranexamic acid', 'TRI-CYCLEN',\n       'TRIAMCINOLONE ACETONIDE', 'TRIENTINE', 'trimethoprim',\n       'TRIMETHOPRIM', 'TUBERCULIN (PPD)', 'ursodiol', 'URSODIOL',\n       'ursoldiol', 'VALACYCLOVIR', 'valganciclovir', 'VALGANCICLOVIR',\n       'valgancivlovir', 'VALPROIC ACID', 'vancomycin', 'VANCOMYCIN',\n       'VARICELLA ZOSTER IMMUNE GLOBULIN', 'VENLAFAXINE', 'vigabatrin',\n       'VIGABATRIN', 'vincristine', 'VINCRISTINE', 'VIT. B12 INJECTIONS',\n       'VITAMIN A /VIT. D3 /VIT. C', 'VITAMIN A 10,000U',\n       'VITAMIN B WITH C (JAMIESON)', 'VITAMIN B12 ORAL TABLET',\n       'VITAMIN C', 'VITAMIN D', 'VITAMIN E', 'VITAMIN K',\n       'vitamin K-phytonadione', 'vitamin K1-phytonadion',\n       'vitamin k1-phytonadione', 'vitamin K1-phytonadione',\n       'vitamin K1-phytoniadone', 'vitamine K1 -phytonadione',\n       'VITMAIN B1', 'VIVONEX', 'voriconazole', 'VORICONAZOLE',\n       'warfarin', 'WARFARIN', 'ZAFIRLUKAST', 'ZINC', 'ZOPICLONE'],\n      dtype=object)"
     },
     "execution_count": 37,
     "metadata": {},
     "output_type": "execute_result"
    }
   ],
   "source": [
    "df_medication['Drug'].unique()"
   ],
   "metadata": {
    "collapsed": false,
    "ExecuteTime": {
     "end_time": "2023-12-07T01:02:43.250713Z",
     "start_time": "2023-12-07T01:02:43.214936Z"
    }
   },
   "id": "52f131fc60452c15"
  },
  {
   "cell_type": "markdown",
   "source": [
    "## need to check whih drug is taking by each patient"
   ],
   "metadata": {
    "collapsed": false
   },
   "id": "43dce2095c941d8a"
  },
  {
   "cell_type": "markdown",
   "source": [
    "### merg two data frame df_dialysis  and df_age"
   ],
   "metadata": {
    "collapsed": false
   },
   "id": "2ff0b5aa1025c57c"
  },
  {
   "cell_type": "code",
   "execution_count": null,
   "outputs": [],
   "source": [],
   "metadata": {
    "collapsed": false
   },
   "id": "d3fd01ce5a98214d"
  },
  {
   "cell_type": "code",
   "execution_count": 46,
   "outputs": [
    {
     "data": {
      "text/plain": "    StudyID  Type of dialysis  Start date  Stop date\n0         1                  1 2007-01-29 2007-10-26\n1         4                  1 2000-01-19 2007-02-14\n2         7                  1 2006-06-04 2006-06-14\n3         7                  1 2006-10-06 2007-03-06\n4        17                  2 2005-05-04 2007-06-18\n..      ...                ...        ...        ...\n59      464                  1 2008-04-16 2008-05-22\n60      480                  1 2003-10-23 2003-11-04\n61      483                  2 2006-12-20 2009-01-29\n62      488                  1 2008-01-16 2008-03-31\n63      488                  2 2008-04-01 2009-06-10\n\n[64 rows x 4 columns]",
      "text/html": "<div>\n<style scoped>\n    .dataframe tbody tr th:only-of-type {\n        vertical-align: middle;\n    }\n\n    .dataframe tbody tr th {\n        vertical-align: top;\n    }\n\n    .dataframe thead th {\n        text-align: right;\n    }\n</style>\n<table border=\"1\" class=\"dataframe\">\n  <thead>\n    <tr style=\"text-align: right;\">\n      <th></th>\n      <th>StudyID</th>\n      <th>Type of dialysis</th>\n      <th>Start date</th>\n      <th>Stop date</th>\n    </tr>\n  </thead>\n  <tbody>\n    <tr>\n      <th>0</th>\n      <td>1</td>\n      <td>1</td>\n      <td>2007-01-29</td>\n      <td>2007-10-26</td>\n    </tr>\n    <tr>\n      <th>1</th>\n      <td>4</td>\n      <td>1</td>\n      <td>2000-01-19</td>\n      <td>2007-02-14</td>\n    </tr>\n    <tr>\n      <th>2</th>\n      <td>7</td>\n      <td>1</td>\n      <td>2006-06-04</td>\n      <td>2006-06-14</td>\n    </tr>\n    <tr>\n      <th>3</th>\n      <td>7</td>\n      <td>1</td>\n      <td>2006-10-06</td>\n      <td>2007-03-06</td>\n    </tr>\n    <tr>\n      <th>4</th>\n      <td>17</td>\n      <td>2</td>\n      <td>2005-05-04</td>\n      <td>2007-06-18</td>\n    </tr>\n    <tr>\n      <th>...</th>\n      <td>...</td>\n      <td>...</td>\n      <td>...</td>\n      <td>...</td>\n    </tr>\n    <tr>\n      <th>59</th>\n      <td>464</td>\n      <td>1</td>\n      <td>2008-04-16</td>\n      <td>2008-05-22</td>\n    </tr>\n    <tr>\n      <th>60</th>\n      <td>480</td>\n      <td>1</td>\n      <td>2003-10-23</td>\n      <td>2003-11-04</td>\n    </tr>\n    <tr>\n      <th>61</th>\n      <td>483</td>\n      <td>2</td>\n      <td>2006-12-20</td>\n      <td>2009-01-29</td>\n    </tr>\n    <tr>\n      <th>62</th>\n      <td>488</td>\n      <td>1</td>\n      <td>2008-01-16</td>\n      <td>2008-03-31</td>\n    </tr>\n    <tr>\n      <th>63</th>\n      <td>488</td>\n      <td>2</td>\n      <td>2008-04-01</td>\n      <td>2009-06-10</td>\n    </tr>\n  </tbody>\n</table>\n<p>64 rows × 4 columns</p>\n</div>"
     },
     "execution_count": 46,
     "metadata": {},
     "output_type": "execute_result"
    }
   ],
   "source": [
    "df_dialysis"
   ],
   "metadata": {
    "collapsed": false,
    "ExecuteTime": {
     "end_time": "2023-12-07T01:08:26.364201Z",
     "start_time": "2023-12-07T01:08:26.349082Z"
    }
   },
   "id": "97d50287a84ceb9c"
  },
  {
   "cell_type": "code",
   "execution_count": 45,
   "outputs": [],
   "source": [
    "# df_age.rename(columns={'ID':'StudyID'},inplace=True)\n",
    "df_dialysis.rename(columns={'Study ID':'StudyID'},inplace=True)"
   ],
   "metadata": {
    "collapsed": false,
    "ExecuteTime": {
     "end_time": "2023-12-07T01:08:22.865625Z",
     "start_time": "2023-12-07T01:08:22.831654Z"
    }
   },
   "id": "7e41c0d6269498f9"
  },
  {
   "cell_type": "code",
   "execution_count": 47,
   "outputs": [],
   "source": [
    "df_dialysis['StudyID'] = df_dialysis['StudyID'] + 1000"
   ],
   "metadata": {
    "collapsed": false,
    "ExecuteTime": {
     "end_time": "2023-12-07T01:08:52.608082Z",
     "start_time": "2023-12-07T01:08:52.580780Z"
    }
   },
   "id": "4ba6254708dbdbd8"
  },
  {
   "cell_type": "code",
   "execution_count": 48,
   "outputs": [
    {
     "data": {
      "text/plain": "    StudyID  Type of dialysis  Start date  Stop date\n0      1001                  1 2007-01-29 2007-10-26\n1      1004                  1 2000-01-19 2007-02-14\n2      1007                  1 2006-06-04 2006-06-14\n3      1007                  1 2006-10-06 2007-03-06\n4      1017                  2 2005-05-04 2007-06-18\n..      ...                ...        ...        ...\n59     1464                  1 2008-04-16 2008-05-22\n60     1480                  1 2003-10-23 2003-11-04\n61     1483                  2 2006-12-20 2009-01-29\n62     1488                  1 2008-01-16 2008-03-31\n63     1488                  2 2008-04-01 2009-06-10\n\n[64 rows x 4 columns]",
      "text/html": "<div>\n<style scoped>\n    .dataframe tbody tr th:only-of-type {\n        vertical-align: middle;\n    }\n\n    .dataframe tbody tr th {\n        vertical-align: top;\n    }\n\n    .dataframe thead th {\n        text-align: right;\n    }\n</style>\n<table border=\"1\" class=\"dataframe\">\n  <thead>\n    <tr style=\"text-align: right;\">\n      <th></th>\n      <th>StudyID</th>\n      <th>Type of dialysis</th>\n      <th>Start date</th>\n      <th>Stop date</th>\n    </tr>\n  </thead>\n  <tbody>\n    <tr>\n      <th>0</th>\n      <td>1001</td>\n      <td>1</td>\n      <td>2007-01-29</td>\n      <td>2007-10-26</td>\n    </tr>\n    <tr>\n      <th>1</th>\n      <td>1004</td>\n      <td>1</td>\n      <td>2000-01-19</td>\n      <td>2007-02-14</td>\n    </tr>\n    <tr>\n      <th>2</th>\n      <td>1007</td>\n      <td>1</td>\n      <td>2006-06-04</td>\n      <td>2006-06-14</td>\n    </tr>\n    <tr>\n      <th>3</th>\n      <td>1007</td>\n      <td>1</td>\n      <td>2006-10-06</td>\n      <td>2007-03-06</td>\n    </tr>\n    <tr>\n      <th>4</th>\n      <td>1017</td>\n      <td>2</td>\n      <td>2005-05-04</td>\n      <td>2007-06-18</td>\n    </tr>\n    <tr>\n      <th>...</th>\n      <td>...</td>\n      <td>...</td>\n      <td>...</td>\n      <td>...</td>\n    </tr>\n    <tr>\n      <th>59</th>\n      <td>1464</td>\n      <td>1</td>\n      <td>2008-04-16</td>\n      <td>2008-05-22</td>\n    </tr>\n    <tr>\n      <th>60</th>\n      <td>1480</td>\n      <td>1</td>\n      <td>2003-10-23</td>\n      <td>2003-11-04</td>\n    </tr>\n    <tr>\n      <th>61</th>\n      <td>1483</td>\n      <td>2</td>\n      <td>2006-12-20</td>\n      <td>2009-01-29</td>\n    </tr>\n    <tr>\n      <th>62</th>\n      <td>1488</td>\n      <td>1</td>\n      <td>2008-01-16</td>\n      <td>2008-03-31</td>\n    </tr>\n    <tr>\n      <th>63</th>\n      <td>1488</td>\n      <td>2</td>\n      <td>2008-04-01</td>\n      <td>2009-06-10</td>\n    </tr>\n  </tbody>\n</table>\n<p>64 rows × 4 columns</p>\n</div>"
     },
     "execution_count": 48,
     "metadata": {},
     "output_type": "execute_result"
    }
   ],
   "source": [
    "df_dialysis"
   ],
   "metadata": {
    "collapsed": false,
    "ExecuteTime": {
     "end_time": "2023-12-07T01:08:56.529991Z",
     "start_time": "2023-12-07T01:08:56.496795Z"
    }
   },
   "id": "7a697caca7c5ebc1"
  },
  {
   "cell_type": "code",
   "execution_count": 49,
   "outputs": [
    {
     "data": {
      "text/plain": "     StudyID Type of transplant        DOT  Age at Tx Gender\n0       1001           Multiple 2006-11-25          0      M\n1       1002              Liver 2007-09-01          0      M\n2       1003              Liver 2007-01-02          0      F\n3       1004             Kidney 2007-02-14         12      M\n4       1005              Liver 2007-02-16         12      M\n..       ...                ...        ...        ...    ...\n489     1502              Liver 2009-02-28          8      M\n490     1503              Heart 1999-06-24          0      F\n491     1504               Lung 2008-05-19         14      M\n492     1506              Liver 2001-02-23          0      M\n493     1507               Lung 2008-08-02         16      F\n\n[494 rows x 5 columns]",
      "text/html": "<div>\n<style scoped>\n    .dataframe tbody tr th:only-of-type {\n        vertical-align: middle;\n    }\n\n    .dataframe tbody tr th {\n        vertical-align: top;\n    }\n\n    .dataframe thead th {\n        text-align: right;\n    }\n</style>\n<table border=\"1\" class=\"dataframe\">\n  <thead>\n    <tr style=\"text-align: right;\">\n      <th></th>\n      <th>StudyID</th>\n      <th>Type of transplant</th>\n      <th>DOT</th>\n      <th>Age at Tx</th>\n      <th>Gender</th>\n    </tr>\n  </thead>\n  <tbody>\n    <tr>\n      <th>0</th>\n      <td>1001</td>\n      <td>Multiple</td>\n      <td>2006-11-25</td>\n      <td>0</td>\n      <td>M</td>\n    </tr>\n    <tr>\n      <th>1</th>\n      <td>1002</td>\n      <td>Liver</td>\n      <td>2007-09-01</td>\n      <td>0</td>\n      <td>M</td>\n    </tr>\n    <tr>\n      <th>2</th>\n      <td>1003</td>\n      <td>Liver</td>\n      <td>2007-01-02</td>\n      <td>0</td>\n      <td>F</td>\n    </tr>\n    <tr>\n      <th>3</th>\n      <td>1004</td>\n      <td>Kidney</td>\n      <td>2007-02-14</td>\n      <td>12</td>\n      <td>M</td>\n    </tr>\n    <tr>\n      <th>4</th>\n      <td>1005</td>\n      <td>Liver</td>\n      <td>2007-02-16</td>\n      <td>12</td>\n      <td>M</td>\n    </tr>\n    <tr>\n      <th>...</th>\n      <td>...</td>\n      <td>...</td>\n      <td>...</td>\n      <td>...</td>\n      <td>...</td>\n    </tr>\n    <tr>\n      <th>489</th>\n      <td>1502</td>\n      <td>Liver</td>\n      <td>2009-02-28</td>\n      <td>8</td>\n      <td>M</td>\n    </tr>\n    <tr>\n      <th>490</th>\n      <td>1503</td>\n      <td>Heart</td>\n      <td>1999-06-24</td>\n      <td>0</td>\n      <td>F</td>\n    </tr>\n    <tr>\n      <th>491</th>\n      <td>1504</td>\n      <td>Lung</td>\n      <td>2008-05-19</td>\n      <td>14</td>\n      <td>M</td>\n    </tr>\n    <tr>\n      <th>492</th>\n      <td>1506</td>\n      <td>Liver</td>\n      <td>2001-02-23</td>\n      <td>0</td>\n      <td>M</td>\n    </tr>\n    <tr>\n      <th>493</th>\n      <td>1507</td>\n      <td>Lung</td>\n      <td>2008-08-02</td>\n      <td>16</td>\n      <td>F</td>\n    </tr>\n  </tbody>\n</table>\n<p>494 rows × 5 columns</p>\n</div>"
     },
     "execution_count": 49,
     "metadata": {},
     "output_type": "execute_result"
    }
   ],
   "source": [
    "df_age"
   ],
   "metadata": {
    "collapsed": false,
    "ExecuteTime": {
     "end_time": "2023-12-07T01:09:24.079566Z",
     "start_time": "2023-12-07T01:09:24.042091Z"
    }
   },
   "id": "3f0ea52243905d1d"
  },
  {
   "cell_type": "code",
   "execution_count": 58,
   "outputs": [
    {
     "name": "stdout",
     "output_type": "stream",
     "text": [
      "    StudyID  Type of dialysis  Start date  Stop date Type of transplant  \\\n",
      "0      1001                  1 2007-01-29 2007-10-26           Multiple   \n",
      "1      1004                  1 2000-01-19 2007-02-14             Kidney   \n",
      "2      1007                  1 2006-06-04 2006-06-14             Kidney   \n",
      "3      1007                  1 2006-10-06 2007-03-06             Kidney   \n",
      "4      1017                  2 2005-05-04 2007-06-18             Kidney   \n",
      "..      ...                ...        ...        ...                ...   \n",
      "59     1464                  1 2008-04-16 2008-05-22             Kidney   \n",
      "60     1480                  1 2003-10-23 2003-11-04             Kidney   \n",
      "61     1483                  2 2006-12-20 2009-01-29             Kidney   \n",
      "62     1488                  1 2008-01-16 2008-03-31             Kidney   \n",
      "63     1488                  2 2008-04-01 2009-06-10             Kidney   \n",
      "\n",
      "          DOT  Age at Tx Gender  DOT_after_Stop_date  \n",
      "0  2006-11-25          0      M                False  \n",
      "1  2007-02-14         12      M                 True  \n",
      "2  2007-06-03          8      F                 True  \n",
      "3  2007-06-03          8      F                 True  \n",
      "4  2007-06-18          3      F                 True  \n",
      "..        ...        ...    ...                  ...  \n",
      "59 2008-05-22          9      M                 True  \n",
      "60 2003-04-11         17    NaN                False  \n",
      "61 2001-10-16          5    NaN                False  \n",
      "62 2009-10-06         15    NaN                 True  \n",
      "63 2009-10-06         15    NaN                 True  \n",
      "\n",
      "[64 rows x 9 columns]\n"
     ]
    }
   ],
   "source": [
    "# Convert date columns to datetime\n",
    "df_dialysis['Stop date'] = pd.to_datetime(df_dialysis['Stop date'], errors='coerce')\n",
    "df_age['DOT'] = pd.to_datetime(df_age['DOT'], errors='coerce')\n",
    "\n",
    "# Merge the dataframes on StudyID\n",
    "combined_df = pd.merge(df_dialysis, df_age, on=\"StudyID\", how=\"inner\")\n",
    "\n",
    "# Compare DOT with Stop date\n",
    "combined_df['DOT_after_Stop_date'] = combined_df['DOT'] >= combined_df['Stop date']\n",
    "\n",
    "# Display the combined dataframe\n",
    "print(combined_df)\n"
   ],
   "metadata": {
    "collapsed": false,
    "ExecuteTime": {
     "end_time": "2023-12-07T01:16:25.708160Z",
     "start_time": "2023-12-07T01:16:25.691607Z"
    }
   },
   "id": "1a71e4067de75f23"
  },
  {
   "cell_type": "code",
   "execution_count": 59,
   "outputs": [
    {
     "data": {
      "text/plain": "    StudyID  Type of dialysis  Start date  Stop date Type of transplant  \\\n0      1001                  1 2007-01-29 2007-10-26           Multiple   \n1      1004                  1 2000-01-19 2007-02-14             Kidney   \n2      1007                  1 2006-06-04 2006-06-14             Kidney   \n3      1007                  1 2006-10-06 2007-03-06             Kidney   \n4      1017                  2 2005-05-04 2007-06-18             Kidney   \n..      ...                ...        ...        ...                ...   \n59     1464                  1 2008-04-16 2008-05-22             Kidney   \n60     1480                  1 2003-10-23 2003-11-04             Kidney   \n61     1483                  2 2006-12-20 2009-01-29             Kidney   \n62     1488                  1 2008-01-16 2008-03-31             Kidney   \n63     1488                  2 2008-04-01 2009-06-10             Kidney   \n\n          DOT  Age at Tx Gender  DOT_after_Stop_date  \n0  2006-11-25          0      M                False  \n1  2007-02-14         12      M                 True  \n2  2007-06-03          8      F                 True  \n3  2007-06-03          8      F                 True  \n4  2007-06-18          3      F                 True  \n..        ...        ...    ...                  ...  \n59 2008-05-22          9      M                 True  \n60 2003-04-11         17    NaN                False  \n61 2001-10-16          5    NaN                False  \n62 2009-10-06         15    NaN                 True  \n63 2009-10-06         15    NaN                 True  \n\n[64 rows x 9 columns]",
      "text/html": "<div>\n<style scoped>\n    .dataframe tbody tr th:only-of-type {\n        vertical-align: middle;\n    }\n\n    .dataframe tbody tr th {\n        vertical-align: top;\n    }\n\n    .dataframe thead th {\n        text-align: right;\n    }\n</style>\n<table border=\"1\" class=\"dataframe\">\n  <thead>\n    <tr style=\"text-align: right;\">\n      <th></th>\n      <th>StudyID</th>\n      <th>Type of dialysis</th>\n      <th>Start date</th>\n      <th>Stop date</th>\n      <th>Type of transplant</th>\n      <th>DOT</th>\n      <th>Age at Tx</th>\n      <th>Gender</th>\n      <th>DOT_after_Stop_date</th>\n    </tr>\n  </thead>\n  <tbody>\n    <tr>\n      <th>0</th>\n      <td>1001</td>\n      <td>1</td>\n      <td>2007-01-29</td>\n      <td>2007-10-26</td>\n      <td>Multiple</td>\n      <td>2006-11-25</td>\n      <td>0</td>\n      <td>M</td>\n      <td>False</td>\n    </tr>\n    <tr>\n      <th>1</th>\n      <td>1004</td>\n      <td>1</td>\n      <td>2000-01-19</td>\n      <td>2007-02-14</td>\n      <td>Kidney</td>\n      <td>2007-02-14</td>\n      <td>12</td>\n      <td>M</td>\n      <td>True</td>\n    </tr>\n    <tr>\n      <th>2</th>\n      <td>1007</td>\n      <td>1</td>\n      <td>2006-06-04</td>\n      <td>2006-06-14</td>\n      <td>Kidney</td>\n      <td>2007-06-03</td>\n      <td>8</td>\n      <td>F</td>\n      <td>True</td>\n    </tr>\n    <tr>\n      <th>3</th>\n      <td>1007</td>\n      <td>1</td>\n      <td>2006-10-06</td>\n      <td>2007-03-06</td>\n      <td>Kidney</td>\n      <td>2007-06-03</td>\n      <td>8</td>\n      <td>F</td>\n      <td>True</td>\n    </tr>\n    <tr>\n      <th>4</th>\n      <td>1017</td>\n      <td>2</td>\n      <td>2005-05-04</td>\n      <td>2007-06-18</td>\n      <td>Kidney</td>\n      <td>2007-06-18</td>\n      <td>3</td>\n      <td>F</td>\n      <td>True</td>\n    </tr>\n    <tr>\n      <th>...</th>\n      <td>...</td>\n      <td>...</td>\n      <td>...</td>\n      <td>...</td>\n      <td>...</td>\n      <td>...</td>\n      <td>...</td>\n      <td>...</td>\n      <td>...</td>\n    </tr>\n    <tr>\n      <th>59</th>\n      <td>1464</td>\n      <td>1</td>\n      <td>2008-04-16</td>\n      <td>2008-05-22</td>\n      <td>Kidney</td>\n      <td>2008-05-22</td>\n      <td>9</td>\n      <td>M</td>\n      <td>True</td>\n    </tr>\n    <tr>\n      <th>60</th>\n      <td>1480</td>\n      <td>1</td>\n      <td>2003-10-23</td>\n      <td>2003-11-04</td>\n      <td>Kidney</td>\n      <td>2003-04-11</td>\n      <td>17</td>\n      <td>NaN</td>\n      <td>False</td>\n    </tr>\n    <tr>\n      <th>61</th>\n      <td>1483</td>\n      <td>2</td>\n      <td>2006-12-20</td>\n      <td>2009-01-29</td>\n      <td>Kidney</td>\n      <td>2001-10-16</td>\n      <td>5</td>\n      <td>NaN</td>\n      <td>False</td>\n    </tr>\n    <tr>\n      <th>62</th>\n      <td>1488</td>\n      <td>1</td>\n      <td>2008-01-16</td>\n      <td>2008-03-31</td>\n      <td>Kidney</td>\n      <td>2009-10-06</td>\n      <td>15</td>\n      <td>NaN</td>\n      <td>True</td>\n    </tr>\n    <tr>\n      <th>63</th>\n      <td>1488</td>\n      <td>2</td>\n      <td>2008-04-01</td>\n      <td>2009-06-10</td>\n      <td>Kidney</td>\n      <td>2009-10-06</td>\n      <td>15</td>\n      <td>NaN</td>\n      <td>True</td>\n    </tr>\n  </tbody>\n</table>\n<p>64 rows × 9 columns</p>\n</div>"
     },
     "execution_count": 59,
     "metadata": {},
     "output_type": "execute_result"
    }
   ],
   "source": [
    "combined_df"
   ],
   "metadata": {
    "collapsed": false,
    "ExecuteTime": {
     "end_time": "2023-12-07T01:16:26.603318Z",
     "start_time": "2023-12-07T01:16:26.590671Z"
    }
   },
   "id": "73a70d184305c0fe"
  },
  {
   "cell_type": "markdown",
   "source": [
    "# Undertsand patient 1-10 "
   ],
   "metadata": {
    "collapsed": false
   },
   "id": "e34347086d337039"
  },
  {
   "cell_type": "markdown",
   "source": [
    "### load data "
   ],
   "metadata": {
    "collapsed": false
   },
   "id": "ff857ed601397f06"
  },
  {
   "cell_type": "code",
   "execution_count": 72,
   "outputs": [],
   "source": [
    "directory_path = '/Users/prakashgupta/radboudUMC-assignment/data/source/data/1-10'"
   ],
   "metadata": {
    "collapsed": false,
    "ExecuteTime": {
     "end_time": "2023-12-07T01:28:39.895503Z",
     "start_time": "2023-12-07T01:28:39.827663Z"
    }
   },
   "id": "71e96addab16b419"
  },
  {
   "cell_type": "code",
   "execution_count": null,
   "outputs": [],
   "source": [
    "# all_dataframes = []\n",
    "# \n",
    "# for filename in os.listdir(directory_path):\n",
    "#     print(filename)\n",
    "#     if filename.endswith('.xls'):\n",
    "#         file_path = os.path.join(directory_path, filename)\n",
    "#         df = pd.read_excel(file_path)\n",
    "#         all_dataframes.append(df)"
   ],
   "metadata": {
    "collapsed": false
   },
   "id": "c5e372c975f89bc2"
  },
  {
   "cell_type": "code",
   "execution_count": 81,
   "outputs": [],
   "source": [
    "df_admission = pd.read_excel('/Users/prakashgupta/radboudUMC-assignment/data/source/data/1-10/Admission Tac & meds 1-10.xls', sheet_name='ADMIT')"
   ],
   "metadata": {
    "collapsed": false,
    "ExecuteTime": {
     "end_time": "2023-12-07T01:33:17.499396Z",
     "start_time": "2023-12-07T01:33:17.466831Z"
    }
   },
   "id": "baca526905fb3174"
  },
  {
   "cell_type": "code",
   "execution_count": 82,
   "outputs": [
    {
     "data": {
      "text/plain": "    ID ADMIT DATE  ADMIT UNIT  DISCH DATE DISCHARGE UNIT\n0    1 2005-12-28  NICU        2007-10-26             6A\n1    2 2007-01-08  6A          2007-01-26             6A\n2    2 2007-02-06  HOLD        2007-02-20             6A\n3    3 2006-08-13  6A          2007-03-02             6A\n4    3 2007-04-04  4D          2007-04-04             4D\n5    4 2007-02-13  6ACU        2007-03-19             6A\n6    4 2007-04-17  6A          2007-05-04             6A\n7    4 2007-11-07  6A          2007-11-11             6A\n8    4 2007-12-10  6A          2007-12-10             6A\n9    4 2008-06-09  6A          2008-06-12             6B\n10   4 2009-01-15  6ACU        2009-01-18             6A\n11   5 2007-02-06  5A          2007-04-16             6A\n12   5 2007-05-05  HOLD        2007-07-04             6A\n13   5 2007-07-24  6A          2007-07-25             6A\n14   5 2007-08-21  6A          2007-10-16             6A\n15   5 2009-02-24  HOLD        2009-03-04             6A\n16   6 2006-11-09  6ACU        2007-03-14             6A\n17   6 2007-04-12  7E          2007-04-14             7E\n18   6 2007-06-27  6ACU        2007-06-28           6ACU\n19   6 2007-07-27  HOLD        2007-08-03             6A\n20   6 2007-10-08  6A          2007-10-15             6A\n21   6 2008-03-19  6A          2008-03-31             6A\n22   6 2008-09-12  6A          2008-09-15             6A\n23   6 2009-01-17  HOLD        2009-01-19             6A\n24   7 2007-03-05  6A          2007-03-21             6A\n25   8 2007-03-25  6A          2007-05-08             6A\n26   8 2007-06-02  HOLD        2007-06-10             6A\n27   8 2007-10-11  4C          2007-10-17             6A\n28   8 2008-09-15  6A          2008-09-15             6A\n29   9 2007-03-25  6A          2007-04-17             6A\n30   9 2007-11-29  6A          2007-12-01             6A\n31   9 2008-02-07  6A          2008-02-09             6A\n32  10 2007-04-03  6A          2007-04-20             6A\n33  10 2007-07-12  6ACU        2007-07-17             6A\n34  10 2007-07-27  6A          2007-08-14             6A\n35  10 2008-10-19  6B          2008-10-26             6B\n36  10 2009-03-25  6A          2009-04-06             6A",
      "text/html": "<div>\n<style scoped>\n    .dataframe tbody tr th:only-of-type {\n        vertical-align: middle;\n    }\n\n    .dataframe tbody tr th {\n        vertical-align: top;\n    }\n\n    .dataframe thead th {\n        text-align: right;\n    }\n</style>\n<table border=\"1\" class=\"dataframe\">\n  <thead>\n    <tr style=\"text-align: right;\">\n      <th></th>\n      <th>ID</th>\n      <th>ADMIT DATE</th>\n      <th>ADMIT UNIT</th>\n      <th>DISCH DATE</th>\n      <th>DISCHARGE UNIT</th>\n    </tr>\n  </thead>\n  <tbody>\n    <tr>\n      <th>0</th>\n      <td>1</td>\n      <td>2005-12-28</td>\n      <td>NICU</td>\n      <td>2007-10-26</td>\n      <td>6A</td>\n    </tr>\n    <tr>\n      <th>1</th>\n      <td>2</td>\n      <td>2007-01-08</td>\n      <td>6A</td>\n      <td>2007-01-26</td>\n      <td>6A</td>\n    </tr>\n    <tr>\n      <th>2</th>\n      <td>2</td>\n      <td>2007-02-06</td>\n      <td>HOLD</td>\n      <td>2007-02-20</td>\n      <td>6A</td>\n    </tr>\n    <tr>\n      <th>3</th>\n      <td>3</td>\n      <td>2006-08-13</td>\n      <td>6A</td>\n      <td>2007-03-02</td>\n      <td>6A</td>\n    </tr>\n    <tr>\n      <th>4</th>\n      <td>3</td>\n      <td>2007-04-04</td>\n      <td>4D</td>\n      <td>2007-04-04</td>\n      <td>4D</td>\n    </tr>\n    <tr>\n      <th>5</th>\n      <td>4</td>\n      <td>2007-02-13</td>\n      <td>6ACU</td>\n      <td>2007-03-19</td>\n      <td>6A</td>\n    </tr>\n    <tr>\n      <th>6</th>\n      <td>4</td>\n      <td>2007-04-17</td>\n      <td>6A</td>\n      <td>2007-05-04</td>\n      <td>6A</td>\n    </tr>\n    <tr>\n      <th>7</th>\n      <td>4</td>\n      <td>2007-11-07</td>\n      <td>6A</td>\n      <td>2007-11-11</td>\n      <td>6A</td>\n    </tr>\n    <tr>\n      <th>8</th>\n      <td>4</td>\n      <td>2007-12-10</td>\n      <td>6A</td>\n      <td>2007-12-10</td>\n      <td>6A</td>\n    </tr>\n    <tr>\n      <th>9</th>\n      <td>4</td>\n      <td>2008-06-09</td>\n      <td>6A</td>\n      <td>2008-06-12</td>\n      <td>6B</td>\n    </tr>\n    <tr>\n      <th>10</th>\n      <td>4</td>\n      <td>2009-01-15</td>\n      <td>6ACU</td>\n      <td>2009-01-18</td>\n      <td>6A</td>\n    </tr>\n    <tr>\n      <th>11</th>\n      <td>5</td>\n      <td>2007-02-06</td>\n      <td>5A</td>\n      <td>2007-04-16</td>\n      <td>6A</td>\n    </tr>\n    <tr>\n      <th>12</th>\n      <td>5</td>\n      <td>2007-05-05</td>\n      <td>HOLD</td>\n      <td>2007-07-04</td>\n      <td>6A</td>\n    </tr>\n    <tr>\n      <th>13</th>\n      <td>5</td>\n      <td>2007-07-24</td>\n      <td>6A</td>\n      <td>2007-07-25</td>\n      <td>6A</td>\n    </tr>\n    <tr>\n      <th>14</th>\n      <td>5</td>\n      <td>2007-08-21</td>\n      <td>6A</td>\n      <td>2007-10-16</td>\n      <td>6A</td>\n    </tr>\n    <tr>\n      <th>15</th>\n      <td>5</td>\n      <td>2009-02-24</td>\n      <td>HOLD</td>\n      <td>2009-03-04</td>\n      <td>6A</td>\n    </tr>\n    <tr>\n      <th>16</th>\n      <td>6</td>\n      <td>2006-11-09</td>\n      <td>6ACU</td>\n      <td>2007-03-14</td>\n      <td>6A</td>\n    </tr>\n    <tr>\n      <th>17</th>\n      <td>6</td>\n      <td>2007-04-12</td>\n      <td>7E</td>\n      <td>2007-04-14</td>\n      <td>7E</td>\n    </tr>\n    <tr>\n      <th>18</th>\n      <td>6</td>\n      <td>2007-06-27</td>\n      <td>6ACU</td>\n      <td>2007-06-28</td>\n      <td>6ACU</td>\n    </tr>\n    <tr>\n      <th>19</th>\n      <td>6</td>\n      <td>2007-07-27</td>\n      <td>HOLD</td>\n      <td>2007-08-03</td>\n      <td>6A</td>\n    </tr>\n    <tr>\n      <th>20</th>\n      <td>6</td>\n      <td>2007-10-08</td>\n      <td>6A</td>\n      <td>2007-10-15</td>\n      <td>6A</td>\n    </tr>\n    <tr>\n      <th>21</th>\n      <td>6</td>\n      <td>2008-03-19</td>\n      <td>6A</td>\n      <td>2008-03-31</td>\n      <td>6A</td>\n    </tr>\n    <tr>\n      <th>22</th>\n      <td>6</td>\n      <td>2008-09-12</td>\n      <td>6A</td>\n      <td>2008-09-15</td>\n      <td>6A</td>\n    </tr>\n    <tr>\n      <th>23</th>\n      <td>6</td>\n      <td>2009-01-17</td>\n      <td>HOLD</td>\n      <td>2009-01-19</td>\n      <td>6A</td>\n    </tr>\n    <tr>\n      <th>24</th>\n      <td>7</td>\n      <td>2007-03-05</td>\n      <td>6A</td>\n      <td>2007-03-21</td>\n      <td>6A</td>\n    </tr>\n    <tr>\n      <th>25</th>\n      <td>8</td>\n      <td>2007-03-25</td>\n      <td>6A</td>\n      <td>2007-05-08</td>\n      <td>6A</td>\n    </tr>\n    <tr>\n      <th>26</th>\n      <td>8</td>\n      <td>2007-06-02</td>\n      <td>HOLD</td>\n      <td>2007-06-10</td>\n      <td>6A</td>\n    </tr>\n    <tr>\n      <th>27</th>\n      <td>8</td>\n      <td>2007-10-11</td>\n      <td>4C</td>\n      <td>2007-10-17</td>\n      <td>6A</td>\n    </tr>\n    <tr>\n      <th>28</th>\n      <td>8</td>\n      <td>2008-09-15</td>\n      <td>6A</td>\n      <td>2008-09-15</td>\n      <td>6A</td>\n    </tr>\n    <tr>\n      <th>29</th>\n      <td>9</td>\n      <td>2007-03-25</td>\n      <td>6A</td>\n      <td>2007-04-17</td>\n      <td>6A</td>\n    </tr>\n    <tr>\n      <th>30</th>\n      <td>9</td>\n      <td>2007-11-29</td>\n      <td>6A</td>\n      <td>2007-12-01</td>\n      <td>6A</td>\n    </tr>\n    <tr>\n      <th>31</th>\n      <td>9</td>\n      <td>2008-02-07</td>\n      <td>6A</td>\n      <td>2008-02-09</td>\n      <td>6A</td>\n    </tr>\n    <tr>\n      <th>32</th>\n      <td>10</td>\n      <td>2007-04-03</td>\n      <td>6A</td>\n      <td>2007-04-20</td>\n      <td>6A</td>\n    </tr>\n    <tr>\n      <th>33</th>\n      <td>10</td>\n      <td>2007-07-12</td>\n      <td>6ACU</td>\n      <td>2007-07-17</td>\n      <td>6A</td>\n    </tr>\n    <tr>\n      <th>34</th>\n      <td>10</td>\n      <td>2007-07-27</td>\n      <td>6A</td>\n      <td>2007-08-14</td>\n      <td>6A</td>\n    </tr>\n    <tr>\n      <th>35</th>\n      <td>10</td>\n      <td>2008-10-19</td>\n      <td>6B</td>\n      <td>2008-10-26</td>\n      <td>6B</td>\n    </tr>\n    <tr>\n      <th>36</th>\n      <td>10</td>\n      <td>2009-03-25</td>\n      <td>6A</td>\n      <td>2009-04-06</td>\n      <td>6A</td>\n    </tr>\n  </tbody>\n</table>\n</div>"
     },
     "execution_count": 82,
     "metadata": {},
     "output_type": "execute_result"
    }
   ],
   "source": [
    "df_admission"
   ],
   "metadata": {
    "collapsed": false,
    "ExecuteTime": {
     "end_time": "2023-12-07T01:33:25.486032Z",
     "start_time": "2023-12-07T01:33:25.461176Z"
    }
   },
   "id": "c921a315f21b40c2"
  },
  {
   "cell_type": "code",
   "execution_count": 83,
   "outputs": [],
   "source": [
    "## delete not useful columns\n",
    "df_admission.drop(['ADMIT UNIT','DISCHARGE UNIT'],axis=1,inplace=True)"
   ],
   "metadata": {
    "collapsed": false,
    "ExecuteTime": {
     "end_time": "2023-12-07T01:48:06.346339Z",
     "start_time": "2023-12-07T01:48:06.300059Z"
    }
   },
   "id": "7962abf4c68eda18"
  },
  {
   "cell_type": "code",
   "execution_count": 231,
   "outputs": [],
   "source": [
    "def admission_admit(df):\n",
    "    \n",
    "    return df_admission['DISCH DATE']\n"
   ],
   "metadata": {
    "collapsed": false,
    "ExecuteTime": {
     "end_time": "2023-12-07T03:07:10.540459Z",
     "start_time": "2023-12-07T03:07:10.486499Z"
    }
   },
   "id": "cf1efa5ebfde526"
  },
  {
   "cell_type": "code",
   "execution_count": 232,
   "outputs": [
    {
     "data": {
      "text/plain": "1    2007-01-26\n2    2007-02-20\nName: DISCH DATE, dtype: object"
     },
     "execution_count": 232,
     "metadata": {},
     "output_type": "execute_result"
    }
   ],
   "source": [
    "admission_admit(df_admission)\n"
   ],
   "metadata": {
    "collapsed": false,
    "ExecuteTime": {
     "end_time": "2023-12-07T03:07:13.012564Z",
     "start_time": "2023-12-07T03:07:12.962171Z"
    }
   },
   "id": "656ab6ebd348e545"
  },
  {
   "cell_type": "code",
   "execution_count": 98,
   "outputs": [],
   "source": [
    "df_admission = df_admission[df_admission['ID'] == 2]"
   ],
   "metadata": {
    "collapsed": false,
    "ExecuteTime": {
     "end_time": "2023-12-07T01:54:13.929208Z",
     "start_time": "2023-12-07T01:54:13.885046Z"
    }
   },
   "id": "d75e8e4b38d48ece"
  },
  {
   "cell_type": "code",
   "execution_count": 85,
   "outputs": [],
   "source": [
    "df_admission_tac = pd.read_excel('/Users/prakashgupta/radboudUMC-assignment/data/source/data/1-10/Admission Tac & meds 1-10.xls', sheet_name='TAC')"
   ],
   "metadata": {
    "collapsed": false,
    "ExecuteTime": {
     "end_time": "2023-12-07T01:49:16.704635Z",
     "start_time": "2023-12-07T01:49:16.649917Z"
    }
   },
   "id": "fe287f511c51be33"
  },
  {
   "cell_type": "code",
   "execution_count": 86,
   "outputs": [
    {
     "data": {
      "text/plain": "     id start date             drug name    dose  route  schedule  \\\n0     2 2007-01-20         Acetominophen  100 mg     ng       q6h   \n1     2 2007-01-20            Gentamicin   25 mg     IV       q8h   \n2     2 2007-01-20  Acetylsalicylic acid   40 mg     po     daily   \n3     2 2007-01-20            ranitidine   30 mg  po/ng      q12h   \n4     2 2007-01-20            prednisone    3 mg  po/ng    daily    \n..   ..        ...                   ...     ...    ...       ...   \n640  10 2009-04-03            cefotaxime  530 mg     iv       q8h   \n641  10 2009-04-03            ampicillin  600 mg     iv       q6h   \n642  10 2009-04-03    methylprednisolone  150 mg    NaN  daily iv   \n643  10 2009-04-06            tacrolimus  0.4 mg     po       bid   \n644  10 2009-04-06          prednisolone   15 mg     po     daily   \n\n     target level administered  stop date  \n0             NaN          NaN 2007-01-24  \n1             NaN          NaN 2007-01-22  \n2             NaN          NaN 2007-01-24  \n3             NaN          NaN 2007-01-20  \n4             NaN          NaN 2007-01-22  \n..            ...          ...        ...  \n640           NaN          NaN 2009-04-05  \n641           NaN          NaN 2009-04-05  \n642           NaN          NaN        NaT  \n643           NaN          NaN 2009-04-06  \n644           NaN          NaN        NaT  \n\n[645 rows x 9 columns]",
      "text/html": "<div>\n<style scoped>\n    .dataframe tbody tr th:only-of-type {\n        vertical-align: middle;\n    }\n\n    .dataframe tbody tr th {\n        vertical-align: top;\n    }\n\n    .dataframe thead th {\n        text-align: right;\n    }\n</style>\n<table border=\"1\" class=\"dataframe\">\n  <thead>\n    <tr style=\"text-align: right;\">\n      <th></th>\n      <th>id</th>\n      <th>start date</th>\n      <th>drug name</th>\n      <th>dose</th>\n      <th>route</th>\n      <th>schedule</th>\n      <th>target level</th>\n      <th>administered</th>\n      <th>stop date</th>\n    </tr>\n  </thead>\n  <tbody>\n    <tr>\n      <th>0</th>\n      <td>2</td>\n      <td>2007-01-20</td>\n      <td>Acetominophen</td>\n      <td>100 mg</td>\n      <td>ng</td>\n      <td>q6h</td>\n      <td>NaN</td>\n      <td>NaN</td>\n      <td>2007-01-24</td>\n    </tr>\n    <tr>\n      <th>1</th>\n      <td>2</td>\n      <td>2007-01-20</td>\n      <td>Gentamicin</td>\n      <td>25 mg</td>\n      <td>IV</td>\n      <td>q8h</td>\n      <td>NaN</td>\n      <td>NaN</td>\n      <td>2007-01-22</td>\n    </tr>\n    <tr>\n      <th>2</th>\n      <td>2</td>\n      <td>2007-01-20</td>\n      <td>Acetylsalicylic acid</td>\n      <td>40 mg</td>\n      <td>po</td>\n      <td>daily</td>\n      <td>NaN</td>\n      <td>NaN</td>\n      <td>2007-01-24</td>\n    </tr>\n    <tr>\n      <th>3</th>\n      <td>2</td>\n      <td>2007-01-20</td>\n      <td>ranitidine</td>\n      <td>30 mg</td>\n      <td>po/ng</td>\n      <td>q12h</td>\n      <td>NaN</td>\n      <td>NaN</td>\n      <td>2007-01-20</td>\n    </tr>\n    <tr>\n      <th>4</th>\n      <td>2</td>\n      <td>2007-01-20</td>\n      <td>prednisone</td>\n      <td>3 mg</td>\n      <td>po/ng</td>\n      <td>daily</td>\n      <td>NaN</td>\n      <td>NaN</td>\n      <td>2007-01-22</td>\n    </tr>\n    <tr>\n      <th>...</th>\n      <td>...</td>\n      <td>...</td>\n      <td>...</td>\n      <td>...</td>\n      <td>...</td>\n      <td>...</td>\n      <td>...</td>\n      <td>...</td>\n      <td>...</td>\n    </tr>\n    <tr>\n      <th>640</th>\n      <td>10</td>\n      <td>2009-04-03</td>\n      <td>cefotaxime</td>\n      <td>530 mg</td>\n      <td>iv</td>\n      <td>q8h</td>\n      <td>NaN</td>\n      <td>NaN</td>\n      <td>2009-04-05</td>\n    </tr>\n    <tr>\n      <th>641</th>\n      <td>10</td>\n      <td>2009-04-03</td>\n      <td>ampicillin</td>\n      <td>600 mg</td>\n      <td>iv</td>\n      <td>q6h</td>\n      <td>NaN</td>\n      <td>NaN</td>\n      <td>2009-04-05</td>\n    </tr>\n    <tr>\n      <th>642</th>\n      <td>10</td>\n      <td>2009-04-03</td>\n      <td>methylprednisolone</td>\n      <td>150 mg</td>\n      <td>NaN</td>\n      <td>daily iv</td>\n      <td>NaN</td>\n      <td>NaN</td>\n      <td>NaT</td>\n    </tr>\n    <tr>\n      <th>643</th>\n      <td>10</td>\n      <td>2009-04-06</td>\n      <td>tacrolimus</td>\n      <td>0.4 mg</td>\n      <td>po</td>\n      <td>bid</td>\n      <td>NaN</td>\n      <td>NaN</td>\n      <td>2009-04-06</td>\n    </tr>\n    <tr>\n      <th>644</th>\n      <td>10</td>\n      <td>2009-04-06</td>\n      <td>prednisolone</td>\n      <td>15 mg</td>\n      <td>po</td>\n      <td>daily</td>\n      <td>NaN</td>\n      <td>NaN</td>\n      <td>NaT</td>\n    </tr>\n  </tbody>\n</table>\n<p>645 rows × 9 columns</p>\n</div>"
     },
     "execution_count": 86,
     "metadata": {},
     "output_type": "execute_result"
    }
   ],
   "source": [
    "df_admission_tac"
   ],
   "metadata": {
    "collapsed": false,
    "ExecuteTime": {
     "end_time": "2023-12-07T01:49:20.903551Z",
     "start_time": "2023-12-07T01:49:20.868010Z"
    }
   },
   "id": "38d96ae73bfca9a0"
  },
  {
   "cell_type": "code",
   "execution_count": 87,
   "outputs": [],
   "source": [
    "### using only id 2 data"
   ],
   "metadata": {
    "collapsed": false,
    "ExecuteTime": {
     "end_time": "2023-12-07T01:50:06.804749Z",
     "start_time": "2023-12-07T01:50:06.761699Z"
    }
   },
   "id": "a8bfe7fc6a448dcc"
  },
  {
   "cell_type": "code",
   "execution_count": 88,
   "outputs": [],
   "source": [
    "df_admission_tac = df_admission_tac[df_admission_tac['id'] == 2]"
   ],
   "metadata": {
    "collapsed": false,
    "ExecuteTime": {
     "end_time": "2023-12-07T01:50:15.541044Z",
     "start_time": "2023-12-07T01:50:15.494099Z"
    }
   },
   "id": "4c36303211ae9bba"
  },
  {
   "cell_type": "code",
   "execution_count": 90,
   "outputs": [
    {
     "name": "stderr",
     "output_type": "stream",
     "text": [
      "/opt/homebrew/lib/python3.11/site-packages/pandas/core/frame.py:4308: SettingWithCopyWarning: \n",
      "A value is trying to be set on a copy of a slice from a DataFrame\n",
      "\n",
      "See the caveats in the documentation: https://pandas.pydata.org/pandas-docs/stable/user_guide/indexing.html#returning-a-view-versus-a-copy\n",
      "  return super().drop(\n"
     ]
    }
   ],
   "source": [
    "df_admission_tac.drop(['route','schedule','target level','administered',], axis=1, inplace=True)"
   ],
   "metadata": {
    "collapsed": false,
    "ExecuteTime": {
     "end_time": "2023-12-07T01:51:28.627597Z",
     "start_time": "2023-12-07T01:51:28.588866Z"
    }
   },
   "id": "8c3def2521a5ddb0"
  },
  {
   "cell_type": "code",
   "execution_count": 91,
   "outputs": [
    {
     "data": {
      "text/plain": "    id start date             drug name           dose  stop date\n0    2 2007-01-20         Acetominophen         100 mg 2007-01-24\n1    2 2007-01-20            Gentamicin          25 mg 2007-01-22\n2    2 2007-01-20  Acetylsalicylic acid          40 mg 2007-01-24\n3    2 2007-01-20            ranitidine          30 mg 2007-01-20\n4    2 2007-01-20            prednisone           3 mg 2007-01-22\n5    2 2007-01-20            furosemide           5 mg 2007-01-21\n6    2 2007-01-20               tazocin         850 mg 2007-01-22\n7    2 2007-01-20   CMV immune globulin        1500 mg 2007-01-20\n8    2 2007-01-20            tacrolimus         2.2 mg 2007-01-21\n9    2 2007-01-20              nystatin  100.000 units 2007-01-24\n10   2 2007-01-22            tacrolimus         2.4 mg 2007-01-24\n11   2 2007-01-22          Prednisolone           2 mg 2007-01-22\n12   2 2007-01-23          Prednisolone           3 mg 2007-01-24\n13   2 2007-01-22           ganciclovir          50 mg 2007-01-24\n14   2 2007-01-22         cotrimoxazole          40 mg 2007-01-24\n15   2 2007-01-22   CMV immune globulin        1500 mg 2007-01-24\n16   2 2007-01-23   Magnesium hydroxide          90 mg 2007-01-24\n17   2 2007-01-23    Magnesium sulphate         3 mmol 2007-01-23\n18   2 2007-01-24            tacrolimus         2.8 mg 2007-01-24\n19   2 2007-01-24            tacrolimus         2.7 mg 2007-01-24\n20   2 2007-02-06            prednisone           2 mg 2007-02-09\n21   2 2007-02-06            tacrolimus         3.1 mg 2007-02-09\n22   2 2007-02-08    sodium bicarbonate        10 mmol 2007-02-08\n23   2 2007-02-09         acetominophen          90 mg 2007-02-09\n24   2 2007-02-09    sodium bicarbonate        10 mmol 2007-02-09\n25   2 2007-02-09    magnesium sulphate         3 mmol 2007-02-09\n26   2 2007-02-09    sodium bicarbonate        10 mmol 2007-02-09\n27   2 2007-02-09            tacrolimus         3.3 mg 2007-02-12\n28   2 2007-02-10    magnesium sulphate         2 mmol 2007-02-10\n29   2 2007-02-10         acetominophen          90 mg        NaT\n30   2 2007-02-11    magnesium sulphate         2 mmol 2007-02-11\n31   2 2007-02-12    magnesium sulphate         3 mmol 2007-02-12\n32   2 2007-02-12            tacrolimus         1.5 mg 2007-02-12\n33   2 2007-02-13            tacrolimus         2.5 mg 2007-02-13\n34   2 2007-02-13            tacrolimus           1 mg 2007-02-15\n35   2 2007-02-13    sodium bicarbonate        10 mmol 2007-02-13\n36   2 2007-02-14    magnesium sulphate         3 mmol 2007-02-14\n37   2 2007-02-15    magnesium sulphate       2.5 mmol 2007-02-15\n38   2 2007-02-15            tacrolimus         1.3 mg 2007-02-16\n39   2 2007-02-16   magnesium hydroxide          99 mg 2007-02-18\n40   2 2007-02-16    magnesium sulphate         2 mmol 2007-02-16\n41   2 2007-02-16            tacrolimus         1.7 mg 2007-02-16\n42   2 2005-02-17            tacrolimus         1.5 mg 2007-02-18\n43   2 2007-02-17    magnesium sulphate       1.1 mmol        NaT\n44   2 2007-02-18   magnesium hydroxide         132 mg        NaT\n45   2 2007-02-18            tacrolimus           2 mg 2007-02-19\n46   2 2007-02-19            tacrolimus         3.2 mg 2007-02-19\n47   2 2007-02-20            tacrolimus         2.5 mg 2007-02-20\n48   2 2007-02-20    magnesium sulphate         2 mmol 2007-02-20\n49   2 2007-02-20  CMV immune globuline        1500 mg 2007-02-20\n50   2 2007-02-20            tacrolimus           3 mg        NaT",
      "text/html": "<div>\n<style scoped>\n    .dataframe tbody tr th:only-of-type {\n        vertical-align: middle;\n    }\n\n    .dataframe tbody tr th {\n        vertical-align: top;\n    }\n\n    .dataframe thead th {\n        text-align: right;\n    }\n</style>\n<table border=\"1\" class=\"dataframe\">\n  <thead>\n    <tr style=\"text-align: right;\">\n      <th></th>\n      <th>id</th>\n      <th>start date</th>\n      <th>drug name</th>\n      <th>dose</th>\n      <th>stop date</th>\n    </tr>\n  </thead>\n  <tbody>\n    <tr>\n      <th>0</th>\n      <td>2</td>\n      <td>2007-01-20</td>\n      <td>Acetominophen</td>\n      <td>100 mg</td>\n      <td>2007-01-24</td>\n    </tr>\n    <tr>\n      <th>1</th>\n      <td>2</td>\n      <td>2007-01-20</td>\n      <td>Gentamicin</td>\n      <td>25 mg</td>\n      <td>2007-01-22</td>\n    </tr>\n    <tr>\n      <th>2</th>\n      <td>2</td>\n      <td>2007-01-20</td>\n      <td>Acetylsalicylic acid</td>\n      <td>40 mg</td>\n      <td>2007-01-24</td>\n    </tr>\n    <tr>\n      <th>3</th>\n      <td>2</td>\n      <td>2007-01-20</td>\n      <td>ranitidine</td>\n      <td>30 mg</td>\n      <td>2007-01-20</td>\n    </tr>\n    <tr>\n      <th>4</th>\n      <td>2</td>\n      <td>2007-01-20</td>\n      <td>prednisone</td>\n      <td>3 mg</td>\n      <td>2007-01-22</td>\n    </tr>\n    <tr>\n      <th>5</th>\n      <td>2</td>\n      <td>2007-01-20</td>\n      <td>furosemide</td>\n      <td>5 mg</td>\n      <td>2007-01-21</td>\n    </tr>\n    <tr>\n      <th>6</th>\n      <td>2</td>\n      <td>2007-01-20</td>\n      <td>tazocin</td>\n      <td>850 mg</td>\n      <td>2007-01-22</td>\n    </tr>\n    <tr>\n      <th>7</th>\n      <td>2</td>\n      <td>2007-01-20</td>\n      <td>CMV immune globulin</td>\n      <td>1500 mg</td>\n      <td>2007-01-20</td>\n    </tr>\n    <tr>\n      <th>8</th>\n      <td>2</td>\n      <td>2007-01-20</td>\n      <td>tacrolimus</td>\n      <td>2.2 mg</td>\n      <td>2007-01-21</td>\n    </tr>\n    <tr>\n      <th>9</th>\n      <td>2</td>\n      <td>2007-01-20</td>\n      <td>nystatin</td>\n      <td>100.000 units</td>\n      <td>2007-01-24</td>\n    </tr>\n    <tr>\n      <th>10</th>\n      <td>2</td>\n      <td>2007-01-22</td>\n      <td>tacrolimus</td>\n      <td>2.4 mg</td>\n      <td>2007-01-24</td>\n    </tr>\n    <tr>\n      <th>11</th>\n      <td>2</td>\n      <td>2007-01-22</td>\n      <td>Prednisolone</td>\n      <td>2 mg</td>\n      <td>2007-01-22</td>\n    </tr>\n    <tr>\n      <th>12</th>\n      <td>2</td>\n      <td>2007-01-23</td>\n      <td>Prednisolone</td>\n      <td>3 mg</td>\n      <td>2007-01-24</td>\n    </tr>\n    <tr>\n      <th>13</th>\n      <td>2</td>\n      <td>2007-01-22</td>\n      <td>ganciclovir</td>\n      <td>50 mg</td>\n      <td>2007-01-24</td>\n    </tr>\n    <tr>\n      <th>14</th>\n      <td>2</td>\n      <td>2007-01-22</td>\n      <td>cotrimoxazole</td>\n      <td>40 mg</td>\n      <td>2007-01-24</td>\n    </tr>\n    <tr>\n      <th>15</th>\n      <td>2</td>\n      <td>2007-01-22</td>\n      <td>CMV immune globulin</td>\n      <td>1500 mg</td>\n      <td>2007-01-24</td>\n    </tr>\n    <tr>\n      <th>16</th>\n      <td>2</td>\n      <td>2007-01-23</td>\n      <td>Magnesium hydroxide</td>\n      <td>90 mg</td>\n      <td>2007-01-24</td>\n    </tr>\n    <tr>\n      <th>17</th>\n      <td>2</td>\n      <td>2007-01-23</td>\n      <td>Magnesium sulphate</td>\n      <td>3 mmol</td>\n      <td>2007-01-23</td>\n    </tr>\n    <tr>\n      <th>18</th>\n      <td>2</td>\n      <td>2007-01-24</td>\n      <td>tacrolimus</td>\n      <td>2.8 mg</td>\n      <td>2007-01-24</td>\n    </tr>\n    <tr>\n      <th>19</th>\n      <td>2</td>\n      <td>2007-01-24</td>\n      <td>tacrolimus</td>\n      <td>2.7 mg</td>\n      <td>2007-01-24</td>\n    </tr>\n    <tr>\n      <th>20</th>\n      <td>2</td>\n      <td>2007-02-06</td>\n      <td>prednisone</td>\n      <td>2 mg</td>\n      <td>2007-02-09</td>\n    </tr>\n    <tr>\n      <th>21</th>\n      <td>2</td>\n      <td>2007-02-06</td>\n      <td>tacrolimus</td>\n      <td>3.1 mg</td>\n      <td>2007-02-09</td>\n    </tr>\n    <tr>\n      <th>22</th>\n      <td>2</td>\n      <td>2007-02-08</td>\n      <td>sodium bicarbonate</td>\n      <td>10 mmol</td>\n      <td>2007-02-08</td>\n    </tr>\n    <tr>\n      <th>23</th>\n      <td>2</td>\n      <td>2007-02-09</td>\n      <td>acetominophen</td>\n      <td>90 mg</td>\n      <td>2007-02-09</td>\n    </tr>\n    <tr>\n      <th>24</th>\n      <td>2</td>\n      <td>2007-02-09</td>\n      <td>sodium bicarbonate</td>\n      <td>10 mmol</td>\n      <td>2007-02-09</td>\n    </tr>\n    <tr>\n      <th>25</th>\n      <td>2</td>\n      <td>2007-02-09</td>\n      <td>magnesium sulphate</td>\n      <td>3 mmol</td>\n      <td>2007-02-09</td>\n    </tr>\n    <tr>\n      <th>26</th>\n      <td>2</td>\n      <td>2007-02-09</td>\n      <td>sodium bicarbonate</td>\n      <td>10 mmol</td>\n      <td>2007-02-09</td>\n    </tr>\n    <tr>\n      <th>27</th>\n      <td>2</td>\n      <td>2007-02-09</td>\n      <td>tacrolimus</td>\n      <td>3.3 mg</td>\n      <td>2007-02-12</td>\n    </tr>\n    <tr>\n      <th>28</th>\n      <td>2</td>\n      <td>2007-02-10</td>\n      <td>magnesium sulphate</td>\n      <td>2 mmol</td>\n      <td>2007-02-10</td>\n    </tr>\n    <tr>\n      <th>29</th>\n      <td>2</td>\n      <td>2007-02-10</td>\n      <td>acetominophen</td>\n      <td>90 mg</td>\n      <td>NaT</td>\n    </tr>\n    <tr>\n      <th>30</th>\n      <td>2</td>\n      <td>2007-02-11</td>\n      <td>magnesium sulphate</td>\n      <td>2 mmol</td>\n      <td>2007-02-11</td>\n    </tr>\n    <tr>\n      <th>31</th>\n      <td>2</td>\n      <td>2007-02-12</td>\n      <td>magnesium sulphate</td>\n      <td>3 mmol</td>\n      <td>2007-02-12</td>\n    </tr>\n    <tr>\n      <th>32</th>\n      <td>2</td>\n      <td>2007-02-12</td>\n      <td>tacrolimus</td>\n      <td>1.5 mg</td>\n      <td>2007-02-12</td>\n    </tr>\n    <tr>\n      <th>33</th>\n      <td>2</td>\n      <td>2007-02-13</td>\n      <td>tacrolimus</td>\n      <td>2.5 mg</td>\n      <td>2007-02-13</td>\n    </tr>\n    <tr>\n      <th>34</th>\n      <td>2</td>\n      <td>2007-02-13</td>\n      <td>tacrolimus</td>\n      <td>1 mg</td>\n      <td>2007-02-15</td>\n    </tr>\n    <tr>\n      <th>35</th>\n      <td>2</td>\n      <td>2007-02-13</td>\n      <td>sodium bicarbonate</td>\n      <td>10 mmol</td>\n      <td>2007-02-13</td>\n    </tr>\n    <tr>\n      <th>36</th>\n      <td>2</td>\n      <td>2007-02-14</td>\n      <td>magnesium sulphate</td>\n      <td>3 mmol</td>\n      <td>2007-02-14</td>\n    </tr>\n    <tr>\n      <th>37</th>\n      <td>2</td>\n      <td>2007-02-15</td>\n      <td>magnesium sulphate</td>\n      <td>2.5 mmol</td>\n      <td>2007-02-15</td>\n    </tr>\n    <tr>\n      <th>38</th>\n      <td>2</td>\n      <td>2007-02-15</td>\n      <td>tacrolimus</td>\n      <td>1.3 mg</td>\n      <td>2007-02-16</td>\n    </tr>\n    <tr>\n      <th>39</th>\n      <td>2</td>\n      <td>2007-02-16</td>\n      <td>magnesium hydroxide</td>\n      <td>99 mg</td>\n      <td>2007-02-18</td>\n    </tr>\n    <tr>\n      <th>40</th>\n      <td>2</td>\n      <td>2007-02-16</td>\n      <td>magnesium sulphate</td>\n      <td>2 mmol</td>\n      <td>2007-02-16</td>\n    </tr>\n    <tr>\n      <th>41</th>\n      <td>2</td>\n      <td>2007-02-16</td>\n      <td>tacrolimus</td>\n      <td>1.7 mg</td>\n      <td>2007-02-16</td>\n    </tr>\n    <tr>\n      <th>42</th>\n      <td>2</td>\n      <td>2005-02-17</td>\n      <td>tacrolimus</td>\n      <td>1.5 mg</td>\n      <td>2007-02-18</td>\n    </tr>\n    <tr>\n      <th>43</th>\n      <td>2</td>\n      <td>2007-02-17</td>\n      <td>magnesium sulphate</td>\n      <td>1.1 mmol</td>\n      <td>NaT</td>\n    </tr>\n    <tr>\n      <th>44</th>\n      <td>2</td>\n      <td>2007-02-18</td>\n      <td>magnesium hydroxide</td>\n      <td>132 mg</td>\n      <td>NaT</td>\n    </tr>\n    <tr>\n      <th>45</th>\n      <td>2</td>\n      <td>2007-02-18</td>\n      <td>tacrolimus</td>\n      <td>2 mg</td>\n      <td>2007-02-19</td>\n    </tr>\n    <tr>\n      <th>46</th>\n      <td>2</td>\n      <td>2007-02-19</td>\n      <td>tacrolimus</td>\n      <td>3.2 mg</td>\n      <td>2007-02-19</td>\n    </tr>\n    <tr>\n      <th>47</th>\n      <td>2</td>\n      <td>2007-02-20</td>\n      <td>tacrolimus</td>\n      <td>2.5 mg</td>\n      <td>2007-02-20</td>\n    </tr>\n    <tr>\n      <th>48</th>\n      <td>2</td>\n      <td>2007-02-20</td>\n      <td>magnesium sulphate</td>\n      <td>2 mmol</td>\n      <td>2007-02-20</td>\n    </tr>\n    <tr>\n      <th>49</th>\n      <td>2</td>\n      <td>2007-02-20</td>\n      <td>CMV immune globuline</td>\n      <td>1500 mg</td>\n      <td>2007-02-20</td>\n    </tr>\n    <tr>\n      <th>50</th>\n      <td>2</td>\n      <td>2007-02-20</td>\n      <td>tacrolimus</td>\n      <td>3 mg</td>\n      <td>NaT</td>\n    </tr>\n  </tbody>\n</table>\n</div>"
     },
     "execution_count": 91,
     "metadata": {},
     "output_type": "execute_result"
    }
   ],
   "source": [
    "df_admission_tac"
   ],
   "metadata": {
    "collapsed": false,
    "ExecuteTime": {
     "end_time": "2023-12-07T01:51:33.783361Z",
     "start_time": "2023-12-07T01:51:33.743629Z"
    }
   },
   "id": "7b711a2a0879523c"
  },
  {
   "cell_type": "markdown",
   "source": [
    "### Admission"
   ],
   "metadata": {
    "collapsed": false
   },
   "id": "43a0af8153e3980c"
  },
  {
   "cell_type": "code",
   "execution_count": 93,
   "outputs": [],
   "source": [
    "df_admissions = pd.read_excel('/Users/prakashgupta/radboudUMC-assignment/data/source/data/1-10/Admissions 1,2,3,4,6,7,10.xls')"
   ],
   "metadata": {
    "collapsed": false,
    "ExecuteTime": {
     "end_time": "2023-12-07T01:53:20.401949Z",
     "start_time": "2023-12-07T01:53:20.372891Z"
    }
   },
   "id": "a15d9bfdcf04bf17"
  },
  {
   "cell_type": "code",
   "execution_count": 95,
   "outputs": [
    {
     "data": {
      "text/plain": "    ID  ADMIT UNIT  DISCH DATE\n0    1  NICU        2007-10-26\n1    2  6A          2007-01-26\n2    2  HOLD        2007-02-20\n3    3  6A          2007-03-02\n4    3  4D          2007-04-04\n5    4  6ACU        2007-03-19\n6    4  6A          2007-05-04\n7    4  6A          2007-11-11\n8    4  6A          2007-12-10\n9    4  6A          2008-06-12\n10   4  6ACU        2009-01-18\n11   6  6ACU        2007-03-14\n12   6  7E          2007-04-14\n13   6  6ACU        2007-06-28\n14   6  HOLD        2007-08-03\n15   6  6A          2007-10-15\n16   6  6A          2008-03-31\n17   6  6A          2008-09-15\n18   6  HOLD        2009-01-19\n19   7  6A          2007-03-21\n20  10  6A          2007-04-20\n21  10  6ACU        2007-07-17\n22  10  6A          2007-08-14\n23  10  6B          2008-10-26\n24  10  6A          2009-04-06",
      "text/html": "<div>\n<style scoped>\n    .dataframe tbody tr th:only-of-type {\n        vertical-align: middle;\n    }\n\n    .dataframe tbody tr th {\n        vertical-align: top;\n    }\n\n    .dataframe thead th {\n        text-align: right;\n    }\n</style>\n<table border=\"1\" class=\"dataframe\">\n  <thead>\n    <tr style=\"text-align: right;\">\n      <th></th>\n      <th>ID</th>\n      <th>ADMIT UNIT</th>\n      <th>DISCH DATE</th>\n    </tr>\n  </thead>\n  <tbody>\n    <tr>\n      <th>0</th>\n      <td>1</td>\n      <td>NICU</td>\n      <td>2007-10-26</td>\n    </tr>\n    <tr>\n      <th>1</th>\n      <td>2</td>\n      <td>6A</td>\n      <td>2007-01-26</td>\n    </tr>\n    <tr>\n      <th>2</th>\n      <td>2</td>\n      <td>HOLD</td>\n      <td>2007-02-20</td>\n    </tr>\n    <tr>\n      <th>3</th>\n      <td>3</td>\n      <td>6A</td>\n      <td>2007-03-02</td>\n    </tr>\n    <tr>\n      <th>4</th>\n      <td>3</td>\n      <td>4D</td>\n      <td>2007-04-04</td>\n    </tr>\n    <tr>\n      <th>5</th>\n      <td>4</td>\n      <td>6ACU</td>\n      <td>2007-03-19</td>\n    </tr>\n    <tr>\n      <th>6</th>\n      <td>4</td>\n      <td>6A</td>\n      <td>2007-05-04</td>\n    </tr>\n    <tr>\n      <th>7</th>\n      <td>4</td>\n      <td>6A</td>\n      <td>2007-11-11</td>\n    </tr>\n    <tr>\n      <th>8</th>\n      <td>4</td>\n      <td>6A</td>\n      <td>2007-12-10</td>\n    </tr>\n    <tr>\n      <th>9</th>\n      <td>4</td>\n      <td>6A</td>\n      <td>2008-06-12</td>\n    </tr>\n    <tr>\n      <th>10</th>\n      <td>4</td>\n      <td>6ACU</td>\n      <td>2009-01-18</td>\n    </tr>\n    <tr>\n      <th>11</th>\n      <td>6</td>\n      <td>6ACU</td>\n      <td>2007-03-14</td>\n    </tr>\n    <tr>\n      <th>12</th>\n      <td>6</td>\n      <td>7E</td>\n      <td>2007-04-14</td>\n    </tr>\n    <tr>\n      <th>13</th>\n      <td>6</td>\n      <td>6ACU</td>\n      <td>2007-06-28</td>\n    </tr>\n    <tr>\n      <th>14</th>\n      <td>6</td>\n      <td>HOLD</td>\n      <td>2007-08-03</td>\n    </tr>\n    <tr>\n      <th>15</th>\n      <td>6</td>\n      <td>6A</td>\n      <td>2007-10-15</td>\n    </tr>\n    <tr>\n      <th>16</th>\n      <td>6</td>\n      <td>6A</td>\n      <td>2008-03-31</td>\n    </tr>\n    <tr>\n      <th>17</th>\n      <td>6</td>\n      <td>6A</td>\n      <td>2008-09-15</td>\n    </tr>\n    <tr>\n      <th>18</th>\n      <td>6</td>\n      <td>HOLD</td>\n      <td>2009-01-19</td>\n    </tr>\n    <tr>\n      <th>19</th>\n      <td>7</td>\n      <td>6A</td>\n      <td>2007-03-21</td>\n    </tr>\n    <tr>\n      <th>20</th>\n      <td>10</td>\n      <td>6A</td>\n      <td>2007-04-20</td>\n    </tr>\n    <tr>\n      <th>21</th>\n      <td>10</td>\n      <td>6ACU</td>\n      <td>2007-07-17</td>\n    </tr>\n    <tr>\n      <th>22</th>\n      <td>10</td>\n      <td>6A</td>\n      <td>2007-08-14</td>\n    </tr>\n    <tr>\n      <th>23</th>\n      <td>10</td>\n      <td>6B</td>\n      <td>2008-10-26</td>\n    </tr>\n    <tr>\n      <th>24</th>\n      <td>10</td>\n      <td>6A</td>\n      <td>2009-04-06</td>\n    </tr>\n  </tbody>\n</table>\n</div>"
     },
     "execution_count": 95,
     "metadata": {},
     "output_type": "execute_result"
    }
   ],
   "source": [
    "df_admissions"
   ],
   "metadata": {
    "collapsed": false,
    "ExecuteTime": {
     "end_time": "2023-12-07T01:53:25.633742Z",
     "start_time": "2023-12-07T01:53:25.593487Z"
    }
   },
   "id": "577a7b3adbde692b"
  },
  {
   "cell_type": "code",
   "execution_count": 99,
   "outputs": [
    {
     "data": {
      "text/plain": "   ID ADMIT DATE  DISCH DATE\n1   2 2007-01-08  2007-01-26\n2   2 2007-02-06  2007-02-20",
      "text/html": "<div>\n<style scoped>\n    .dataframe tbody tr th:only-of-type {\n        vertical-align: middle;\n    }\n\n    .dataframe tbody tr th {\n        vertical-align: top;\n    }\n\n    .dataframe thead th {\n        text-align: right;\n    }\n</style>\n<table border=\"1\" class=\"dataframe\">\n  <thead>\n    <tr style=\"text-align: right;\">\n      <th></th>\n      <th>ID</th>\n      <th>ADMIT DATE</th>\n      <th>DISCH DATE</th>\n    </tr>\n  </thead>\n  <tbody>\n    <tr>\n      <th>1</th>\n      <td>2</td>\n      <td>2007-01-08</td>\n      <td>2007-01-26</td>\n    </tr>\n    <tr>\n      <th>2</th>\n      <td>2</td>\n      <td>2007-02-06</td>\n      <td>2007-02-20</td>\n    </tr>\n  </tbody>\n</table>\n</div>"
     },
     "execution_count": 99,
     "metadata": {},
     "output_type": "execute_result"
    }
   ],
   "source": [
    "df_admission"
   ],
   "metadata": {
    "collapsed": false,
    "ExecuteTime": {
     "end_time": "2023-12-07T01:54:24.043033Z",
     "start_time": "2023-12-07T01:54:23.976052Z"
    }
   },
   "id": "a20792406a7ab7fa"
  },
  {
   "cell_type": "markdown",
   "source": [
    "## AdmitDate"
   ],
   "metadata": {
    "collapsed": false
   },
   "id": "962984e969b8a055"
  },
  {
   "cell_type": "code",
   "execution_count": 100,
   "outputs": [],
   "source": [
    "df_admit_date =pd.read_excel('/Users/prakashgupta/radboudUMC-assignment/data/source/data/1-10/AdmitDate 1-10.xls')"
   ],
   "metadata": {
    "collapsed": false,
    "ExecuteTime": {
     "end_time": "2023-12-07T01:55:23.194370Z",
     "start_time": "2023-12-07T01:55:23.138007Z"
    }
   },
   "id": "dd3e831496548c14"
  },
  {
   "cell_type": "code",
   "execution_count": 101,
   "outputs": [
    {
     "data": {
      "text/plain": "    id  admit date disch unit\n0    1       38714         6A\n1    2       39090         6A\n2    2       39119         6A\n3    3       38942         6A\n4    3       39176         4D\n5    4       39126         6A\n6    4       39189         6A\n7    4       39393         6A\n8    4       39426         6A\n9    4       39608         6B\n10   4       39828         6A\n11   5       39119         6A\n12   5       39207         6A\n13   5       39287         6A\n14   5       39315         6A\n15   5       39868         6A\n16   5       40318         6A\n17   5       40440         6A\n18   5       40474         6A\n19   6       39030         6A\n20   6       39184         7E\n21   6       39260       6ACU\n22   6       39290         6A\n23   6       39363         6A\n24   6       39526         6A\n25   6       39703         6A\n26   6       39830         6A\n27   7       39146         6A\n28   8       39166         6A\n29   8       39235         6A\n30   8       39366         6A\n31   8       39706         6A\n32   8       40224         6A\n33   8       40663         6B\n34   9       39166         6A\n35   9       39415         6A\n36   9       39485         6A\n37  10       39175         6A\n38  10       39275         6A\n39  10       39290         6A\n40  10       39740         6B\n41  10       39897         6A",
      "text/html": "<div>\n<style scoped>\n    .dataframe tbody tr th:only-of-type {\n        vertical-align: middle;\n    }\n\n    .dataframe tbody tr th {\n        vertical-align: top;\n    }\n\n    .dataframe thead th {\n        text-align: right;\n    }\n</style>\n<table border=\"1\" class=\"dataframe\">\n  <thead>\n    <tr style=\"text-align: right;\">\n      <th></th>\n      <th>id</th>\n      <th>admit date</th>\n      <th>disch unit</th>\n    </tr>\n  </thead>\n  <tbody>\n    <tr>\n      <th>0</th>\n      <td>1</td>\n      <td>38714</td>\n      <td>6A</td>\n    </tr>\n    <tr>\n      <th>1</th>\n      <td>2</td>\n      <td>39090</td>\n      <td>6A</td>\n    </tr>\n    <tr>\n      <th>2</th>\n      <td>2</td>\n      <td>39119</td>\n      <td>6A</td>\n    </tr>\n    <tr>\n      <th>3</th>\n      <td>3</td>\n      <td>38942</td>\n      <td>6A</td>\n    </tr>\n    <tr>\n      <th>4</th>\n      <td>3</td>\n      <td>39176</td>\n      <td>4D</td>\n    </tr>\n    <tr>\n      <th>5</th>\n      <td>4</td>\n      <td>39126</td>\n      <td>6A</td>\n    </tr>\n    <tr>\n      <th>6</th>\n      <td>4</td>\n      <td>39189</td>\n      <td>6A</td>\n    </tr>\n    <tr>\n      <th>7</th>\n      <td>4</td>\n      <td>39393</td>\n      <td>6A</td>\n    </tr>\n    <tr>\n      <th>8</th>\n      <td>4</td>\n      <td>39426</td>\n      <td>6A</td>\n    </tr>\n    <tr>\n      <th>9</th>\n      <td>4</td>\n      <td>39608</td>\n      <td>6B</td>\n    </tr>\n    <tr>\n      <th>10</th>\n      <td>4</td>\n      <td>39828</td>\n      <td>6A</td>\n    </tr>\n    <tr>\n      <th>11</th>\n      <td>5</td>\n      <td>39119</td>\n      <td>6A</td>\n    </tr>\n    <tr>\n      <th>12</th>\n      <td>5</td>\n      <td>39207</td>\n      <td>6A</td>\n    </tr>\n    <tr>\n      <th>13</th>\n      <td>5</td>\n      <td>39287</td>\n      <td>6A</td>\n    </tr>\n    <tr>\n      <th>14</th>\n      <td>5</td>\n      <td>39315</td>\n      <td>6A</td>\n    </tr>\n    <tr>\n      <th>15</th>\n      <td>5</td>\n      <td>39868</td>\n      <td>6A</td>\n    </tr>\n    <tr>\n      <th>16</th>\n      <td>5</td>\n      <td>40318</td>\n      <td>6A</td>\n    </tr>\n    <tr>\n      <th>17</th>\n      <td>5</td>\n      <td>40440</td>\n      <td>6A</td>\n    </tr>\n    <tr>\n      <th>18</th>\n      <td>5</td>\n      <td>40474</td>\n      <td>6A</td>\n    </tr>\n    <tr>\n      <th>19</th>\n      <td>6</td>\n      <td>39030</td>\n      <td>6A</td>\n    </tr>\n    <tr>\n      <th>20</th>\n      <td>6</td>\n      <td>39184</td>\n      <td>7E</td>\n    </tr>\n    <tr>\n      <th>21</th>\n      <td>6</td>\n      <td>39260</td>\n      <td>6ACU</td>\n    </tr>\n    <tr>\n      <th>22</th>\n      <td>6</td>\n      <td>39290</td>\n      <td>6A</td>\n    </tr>\n    <tr>\n      <th>23</th>\n      <td>6</td>\n      <td>39363</td>\n      <td>6A</td>\n    </tr>\n    <tr>\n      <th>24</th>\n      <td>6</td>\n      <td>39526</td>\n      <td>6A</td>\n    </tr>\n    <tr>\n      <th>25</th>\n      <td>6</td>\n      <td>39703</td>\n      <td>6A</td>\n    </tr>\n    <tr>\n      <th>26</th>\n      <td>6</td>\n      <td>39830</td>\n      <td>6A</td>\n    </tr>\n    <tr>\n      <th>27</th>\n      <td>7</td>\n      <td>39146</td>\n      <td>6A</td>\n    </tr>\n    <tr>\n      <th>28</th>\n      <td>8</td>\n      <td>39166</td>\n      <td>6A</td>\n    </tr>\n    <tr>\n      <th>29</th>\n      <td>8</td>\n      <td>39235</td>\n      <td>6A</td>\n    </tr>\n    <tr>\n      <th>30</th>\n      <td>8</td>\n      <td>39366</td>\n      <td>6A</td>\n    </tr>\n    <tr>\n      <th>31</th>\n      <td>8</td>\n      <td>39706</td>\n      <td>6A</td>\n    </tr>\n    <tr>\n      <th>32</th>\n      <td>8</td>\n      <td>40224</td>\n      <td>6A</td>\n    </tr>\n    <tr>\n      <th>33</th>\n      <td>8</td>\n      <td>40663</td>\n      <td>6B</td>\n    </tr>\n    <tr>\n      <th>34</th>\n      <td>9</td>\n      <td>39166</td>\n      <td>6A</td>\n    </tr>\n    <tr>\n      <th>35</th>\n      <td>9</td>\n      <td>39415</td>\n      <td>6A</td>\n    </tr>\n    <tr>\n      <th>36</th>\n      <td>9</td>\n      <td>39485</td>\n      <td>6A</td>\n    </tr>\n    <tr>\n      <th>37</th>\n      <td>10</td>\n      <td>39175</td>\n      <td>6A</td>\n    </tr>\n    <tr>\n      <th>38</th>\n      <td>10</td>\n      <td>39275</td>\n      <td>6A</td>\n    </tr>\n    <tr>\n      <th>39</th>\n      <td>10</td>\n      <td>39290</td>\n      <td>6A</td>\n    </tr>\n    <tr>\n      <th>40</th>\n      <td>10</td>\n      <td>39740</td>\n      <td>6B</td>\n    </tr>\n    <tr>\n      <th>41</th>\n      <td>10</td>\n      <td>39897</td>\n      <td>6A</td>\n    </tr>\n  </tbody>\n</table>\n</div>"
     },
     "execution_count": 101,
     "metadata": {},
     "output_type": "execute_result"
    }
   ],
   "source": [
    "df_admit_date"
   ],
   "metadata": {
    "collapsed": false,
    "ExecuteTime": {
     "end_time": "2023-12-07T01:55:27.130549Z",
     "start_time": "2023-12-07T01:55:27.083467Z"
    }
   },
   "id": "31807cab4d97b243"
  },
  {
   "cell_type": "markdown",
   "source": [
    "## no uise of admit date"
   ],
   "metadata": {
    "collapsed": false
   },
   "id": "da40405eaf619160"
  },
  {
   "cell_type": "markdown",
   "source": [
    "## Basic Patient data"
   ],
   "metadata": {
    "collapsed": false
   },
   "id": "4d95124896504410"
  },
  {
   "cell_type": "code",
   "execution_count": 104,
   "outputs": [],
   "source": [
    "df_basic_patient_data = pd.read_excel('/Users/prakashgupta/radboudUMC-assignment/data/source/data/1-10/BasicPatient 1,2,3,4,6,7,10.xls')"
   ],
   "metadata": {
    "collapsed": false,
    "ExecuteTime": {
     "end_time": "2023-12-07T01:56:23.398878Z",
     "start_time": "2023-12-07T01:56:23.351655Z"
    }
   },
   "id": "7163d0c02a2173d9"
  },
  {
   "cell_type": "code",
   "execution_count": 105,
   "outputs": [
    {
     "data": {
      "text/plain": "   id sex deathage                           original disease\n0   6   M       na                            BILIARY ATRESIA\n1   4   M       na                              MEMBRANOUS GN\n2  10   F       na                         ALPH 1 ANTITRYPSIN\n3   1   M        1  JEJUNAL ATRESIA/SHORT GUT/TPN CHOLESTASIS\n4   2   M       na                            BILIARY ATRESIA\n5   7   F       na               DYSPLASIA/REFLUX NEPHROPATHY\n6   3   F       na                  BILIARY ATRESIA P/O KASAI",
      "text/html": "<div>\n<style scoped>\n    .dataframe tbody tr th:only-of-type {\n        vertical-align: middle;\n    }\n\n    .dataframe tbody tr th {\n        vertical-align: top;\n    }\n\n    .dataframe thead th {\n        text-align: right;\n    }\n</style>\n<table border=\"1\" class=\"dataframe\">\n  <thead>\n    <tr style=\"text-align: right;\">\n      <th></th>\n      <th>id</th>\n      <th>sex</th>\n      <th>deathage</th>\n      <th>original disease</th>\n    </tr>\n  </thead>\n  <tbody>\n    <tr>\n      <th>0</th>\n      <td>6</td>\n      <td>M</td>\n      <td>na</td>\n      <td>BILIARY ATRESIA</td>\n    </tr>\n    <tr>\n      <th>1</th>\n      <td>4</td>\n      <td>M</td>\n      <td>na</td>\n      <td>MEMBRANOUS GN</td>\n    </tr>\n    <tr>\n      <th>2</th>\n      <td>10</td>\n      <td>F</td>\n      <td>na</td>\n      <td>ALPH 1 ANTITRYPSIN</td>\n    </tr>\n    <tr>\n      <th>3</th>\n      <td>1</td>\n      <td>M</td>\n      <td>1</td>\n      <td>JEJUNAL ATRESIA/SHORT GUT/TPN CHOLESTASIS</td>\n    </tr>\n    <tr>\n      <th>4</th>\n      <td>2</td>\n      <td>M</td>\n      <td>na</td>\n      <td>BILIARY ATRESIA</td>\n    </tr>\n    <tr>\n      <th>5</th>\n      <td>7</td>\n      <td>F</td>\n      <td>na</td>\n      <td>DYSPLASIA/REFLUX NEPHROPATHY</td>\n    </tr>\n    <tr>\n      <th>6</th>\n      <td>3</td>\n      <td>F</td>\n      <td>na</td>\n      <td>BILIARY ATRESIA P/O KASAI</td>\n    </tr>\n  </tbody>\n</table>\n</div>"
     },
     "execution_count": 105,
     "metadata": {},
     "output_type": "execute_result"
    }
   ],
   "source": [
    "df_basic_patient_data"
   ],
   "metadata": {
    "collapsed": false,
    "ExecuteTime": {
     "end_time": "2023-12-07T01:56:27.771182Z",
     "start_time": "2023-12-07T01:56:27.713990Z"
    }
   },
   "id": "6efc7b0fed62c84f"
  },
  {
   "cell_type": "code",
   "execution_count": 106,
   "outputs": [
    {
     "data": {
      "text/plain": "   id sex deathage original disease\n4   2   M       na  BILIARY ATRESIA",
      "text/html": "<div>\n<style scoped>\n    .dataframe tbody tr th:only-of-type {\n        vertical-align: middle;\n    }\n\n    .dataframe tbody tr th {\n        vertical-align: top;\n    }\n\n    .dataframe thead th {\n        text-align: right;\n    }\n</style>\n<table border=\"1\" class=\"dataframe\">\n  <thead>\n    <tr style=\"text-align: right;\">\n      <th></th>\n      <th>id</th>\n      <th>sex</th>\n      <th>deathage</th>\n      <th>original disease</th>\n    </tr>\n  </thead>\n  <tbody>\n    <tr>\n      <th>4</th>\n      <td>2</td>\n      <td>M</td>\n      <td>na</td>\n      <td>BILIARY ATRESIA</td>\n    </tr>\n  </tbody>\n</table>\n</div>"
     },
     "execution_count": 106,
     "metadata": {},
     "output_type": "execute_result"
    }
   ],
   "source": [
    "df_basic_patient_data[df_basic_patient_data['id'] == 2]"
   ],
   "metadata": {
    "collapsed": false,
    "ExecuteTime": {
     "end_time": "2023-12-07T01:57:20.444986Z",
     "start_time": "2023-12-07T01:57:20.078842Z"
    }
   },
   "id": "4b27a2f7dbb38d2a"
  },
  {
   "cell_type": "markdown",
   "source": [
    "### Basic Transpant data "
   ],
   "metadata": {
    "collapsed": false
   },
   "id": "c18313375475d15b"
  },
  {
   "cell_type": "code",
   "execution_count": 109,
   "outputs": [],
   "source": [
    "df_basic_transplant = pd.read_excel('/Users/prakashgupta/radboudUMC-assignment/data/source/data/1-10/BasicTransplant 1,2,3,6,7,10.xls')"
   ],
   "metadata": {
    "collapsed": false,
    "ExecuteTime": {
     "end_time": "2023-12-07T01:59:08.162892Z",
     "start_time": "2023-12-07T01:59:08.124678Z"
    }
   },
   "id": "d01da5b11298678a"
  },
  {
   "cell_type": "code",
   "execution_count": 111,
   "outputs": [
    {
     "data": {
      "text/plain": "   id   tx date 1  organ 1  warm ischemic time 1  cold ischemic time 1  \\\n0   6  2007-02-17        1                   NaN                   NaN   \n1  10  2007-04-03        1                   NaN                   NaN   \n2   1  2006-11-25        6                   NaN                   NaN   \n3   2  2007-01-09        1                   NaN                   NaN   \n4   7  2007-03-06        2                   NaN                   NaN   \n5   3  2007-02-01        1                   NaN                   NaN   \n\n   donor age 1 donor sex 1                                donor hla 1  \\\n0         47.0         NaN                                        NaN   \n1          NaN         NaN                                        NaN   \n2          NaN         NaN                                        NaN   \n3          NaN         NaN                                        NaN   \n4          NaN           M  A*24, A*02, B*35, B*51, B1*15, B1*01, B5*   \n5          3.0         NaN                                        NaN   \n\n  donor race 1 donor deceased 1  donor tgln 1  \n0          NaN                Y       35589.0  \n1          NaN                Y           NaN  \n2          NaN                Y           NaN  \n3          NaN                Y           NaN  \n4    CAUCASIAN                N       31818.0  \n5          NaN                Y           NaN  ",
      "text/html": "<div>\n<style scoped>\n    .dataframe tbody tr th:only-of-type {\n        vertical-align: middle;\n    }\n\n    .dataframe tbody tr th {\n        vertical-align: top;\n    }\n\n    .dataframe thead th {\n        text-align: right;\n    }\n</style>\n<table border=\"1\" class=\"dataframe\">\n  <thead>\n    <tr style=\"text-align: right;\">\n      <th></th>\n      <th>id</th>\n      <th>tx date 1</th>\n      <th>organ 1</th>\n      <th>warm ischemic time 1</th>\n      <th>cold ischemic time 1</th>\n      <th>donor age 1</th>\n      <th>donor sex 1</th>\n      <th>donor hla 1</th>\n      <th>donor race 1</th>\n      <th>donor deceased 1</th>\n      <th>donor tgln 1</th>\n    </tr>\n  </thead>\n  <tbody>\n    <tr>\n      <th>0</th>\n      <td>6</td>\n      <td>2007-02-17</td>\n      <td>1</td>\n      <td>NaN</td>\n      <td>NaN</td>\n      <td>47.0</td>\n      <td>NaN</td>\n      <td>NaN</td>\n      <td>NaN</td>\n      <td>Y</td>\n      <td>35589.0</td>\n    </tr>\n    <tr>\n      <th>1</th>\n      <td>10</td>\n      <td>2007-04-03</td>\n      <td>1</td>\n      <td>NaN</td>\n      <td>NaN</td>\n      <td>NaN</td>\n      <td>NaN</td>\n      <td>NaN</td>\n      <td>NaN</td>\n      <td>Y</td>\n      <td>NaN</td>\n    </tr>\n    <tr>\n      <th>2</th>\n      <td>1</td>\n      <td>2006-11-25</td>\n      <td>6</td>\n      <td>NaN</td>\n      <td>NaN</td>\n      <td>NaN</td>\n      <td>NaN</td>\n      <td>NaN</td>\n      <td>NaN</td>\n      <td>Y</td>\n      <td>NaN</td>\n    </tr>\n    <tr>\n      <th>3</th>\n      <td>2</td>\n      <td>2007-01-09</td>\n      <td>1</td>\n      <td>NaN</td>\n      <td>NaN</td>\n      <td>NaN</td>\n      <td>NaN</td>\n      <td>NaN</td>\n      <td>NaN</td>\n      <td>Y</td>\n      <td>NaN</td>\n    </tr>\n    <tr>\n      <th>4</th>\n      <td>7</td>\n      <td>2007-03-06</td>\n      <td>2</td>\n      <td>NaN</td>\n      <td>NaN</td>\n      <td>NaN</td>\n      <td>M</td>\n      <td>A*24, A*02, B*35, B*51, B1*15, B1*01, B5*</td>\n      <td>CAUCASIAN</td>\n      <td>N</td>\n      <td>31818.0</td>\n    </tr>\n    <tr>\n      <th>5</th>\n      <td>3</td>\n      <td>2007-02-01</td>\n      <td>1</td>\n      <td>NaN</td>\n      <td>NaN</td>\n      <td>3.0</td>\n      <td>NaN</td>\n      <td>NaN</td>\n      <td>NaN</td>\n      <td>Y</td>\n      <td>NaN</td>\n    </tr>\n  </tbody>\n</table>\n</div>"
     },
     "execution_count": 111,
     "metadata": {},
     "output_type": "execute_result"
    }
   ],
   "source": [
    "df_basic_transplant "
   ],
   "metadata": {
    "collapsed": false,
    "ExecuteTime": {
     "end_time": "2023-12-07T01:59:45.831759Z",
     "start_time": "2023-12-07T01:59:45.799919Z"
    }
   },
   "id": "259b9d10d439d79f"
  },
  {
   "cell_type": "markdown",
   "source": [
    "### dont need to use"
   ],
   "metadata": {
    "collapsed": false
   },
   "id": "21a091a606309daf"
  },
  {
   "cell_type": "markdown",
   "source": [
    "###  CIMS "
   ],
   "metadata": {
    "collapsed": false
   },
   "id": "1d64bacfff00f1b1"
  },
  {
   "cell_type": "code",
   "execution_count": 113,
   "outputs": [],
   "source": [
    "df_cims = pd.read_excel('/Users/prakashgupta/radboudUMC-assignment/data/source/data/1-10/CIMSOther 1,2,3,4,6,7,10.xls')"
   ],
   "metadata": {
    "collapsed": false,
    "ExecuteTime": {
     "end_time": "2023-12-07T02:00:59.063974Z",
     "start_time": "2023-12-07T02:00:58.989846Z"
    }
   },
   "id": "d8ee98344990f5d"
  },
  {
   "cell_type": "code",
   "execution_count": 114,
   "outputs": [
    {
     "data": {
      "text/plain": "     id object name          the date  num value\n0     1        FIO2  2007-05-15 19:00        NaN\n1     1        FIO2  2007-05-16 02:05        NaN\n2     1        FIO2  2007-05-16 11:08        NaN\n3     1        FIO2  2007-05-16 22:12       0.45\n4     1        FIO2  2007-05-17 14:58       0.30\n..   ..         ...               ...        ...\n689  10         MAP  2007-04-06 16:54      10.00\n690  10    PEEP_SET  2007-04-04 01:56       5.00\n691  10    PEEP_SET  2007-04-06 02:25       7.00\n692  10    PEEP_SET  2007-04-07 02:20       5.00\n693  10    PEEP_SET  2007-04-07 04:02       5.00\n\n[694 rows x 4 columns]",
      "text/html": "<div>\n<style scoped>\n    .dataframe tbody tr th:only-of-type {\n        vertical-align: middle;\n    }\n\n    .dataframe tbody tr th {\n        vertical-align: top;\n    }\n\n    .dataframe thead th {\n        text-align: right;\n    }\n</style>\n<table border=\"1\" class=\"dataframe\">\n  <thead>\n    <tr style=\"text-align: right;\">\n      <th></th>\n      <th>id</th>\n      <th>object name</th>\n      <th>the date</th>\n      <th>num value</th>\n    </tr>\n  </thead>\n  <tbody>\n    <tr>\n      <th>0</th>\n      <td>1</td>\n      <td>FIO2</td>\n      <td>2007-05-15 19:00</td>\n      <td>NaN</td>\n    </tr>\n    <tr>\n      <th>1</th>\n      <td>1</td>\n      <td>FIO2</td>\n      <td>2007-05-16 02:05</td>\n      <td>NaN</td>\n    </tr>\n    <tr>\n      <th>2</th>\n      <td>1</td>\n      <td>FIO2</td>\n      <td>2007-05-16 11:08</td>\n      <td>NaN</td>\n    </tr>\n    <tr>\n      <th>3</th>\n      <td>1</td>\n      <td>FIO2</td>\n      <td>2007-05-16 22:12</td>\n      <td>0.45</td>\n    </tr>\n    <tr>\n      <th>4</th>\n      <td>1</td>\n      <td>FIO2</td>\n      <td>2007-05-17 14:58</td>\n      <td>0.30</td>\n    </tr>\n    <tr>\n      <th>...</th>\n      <td>...</td>\n      <td>...</td>\n      <td>...</td>\n      <td>...</td>\n    </tr>\n    <tr>\n      <th>689</th>\n      <td>10</td>\n      <td>MAP</td>\n      <td>2007-04-06 16:54</td>\n      <td>10.00</td>\n    </tr>\n    <tr>\n      <th>690</th>\n      <td>10</td>\n      <td>PEEP_SET</td>\n      <td>2007-04-04 01:56</td>\n      <td>5.00</td>\n    </tr>\n    <tr>\n      <th>691</th>\n      <td>10</td>\n      <td>PEEP_SET</td>\n      <td>2007-04-06 02:25</td>\n      <td>7.00</td>\n    </tr>\n    <tr>\n      <th>692</th>\n      <td>10</td>\n      <td>PEEP_SET</td>\n      <td>2007-04-07 02:20</td>\n      <td>5.00</td>\n    </tr>\n    <tr>\n      <th>693</th>\n      <td>10</td>\n      <td>PEEP_SET</td>\n      <td>2007-04-07 04:02</td>\n      <td>5.00</td>\n    </tr>\n  </tbody>\n</table>\n<p>694 rows × 4 columns</p>\n</div>"
     },
     "execution_count": 114,
     "metadata": {},
     "output_type": "execute_result"
    }
   ],
   "source": [
    "df_cims"
   ],
   "metadata": {
    "collapsed": false,
    "ExecuteTime": {
     "end_time": "2023-12-07T02:01:01.415549Z",
     "start_time": "2023-12-07T02:01:01.360192Z"
    }
   },
   "id": "1ffd4ff3f9249fb3"
  },
  {
   "cell_type": "code",
   "execution_count": 115,
   "outputs": [
    {
     "data": {
      "text/plain": "Empty DataFrame\nColumns: [id, object name, the date, num value]\nIndex: []",
      "text/html": "<div>\n<style scoped>\n    .dataframe tbody tr th:only-of-type {\n        vertical-align: middle;\n    }\n\n    .dataframe tbody tr th {\n        vertical-align: top;\n    }\n\n    .dataframe thead th {\n        text-align: right;\n    }\n</style>\n<table border=\"1\" class=\"dataframe\">\n  <thead>\n    <tr style=\"text-align: right;\">\n      <th></th>\n      <th>id</th>\n      <th>object name</th>\n      <th>the date</th>\n      <th>num value</th>\n    </tr>\n  </thead>\n  <tbody>\n  </tbody>\n</table>\n</div>"
     },
     "execution_count": 115,
     "metadata": {},
     "output_type": "execute_result"
    }
   ],
   "source": [
    "df_cims[df_cims['id'] == 2]"
   ],
   "metadata": {
    "collapsed": false,
    "ExecuteTime": {
     "end_time": "2023-12-07T02:01:10.195634Z",
     "start_time": "2023-12-07T02:01:10.084336Z"
    }
   },
   "id": "f7a260ce932b7ee9"
  },
  {
   "cell_type": "markdown",
   "source": [
    "# not useful"
   ],
   "metadata": {
    "collapsed": false
   },
   "id": "902a7862bc12b876"
  },
  {
   "cell_type": "markdown",
   "source": [
    "### Dialysis"
   ],
   "metadata": {
    "collapsed": false
   },
   "id": "1726492be63328fa"
  },
  {
   "cell_type": "code",
   "execution_count": 116,
   "outputs": [],
   "source": [
    "df_dialysis = pd.read_excel('/Users/prakashgupta/radboudUMC-assignment/data/source/data/1-10/Dialysis 1-10.xls')"
   ],
   "metadata": {
    "collapsed": false,
    "ExecuteTime": {
     "end_time": "2023-12-07T02:03:35.487355Z",
     "start_time": "2023-12-07T02:03:35.440346Z"
    }
   },
   "id": "112b25f7ce522d9f"
  },
  {
   "cell_type": "code",
   "execution_count": 117,
   "outputs": [
    {
     "data": {
      "text/plain": "    id  dialysis\n0    1         0\n1    1         1\n2    2         0\n3    3         0\n4    4         1\n5    4         0\n6    5         0\n7    6         0\n8    7         1\n9    7         1\n10   7         0\n11   8         0\n12   9         0\n13  10         0",
      "text/html": "<div>\n<style scoped>\n    .dataframe tbody tr th:only-of-type {\n        vertical-align: middle;\n    }\n\n    .dataframe tbody tr th {\n        vertical-align: top;\n    }\n\n    .dataframe thead th {\n        text-align: right;\n    }\n</style>\n<table border=\"1\" class=\"dataframe\">\n  <thead>\n    <tr style=\"text-align: right;\">\n      <th></th>\n      <th>id</th>\n      <th>dialysis</th>\n    </tr>\n  </thead>\n  <tbody>\n    <tr>\n      <th>0</th>\n      <td>1</td>\n      <td>0</td>\n    </tr>\n    <tr>\n      <th>1</th>\n      <td>1</td>\n      <td>1</td>\n    </tr>\n    <tr>\n      <th>2</th>\n      <td>2</td>\n      <td>0</td>\n    </tr>\n    <tr>\n      <th>3</th>\n      <td>3</td>\n      <td>0</td>\n    </tr>\n    <tr>\n      <th>4</th>\n      <td>4</td>\n      <td>1</td>\n    </tr>\n    <tr>\n      <th>5</th>\n      <td>4</td>\n      <td>0</td>\n    </tr>\n    <tr>\n      <th>6</th>\n      <td>5</td>\n      <td>0</td>\n    </tr>\n    <tr>\n      <th>7</th>\n      <td>6</td>\n      <td>0</td>\n    </tr>\n    <tr>\n      <th>8</th>\n      <td>7</td>\n      <td>1</td>\n    </tr>\n    <tr>\n      <th>9</th>\n      <td>7</td>\n      <td>1</td>\n    </tr>\n    <tr>\n      <th>10</th>\n      <td>7</td>\n      <td>0</td>\n    </tr>\n    <tr>\n      <th>11</th>\n      <td>8</td>\n      <td>0</td>\n    </tr>\n    <tr>\n      <th>12</th>\n      <td>9</td>\n      <td>0</td>\n    </tr>\n    <tr>\n      <th>13</th>\n      <td>10</td>\n      <td>0</td>\n    </tr>\n  </tbody>\n</table>\n</div>"
     },
     "execution_count": 117,
     "metadata": {},
     "output_type": "execute_result"
    }
   ],
   "source": [
    "df_dialysis"
   ],
   "metadata": {
    "collapsed": false,
    "ExecuteTime": {
     "end_time": "2023-12-07T02:03:37.076377Z",
     "start_time": "2023-12-07T02:03:37.007459Z"
    }
   },
   "id": "15190b07ba310285"
  },
  {
   "cell_type": "markdown",
   "source": [
    "## Gluscose"
   ],
   "metadata": {
    "collapsed": false
   },
   "id": "52429e0c6c3fb689"
  },
  {
   "cell_type": "code",
   "execution_count": 119,
   "outputs": [],
   "source": [
    "df_gluscose = pd.read_excel('/Users/prakashgupta/radboudUMC-assignment/data/source/data/1-10/Glucose 1,2,3,4,6,7,10.xls')"
   ],
   "metadata": {
    "collapsed": false,
    "ExecuteTime": {
     "end_time": "2023-12-07T02:04:28.734474Z",
     "start_time": "2023-12-07T02:04:28.685925Z"
    }
   },
   "id": "2e2dcff25f0bee62"
  },
  {
   "cell_type": "code",
   "execution_count": 122,
   "outputs": [],
   "source": [
    "df_gluscose = df_gluscose[df_gluscose['id'] == 2]"
   ],
   "metadata": {
    "collapsed": false,
    "ExecuteTime": {
     "end_time": "2023-12-07T02:04:59.267382Z",
     "start_time": "2023-12-07T02:04:59.245180Z"
    }
   },
   "id": "2330c526f5de0af"
  },
  {
   "cell_type": "code",
   "execution_count": 236,
   "outputs": [
    {
     "data": {
      "text/plain": "     id      collected date collected time     test  result ref range\n651   2 2007-01-09 00:00:00          23:15  glucose     6.2   2.5-5.5\n652   2 2007-01-10 00:00:00          02:55  glucose     6.7   2.5-5.5\n653   2 2007-01-10 00:00:00          05:35  glucose     7.4   2.5-5.5\n654   2 2007-01-10 00:00:00          09:50  glucose     9.0   2.5-5.5\n655   2 2007-01-10 00:00:00          14:25  glucose     8.4   2.5-5.5\n..   ..                 ...            ...      ...     ...       ...\n727   2 2009-06-10 00:00:00             na  glucose    39.0        na\n728   2 2009-06-16 00:00:00             na  glucose     4.3        na\n729   2 2009-09-28 00:00:00             na  glucose     5.1        na\n730   2 2009-10-05 00:00:00          08:09  glucose     4.7   2.8-6.1\n731   2 2009-12-01 08:50:00             na  glucose     4.2        na\n\n[81 rows x 6 columns]",
      "text/html": "<div>\n<style scoped>\n    .dataframe tbody tr th:only-of-type {\n        vertical-align: middle;\n    }\n\n    .dataframe tbody tr th {\n        vertical-align: top;\n    }\n\n    .dataframe thead th {\n        text-align: right;\n    }\n</style>\n<table border=\"1\" class=\"dataframe\">\n  <thead>\n    <tr style=\"text-align: right;\">\n      <th></th>\n      <th>id</th>\n      <th>collected date</th>\n      <th>collected time</th>\n      <th>test</th>\n      <th>result</th>\n      <th>ref range</th>\n    </tr>\n  </thead>\n  <tbody>\n    <tr>\n      <th>651</th>\n      <td>2</td>\n      <td>2007-01-09 00:00:00</td>\n      <td>23:15</td>\n      <td>glucose</td>\n      <td>6.2</td>\n      <td>2.5-5.5</td>\n    </tr>\n    <tr>\n      <th>652</th>\n      <td>2</td>\n      <td>2007-01-10 00:00:00</td>\n      <td>02:55</td>\n      <td>glucose</td>\n      <td>6.7</td>\n      <td>2.5-5.5</td>\n    </tr>\n    <tr>\n      <th>653</th>\n      <td>2</td>\n      <td>2007-01-10 00:00:00</td>\n      <td>05:35</td>\n      <td>glucose</td>\n      <td>7.4</td>\n      <td>2.5-5.5</td>\n    </tr>\n    <tr>\n      <th>654</th>\n      <td>2</td>\n      <td>2007-01-10 00:00:00</td>\n      <td>09:50</td>\n      <td>glucose</td>\n      <td>9.0</td>\n      <td>2.5-5.5</td>\n    </tr>\n    <tr>\n      <th>655</th>\n      <td>2</td>\n      <td>2007-01-10 00:00:00</td>\n      <td>14:25</td>\n      <td>glucose</td>\n      <td>8.4</td>\n      <td>2.5-5.5</td>\n    </tr>\n    <tr>\n      <th>...</th>\n      <td>...</td>\n      <td>...</td>\n      <td>...</td>\n      <td>...</td>\n      <td>...</td>\n      <td>...</td>\n    </tr>\n    <tr>\n      <th>727</th>\n      <td>2</td>\n      <td>2009-06-10 00:00:00</td>\n      <td>na</td>\n      <td>glucose</td>\n      <td>39.0</td>\n      <td>na</td>\n    </tr>\n    <tr>\n      <th>728</th>\n      <td>2</td>\n      <td>2009-06-16 00:00:00</td>\n      <td>na</td>\n      <td>glucose</td>\n      <td>4.3</td>\n      <td>na</td>\n    </tr>\n    <tr>\n      <th>729</th>\n      <td>2</td>\n      <td>2009-09-28 00:00:00</td>\n      <td>na</td>\n      <td>glucose</td>\n      <td>5.1</td>\n      <td>na</td>\n    </tr>\n    <tr>\n      <th>730</th>\n      <td>2</td>\n      <td>2009-10-05 00:00:00</td>\n      <td>08:09</td>\n      <td>glucose</td>\n      <td>4.7</td>\n      <td>2.8-6.1</td>\n    </tr>\n    <tr>\n      <th>731</th>\n      <td>2</td>\n      <td>2009-12-01 08:50:00</td>\n      <td>na</td>\n      <td>glucose</td>\n      <td>4.2</td>\n      <td>na</td>\n    </tr>\n  </tbody>\n</table>\n<p>81 rows × 6 columns</p>\n</div>"
     },
     "execution_count": 236,
     "metadata": {},
     "output_type": "execute_result"
    }
   ],
   "source": [
    "df_gluscose['result']"
   ],
   "metadata": {
    "collapsed": false,
    "ExecuteTime": {
     "end_time": "2023-12-07T10:28:37.909844Z",
     "start_time": "2023-12-07T10:28:37.841003Z"
    }
   },
   "id": "337f5e3d98a822d6"
  },
  {
   "cell_type": "code",
   "execution_count": null,
   "outputs": [],
   "source": [],
   "metadata": {
    "collapsed": false
   },
   "id": "b0f1ac1c59c1feb5"
  },
  {
   "cell_type": "code",
   "execution_count": 238,
   "outputs": [
    {
     "data": {
      "text/plain": "6.427160493827162"
     },
     "execution_count": 238,
     "metadata": {},
     "output_type": "execute_result"
    }
   ],
   "source": [
    "df_gluscose['result'].mean()"
   ],
   "metadata": {
    "collapsed": false,
    "ExecuteTime": {
     "end_time": "2023-12-07T10:29:45.432332Z",
     "start_time": "2023-12-07T10:29:45.190472Z"
    }
   },
   "id": "ba4789195dd2afd6"
  },
  {
   "cell_type": "code",
   "execution_count": 125,
   "outputs": [
    {
     "name": "stderr",
     "output_type": "stream",
     "text": [
      "/var/folders/dn/qfctd_cd2ln70qmz963d2jt80000gn/T/ipykernel_2908/2510051425.py:1: SettingWithCopyWarning: \n",
      "A value is trying to be set on a copy of a slice from a DataFrame.\n",
      "Try using .loc[row_indexer,col_indexer] = value instead\n",
      "\n",
      "See the caveats in the documentation: https://pandas.pydata.org/pandas-docs/stable/user_guide/indexing.html#returning-a-view-versus-a-copy\n",
      "  df_gluscose['collected date'] = pd.to_datetime(df_gluscose['collected date'], errors='coerce')\n"
     ]
    }
   ],
   "source": [
    "df_gluscose['collected date'] = pd.to_datetime(df_gluscose['collected date'], errors='coerce')"
   ],
   "metadata": {
    "collapsed": false,
    "ExecuteTime": {
     "end_time": "2023-12-07T02:07:02.744989Z",
     "start_time": "2023-12-07T02:07:02.691517Z"
    }
   },
   "id": "697bea909344268b"
  },
  {
   "cell_type": "code",
   "execution_count": 126,
   "outputs": [
    {
     "name": "stderr",
     "output_type": "stream",
     "text": [
      "/var/folders/dn/qfctd_cd2ln70qmz963d2jt80000gn/T/ipykernel_2908/924970874.py:1: SettingWithCopyWarning: \n",
      "A value is trying to be set on a copy of a slice from a DataFrame.\n",
      "Try using .loc[row_indexer,col_indexer] = value instead\n",
      "\n",
      "See the caveats in the documentation: https://pandas.pydata.org/pandas-docs/stable/user_guide/indexing.html#returning-a-view-versus-a-copy\n",
      "  df_gluscose['result'] = pd.to_numeric(df_gluscose['result'], errors='coerce')\n"
     ]
    }
   ],
   "source": [
    "df_gluscose['result'] = pd.to_numeric(df_gluscose['result'], errors='coerce')"
   ],
   "metadata": {
    "collapsed": false,
    "ExecuteTime": {
     "end_time": "2023-12-07T02:07:25.631260Z",
     "start_time": "2023-12-07T02:07:25.570318Z"
    }
   },
   "id": "f994138e0021909b"
  },
  {
   "cell_type": "code",
   "execution_count": 127,
   "outputs": [
    {
     "name": "stderr",
     "output_type": "stream",
     "text": [
      "/var/folders/dn/qfctd_cd2ln70qmz963d2jt80000gn/T/ipykernel_2908/1585066165.py:2: SettingWithCopyWarning: \n",
      "A value is trying to be set on a copy of a slice from a DataFrame.\n",
      "Try using .loc[row_indexer,col_indexer] = value instead\n",
      "\n",
      "See the caveats in the documentation: https://pandas.pydata.org/pandas-docs/stable/user_guide/indexing.html#returning-a-view-versus-a-copy\n",
      "  df_gluscose['collected date'] = pd.to_datetime(df_gluscose['collected date'])\n"
     ]
    },
    {
     "data": {
      "text/plain": "<Figure size 1000x600 with 1 Axes>",
      "image/png": "[encoded data removed]"
     },
     "metadata": {},
     "output_type": "display_data"
    }
   ],
   "source": [
    "\n",
    "# Convert the 'collected_date' column to datetime\n",
    "df_gluscose['collected date'] = pd.to_datetime(df_gluscose['collected date'])\n",
    "\n",
    "# Extract the lower and upper bounds of the reference range\n",
    "# df[['ref_lower', 'ref_upper']] = df['ref range'].str.split('-', expand=True).astype(float)\n",
    "\n",
    "# Create the plot\n",
    "plt.figure(figsize=(10, 6))\n",
    "plt.plot(df_gluscose['collected date'], df_gluscose['result'], marker='o', linestyle='-', color='blue', label='Value')\n",
    "plt.axhline(y=2.5, color='red', linestyle='--', label='Ref Lower')\n",
    "plt.axhline(y= 5.5, color='green', linestyle='--', label='Ref Upper')\n",
    "\n",
    "# Set labels and title\n",
    "plt.xlabel('Collected Date')\n",
    "plt.ylabel('Result')\n",
    "plt.title('Graph with Constant Reference Range')\n",
    "plt.legend()\n",
    "\n",
    "# Show the plot\n",
    "plt.grid(True)  # Add grid lines\n",
    "plt.tight_layout()\n",
    "plt.show()"
   ],
   "metadata": {
    "collapsed": false,
    "ExecuteTime": {
     "end_time": "2023-12-07T02:07:30.349530Z",
     "start_time": "2023-12-07T02:07:30.091511Z"
    }
   },
   "id": "8b8dee62dead4dc9"
  },
  {
   "cell_type": "code",
   "execution_count": 235,
   "outputs": [
    {
     "data": {
      "text/plain": "     id      collected date collected time     test  result ref range\n651   2 2007-01-09 00:00:00          23:15  glucose     6.2   2.5-5.5\n652   2 2007-01-10 00:00:00          02:55  glucose     6.7   2.5-5.5\n653   2 2007-01-10 00:00:00          05:35  glucose     7.4   2.5-5.5\n654   2 2007-01-10 00:00:00          09:50  glucose     9.0   2.5-5.5\n655   2 2007-01-10 00:00:00          14:25  glucose     8.4   2.5-5.5\n..   ..                 ...            ...      ...     ...       ...\n727   2 2009-06-10 00:00:00             na  glucose    39.0        na\n728   2 2009-06-16 00:00:00             na  glucose     4.3        na\n729   2 2009-09-28 00:00:00             na  glucose     5.1        na\n730   2 2009-10-05 00:00:00          08:09  glucose     4.7   2.8-6.1\n731   2 2009-12-01 08:50:00             na  glucose     4.2        na\n\n[81 rows x 6 columns]",
      "text/html": "<div>\n<style scoped>\n    .dataframe tbody tr th:only-of-type {\n        vertical-align: middle;\n    }\n\n    .dataframe tbody tr th {\n        vertical-align: top;\n    }\n\n    .dataframe thead th {\n        text-align: right;\n    }\n</style>\n<table border=\"1\" class=\"dataframe\">\n  <thead>\n    <tr style=\"text-align: right;\">\n      <th></th>\n      <th>id</th>\n      <th>collected date</th>\n      <th>collected time</th>\n      <th>test</th>\n      <th>result</th>\n      <th>ref range</th>\n    </tr>\n  </thead>\n  <tbody>\n    <tr>\n      <th>651</th>\n      <td>2</td>\n      <td>2007-01-09 00:00:00</td>\n      <td>23:15</td>\n      <td>glucose</td>\n      <td>6.2</td>\n      <td>2.5-5.5</td>\n    </tr>\n    <tr>\n      <th>652</th>\n      <td>2</td>\n      <td>2007-01-10 00:00:00</td>\n      <td>02:55</td>\n      <td>glucose</td>\n      <td>6.7</td>\n      <td>2.5-5.5</td>\n    </tr>\n    <tr>\n      <th>653</th>\n      <td>2</td>\n      <td>2007-01-10 00:00:00</td>\n      <td>05:35</td>\n      <td>glucose</td>\n      <td>7.4</td>\n      <td>2.5-5.5</td>\n    </tr>\n    <tr>\n      <th>654</th>\n      <td>2</td>\n      <td>2007-01-10 00:00:00</td>\n      <td>09:50</td>\n      <td>glucose</td>\n      <td>9.0</td>\n      <td>2.5-5.5</td>\n    </tr>\n    <tr>\n      <th>655</th>\n      <td>2</td>\n      <td>2007-01-10 00:00:00</td>\n      <td>14:25</td>\n      <td>glucose</td>\n      <td>8.4</td>\n      <td>2.5-5.5</td>\n    </tr>\n    <tr>\n      <th>...</th>\n      <td>...</td>\n      <td>...</td>\n      <td>...</td>\n      <td>...</td>\n      <td>...</td>\n      <td>...</td>\n    </tr>\n    <tr>\n      <th>727</th>\n      <td>2</td>\n      <td>2009-06-10 00:00:00</td>\n      <td>na</td>\n      <td>glucose</td>\n      <td>39.0</td>\n      <td>na</td>\n    </tr>\n    <tr>\n      <th>728</th>\n      <td>2</td>\n      <td>2009-06-16 00:00:00</td>\n      <td>na</td>\n      <td>glucose</td>\n      <td>4.3</td>\n      <td>na</td>\n    </tr>\n    <tr>\n      <th>729</th>\n      <td>2</td>\n      <td>2009-09-28 00:00:00</td>\n      <td>na</td>\n      <td>glucose</td>\n      <td>5.1</td>\n      <td>na</td>\n    </tr>\n    <tr>\n      <th>730</th>\n      <td>2</td>\n      <td>2009-10-05 00:00:00</td>\n      <td>08:09</td>\n      <td>glucose</td>\n      <td>4.7</td>\n      <td>2.8-6.1</td>\n    </tr>\n    <tr>\n      <th>731</th>\n      <td>2</td>\n      <td>2009-12-01 08:50:00</td>\n      <td>na</td>\n      <td>glucose</td>\n      <td>4.2</td>\n      <td>na</td>\n    </tr>\n  </tbody>\n</table>\n<p>81 rows × 6 columns</p>\n</div>"
     },
     "execution_count": 235,
     "metadata": {},
     "output_type": "execute_result"
    }
   ],
   "source": [
    "df_gluscose"
   ],
   "metadata": {
    "collapsed": false,
    "ExecuteTime": {
     "end_time": "2023-12-07T03:13:28.968004Z",
     "start_time": "2023-12-07T03:13:28.921590Z"
    }
   },
   "id": "de12acd6d290b9a"
  },
  {
   "cell_type": "markdown",
   "source": [
    "### LabsAvg"
   ],
   "metadata": {
    "collapsed": false
   },
   "id": "9d6a1e15cbeb68f6"
  },
  {
   "cell_type": "code",
   "execution_count": 147,
   "outputs": [],
   "source": [
    "df_labs_avg = pd.read_excel('/Users/prakashgupta/radboudUMC-assignment/data/source/data/1-10/LabsAvg 1,2,3,4,6,7,10.xls')"
   ],
   "metadata": {
    "collapsed": false,
    "ExecuteTime": {
     "end_time": "2023-12-07T02:15:47.998463Z",
     "start_time": "2023-12-07T02:15:47.885635Z"
    }
   },
   "id": "89d85f4de4427140"
  },
  {
   "cell_type": "code",
   "execution_count": 148,
   "outputs": [
    {
     "data": {
      "text/plain": "       id collected date              test ref range  avgresult\n0       1     2006-11-25               ALT      0-60      153.0\n1       1     2006-11-25               AST     0-110       67.0\n2       1     2006-11-25               GGT      0-45       36.0\n3       1     2006-11-25           albumin     28-48       23.0\n4       1     2006-11-25        creatinine      9-44       34.0\n...    ..            ...               ...       ...        ...\n11627  10     2009-10-26         platelets   150-400      163.0\n11628  10     2009-10-26          potasium   3.7-5.0        4.3\n11629  10     2009-10-26            sodium   135-143      139.0\n11630  10     2009-10-26     urea in blood   2.9-7.1        5.4\n11631  10     2009-10-26  white blood cell  5.0-12.0        6.3\n\n[11632 rows x 5 columns]",
      "text/html": "<div>\n<style scoped>\n    .dataframe tbody tr th:only-of-type {\n        vertical-align: middle;\n    }\n\n    .dataframe tbody tr th {\n        vertical-align: top;\n    }\n\n    .dataframe thead th {\n        text-align: right;\n    }\n</style>\n<table border=\"1\" class=\"dataframe\">\n  <thead>\n    <tr style=\"text-align: right;\">\n      <th></th>\n      <th>id</th>\n      <th>collected date</th>\n      <th>test</th>\n      <th>ref range</th>\n      <th>avgresult</th>\n    </tr>\n  </thead>\n  <tbody>\n    <tr>\n      <th>0</th>\n      <td>1</td>\n      <td>2006-11-25</td>\n      <td>ALT</td>\n      <td>0-60</td>\n      <td>153.0</td>\n    </tr>\n    <tr>\n      <th>1</th>\n      <td>1</td>\n      <td>2006-11-25</td>\n      <td>AST</td>\n      <td>0-110</td>\n      <td>67.0</td>\n    </tr>\n    <tr>\n      <th>2</th>\n      <td>1</td>\n      <td>2006-11-25</td>\n      <td>GGT</td>\n      <td>0-45</td>\n      <td>36.0</td>\n    </tr>\n    <tr>\n      <th>3</th>\n      <td>1</td>\n      <td>2006-11-25</td>\n      <td>albumin</td>\n      <td>28-48</td>\n      <td>23.0</td>\n    </tr>\n    <tr>\n      <th>4</th>\n      <td>1</td>\n      <td>2006-11-25</td>\n      <td>creatinine</td>\n      <td>9-44</td>\n      <td>34.0</td>\n    </tr>\n    <tr>\n      <th>...</th>\n      <td>...</td>\n      <td>...</td>\n      <td>...</td>\n      <td>...</td>\n      <td>...</td>\n    </tr>\n    <tr>\n      <th>11627</th>\n      <td>10</td>\n      <td>2009-10-26</td>\n      <td>platelets</td>\n      <td>150-400</td>\n      <td>163.0</td>\n    </tr>\n    <tr>\n      <th>11628</th>\n      <td>10</td>\n      <td>2009-10-26</td>\n      <td>potasium</td>\n      <td>3.7-5.0</td>\n      <td>4.3</td>\n    </tr>\n    <tr>\n      <th>11629</th>\n      <td>10</td>\n      <td>2009-10-26</td>\n      <td>sodium</td>\n      <td>135-143</td>\n      <td>139.0</td>\n    </tr>\n    <tr>\n      <th>11630</th>\n      <td>10</td>\n      <td>2009-10-26</td>\n      <td>urea in blood</td>\n      <td>2.9-7.1</td>\n      <td>5.4</td>\n    </tr>\n    <tr>\n      <th>11631</th>\n      <td>10</td>\n      <td>2009-10-26</td>\n      <td>white blood cell</td>\n      <td>5.0-12.0</td>\n      <td>6.3</td>\n    </tr>\n  </tbody>\n</table>\n<p>11632 rows × 5 columns</p>\n</div>"
     },
     "execution_count": 148,
     "metadata": {},
     "output_type": "execute_result"
    }
   ],
   "source": [
    "df_labs_avg"
   ],
   "metadata": {
    "collapsed": false,
    "ExecuteTime": {
     "end_time": "2023-12-07T02:15:48.407865Z",
     "start_time": "2023-12-07T02:15:48.381922Z"
    }
   },
   "id": "f51284893abee848"
  },
  {
   "cell_type": "code",
   "execution_count": 149,
   "outputs": [],
   "source": [
    "df_labs_avg= df_labs_avg [df_labs_avg['id'] == 2]"
   ],
   "metadata": {
    "collapsed": false,
    "ExecuteTime": {
     "end_time": "2023-12-07T02:15:58.764180Z",
     "start_time": "2023-12-07T02:15:58.727728Z"
    }
   },
   "id": "8fefc3efe65a1428"
  },
  {
   "cell_type": "code",
   "execution_count": 151,
   "outputs": [
    {
     "data": {
      "text/plain": "      id    collected date              test  ref range  avgresult\n4493   2        2007-01-09               ALT       0-60   212.0000\n4494   2        2007-01-09               AST      0-110   409.0000\n4495   2        2007-01-09               GGT       0-45    47.0000\n4496   2        2007-01-09           albumin      28-48    28.0000\n4497   2        2007-01-09           calcium  2.17-2.44     2.7657\n...   ..               ...               ...        ...        ...\n5529   2  2009-12-01 08:50         platelets         na   223.0000\n5530   2  2009-12-01 08:50          potasium         na     4.6000\n5531   2  2009-12-01 08:50            sodium         na   137.0000\n5532   2  2009-12-01 08:50     urea in blood         na     5.4000\n5533   2  2009-12-01 08:50  white blood cell         na     8.1000\n\n[1041 rows x 5 columns]",
      "text/html": "<div>\n<style scoped>\n    .dataframe tbody tr th:only-of-type {\n        vertical-align: middle;\n    }\n\n    .dataframe tbody tr th {\n        vertical-align: top;\n    }\n\n    .dataframe thead th {\n        text-align: right;\n    }\n</style>\n<table border=\"1\" class=\"dataframe\">\n  <thead>\n    <tr style=\"text-align: right;\">\n      <th></th>\n      <th>id</th>\n      <th>collected date</th>\n      <th>test</th>\n      <th>ref range</th>\n      <th>avgresult</th>\n    </tr>\n  </thead>\n  <tbody>\n    <tr>\n      <th>4493</th>\n      <td>2</td>\n      <td>2007-01-09</td>\n      <td>ALT</td>\n      <td>0-60</td>\n      <td>212.0000</td>\n    </tr>\n    <tr>\n      <th>4494</th>\n      <td>2</td>\n      <td>2007-01-09</td>\n      <td>AST</td>\n      <td>0-110</td>\n      <td>409.0000</td>\n    </tr>\n    <tr>\n      <th>4495</th>\n      <td>2</td>\n      <td>2007-01-09</td>\n      <td>GGT</td>\n      <td>0-45</td>\n      <td>47.0000</td>\n    </tr>\n    <tr>\n      <th>4496</th>\n      <td>2</td>\n      <td>2007-01-09</td>\n      <td>albumin</td>\n      <td>28-48</td>\n      <td>28.0000</td>\n    </tr>\n    <tr>\n      <th>4497</th>\n      <td>2</td>\n      <td>2007-01-09</td>\n      <td>calcium</td>\n      <td>2.17-2.44</td>\n      <td>2.7657</td>\n    </tr>\n    <tr>\n      <th>...</th>\n      <td>...</td>\n      <td>...</td>\n      <td>...</td>\n      <td>...</td>\n      <td>...</td>\n    </tr>\n    <tr>\n      <th>5529</th>\n      <td>2</td>\n      <td>2009-12-01 08:50</td>\n      <td>platelets</td>\n      <td>na</td>\n      <td>223.0000</td>\n    </tr>\n    <tr>\n      <th>5530</th>\n      <td>2</td>\n      <td>2009-12-01 08:50</td>\n      <td>potasium</td>\n      <td>na</td>\n      <td>4.6000</td>\n    </tr>\n    <tr>\n      <th>5531</th>\n      <td>2</td>\n      <td>2009-12-01 08:50</td>\n      <td>sodium</td>\n      <td>na</td>\n      <td>137.0000</td>\n    </tr>\n    <tr>\n      <th>5532</th>\n      <td>2</td>\n      <td>2009-12-01 08:50</td>\n      <td>urea in blood</td>\n      <td>na</td>\n      <td>5.4000</td>\n    </tr>\n    <tr>\n      <th>5533</th>\n      <td>2</td>\n      <td>2009-12-01 08:50</td>\n      <td>white blood cell</td>\n      <td>na</td>\n      <td>8.1000</td>\n    </tr>\n  </tbody>\n</table>\n<p>1041 rows × 5 columns</p>\n</div>"
     },
     "execution_count": 151,
     "metadata": {},
     "output_type": "execute_result"
    }
   ],
   "source": [
    "df_labs_avg"
   ],
   "metadata": {
    "collapsed": false,
    "ExecuteTime": {
     "end_time": "2023-12-07T02:16:07.756829Z",
     "start_time": "2023-12-07T02:16:07.704461Z"
    }
   },
   "id": "dfc718af5eaabe11"
  },
  {
   "cell_type": "code",
   "execution_count": 156,
   "outputs": [
    {
     "data": {
      "text/plain": "id            2.000000\navgresult    29.364198\ndtype: float64"
     },
     "execution_count": 156,
     "metadata": {},
     "output_type": "execute_result"
    }
   ],
   "source": [
    "df_labs_avg[df_labs_avg['test'] == 'creatinine'].mean()"
   ],
   "metadata": {
    "collapsed": false,
    "ExecuteTime": {
     "end_time": "2023-12-07T02:17:08.117640Z",
     "start_time": "2023-12-07T02:17:08.067465Z"
    }
   },
   "id": "c0219bbe30b00e5d"
  },
  {
   "cell_type": "markdown",
   "source": [],
   "metadata": {
    "collapsed": false
   },
   "id": "4fe5a9ce8653c831"
  },
  {
   "cell_type": "code",
   "execution_count": 159,
   "outputs": [
    {
     "data": {
      "text/plain": "id           2.00\navgresult    1.67\ndtype: float64"
     },
     "execution_count": 159,
     "metadata": {},
     "output_type": "execute_result"
    }
   ],
   "source": [
    "df_labs_avg[df_labs_avg['test'] == 'creatinine clearance'].mean()"
   ],
   "metadata": {
    "collapsed": false,
    "ExecuteTime": {
     "end_time": "2023-12-07T02:18:10.207757Z",
     "start_time": "2023-12-07T02:18:10.126555Z"
    }
   },
   "id": "78ad610463133671"
  },
  {
   "cell_type": "code",
   "execution_count": 164,
   "outputs": [
    {
     "data": {
      "text/plain": "     id    collected date           test ref range  avgresult\n0   2.0        2007-01-09  urea in blood  2.9-10.0        0.0\n1   NaN        2007-01-10            NaN       NaN        NaN\n2   NaN        2007-01-11            NaN       NaN        NaN\n3   NaN        2007-01-12            NaN       NaN        NaN\n4   NaN        2007-01-13            NaN       NaN        NaN\n..  ...               ...            ...       ...        ...\n75  NaN  2009-06-16 00:00            NaN       NaN        NaN\n76  NaN  2009-06-23 09:00            NaN       NaN        NaN\n77  NaN  2009-09-28 00:00            NaN       NaN        NaN\n78  NaN        2009-10-05            NaN       NaN        NaN\n79  NaN  2009-12-01 08:50            NaN       NaN        NaN\n\n[80 rows x 5 columns]",
      "text/html": "<div>\n<style scoped>\n    .dataframe tbody tr th:only-of-type {\n        vertical-align: middle;\n    }\n\n    .dataframe tbody tr th {\n        vertical-align: top;\n    }\n\n    .dataframe thead th {\n        text-align: right;\n    }\n</style>\n<table border=\"1\" class=\"dataframe\">\n  <thead>\n    <tr style=\"text-align: right;\">\n      <th></th>\n      <th>id</th>\n      <th>collected date</th>\n      <th>test</th>\n      <th>ref range</th>\n      <th>avgresult</th>\n    </tr>\n  </thead>\n  <tbody>\n    <tr>\n      <th>0</th>\n      <td>2.0</td>\n      <td>2007-01-09</td>\n      <td>urea in blood</td>\n      <td>2.9-10.0</td>\n      <td>0.0</td>\n    </tr>\n    <tr>\n      <th>1</th>\n      <td>NaN</td>\n      <td>2007-01-10</td>\n      <td>NaN</td>\n      <td>NaN</td>\n      <td>NaN</td>\n    </tr>\n    <tr>\n      <th>2</th>\n      <td>NaN</td>\n      <td>2007-01-11</td>\n      <td>NaN</td>\n      <td>NaN</td>\n      <td>NaN</td>\n    </tr>\n    <tr>\n      <th>3</th>\n      <td>NaN</td>\n      <td>2007-01-12</td>\n      <td>NaN</td>\n      <td>NaN</td>\n      <td>NaN</td>\n    </tr>\n    <tr>\n      <th>4</th>\n      <td>NaN</td>\n      <td>2007-01-13</td>\n      <td>NaN</td>\n      <td>NaN</td>\n      <td>NaN</td>\n    </tr>\n    <tr>\n      <th>...</th>\n      <td>...</td>\n      <td>...</td>\n      <td>...</td>\n      <td>...</td>\n      <td>...</td>\n    </tr>\n    <tr>\n      <th>75</th>\n      <td>NaN</td>\n      <td>2009-06-16 00:00</td>\n      <td>NaN</td>\n      <td>NaN</td>\n      <td>NaN</td>\n    </tr>\n    <tr>\n      <th>76</th>\n      <td>NaN</td>\n      <td>2009-06-23 09:00</td>\n      <td>NaN</td>\n      <td>NaN</td>\n      <td>NaN</td>\n    </tr>\n    <tr>\n      <th>77</th>\n      <td>NaN</td>\n      <td>2009-09-28 00:00</td>\n      <td>NaN</td>\n      <td>NaN</td>\n      <td>NaN</td>\n    </tr>\n    <tr>\n      <th>78</th>\n      <td>NaN</td>\n      <td>2009-10-05</td>\n      <td>NaN</td>\n      <td>NaN</td>\n      <td>NaN</td>\n    </tr>\n    <tr>\n      <th>79</th>\n      <td>NaN</td>\n      <td>2009-12-01 08:50</td>\n      <td>NaN</td>\n      <td>NaN</td>\n      <td>NaN</td>\n    </tr>\n  </tbody>\n</table>\n<p>80 rows × 5 columns</p>\n</div>"
     },
     "execution_count": 164,
     "metadata": {},
     "output_type": "execute_result"
    }
   ],
   "source": [
    "df_labs_avg[df_labs_avg['test'] == 'urea in blood']"
   ],
   "metadata": {
    "collapsed": false,
    "ExecuteTime": {
     "end_time": "2023-12-07T02:19:05.116675Z",
     "start_time": "2023-12-07T02:19:05.068419Z"
    }
   },
   "id": "94951853f1170a08"
  },
  {
   "cell_type": "code",
   "execution_count": 168,
   "outputs": [
    {
     "data": {
      "text/plain": "id            2.000000\navgresult    35.748793\ndtype: float64"
     },
     "execution_count": 168,
     "metadata": {},
     "output_type": "execute_result"
    }
   ],
   "source": [
    "df_labs_avg[df_labs_avg['test'] == 'albumin'].mean()"
   ],
   "metadata": {
    "collapsed": false,
    "ExecuteTime": {
     "end_time": "2023-12-07T02:20:12.836498Z",
     "start_time": "2023-12-07T02:20:12.790207Z"
    }
   },
   "id": "5b18e3a9517b5977"
  },
  {
   "cell_type": "code",
   "execution_count": 172,
   "outputs": [
    {
     "data": {
      "text/plain": "      id    collected date     test  ref range  avgresult\n4497   2        2007-01-09  calcium  2.17-2.44     2.7657\n4665   2        2007-01-21  calcium  2.17-2.44     1.9600\n4738   2        2007-01-29  calcium  2.17-2.44     2.2600\n4752   2        2007-01-31  calcium  2.17-2.44     2.3600\n4766   2        2007-02-05  calcium  2.17-2.44     2.5000\n4779   2        2007-02-06  calcium  2.17-2.44     2.3400\n4793   2        2007-02-07  calcium  2.17-2.44     2.2600\n4826   2        2007-02-10  calcium  2.17-2.44     2.1400\n4937   2        2007-02-23  calcium  2.17-2.44     2.3000\n4951   2        2007-02-28  calcium  2.17-2.44     2.3800\n4978   2        2007-03-07  calcium  2.17-2.44     2.3400\n4994   2  2007-03-15 09:15  calcium         na     2.3100\n5008   2  2007-03-21 09:00  calcium         na     2.1500\n5022   2  2007-03-28 08:20  calcium         na     2.2600\n5035   2        2007-04-04  calcium  2.17-2.65     2.2800\n5049   2  2007-04-18 08:30  calcium         na     2.3500\n5076   2  2007-05-16 11:55  calcium         na     2.3400\n5090   2  2007-05-29 08:55  calcium         na     2.2000\n5121   2  2007-07-10 09:25  calcium         na     2.1900\n5135   2  2007-07-24 00:00  calcium         na     2.2700\n5147   2  2007-07-31 08:50  calcium         na     2.3200\n5161   2  2007-08-15 09:06  calcium         na     2.3600\n5175   2  2007-08-27 09:00  calcium         na     2.2700\n5189   2  2007-09-04 08:30  calcium         na     2.3500\n5202   2  2007-09-12 00:00  calcium         na     2.2800\n5229   2  2007-10-03 08:55  calcium         na     2.3100\n5243   2  2007-10-17 00:01  calcium         na     2.3100\n5270   2  2008-01-02 09:20  calcium         na     2.2300\n5294   2  2008-01-15 09:30  calcium         na     2.1500\n5307   2  2008-02-05 00:01  calcium         na     2.2900\n5328   2  2008-03-04 09:18  calcium         na     2.2300\n5342   2  2008-03-19 09:21  calcium         na     2.4600\n5368   2  2008-05-27 09:40  calcium         na     2.3600\n5382   2  2008-06-24 08:55  calcium         na     2.3400\n5409   2  2008-12-02 09:04  calcium         na     2.5200\n5423   2  2009-03-09 09:05  calcium         na     2.3600\n5446   2  2009-04-08 09:14  calcium         na     2.2500\n5460   2  2009-06-10 00:00  calcium         na     2.4700\n5474   2  2009-06-16 00:00  calcium         na     2.4200\n5499   2  2009-09-28 00:00  calcium         na     2.5100\n5525   2  2009-12-01 08:50  calcium         na     2.4800",
      "text/html": "<div>\n<style scoped>\n    .dataframe tbody tr th:only-of-type {\n        vertical-align: middle;\n    }\n\n    .dataframe tbody tr th {\n        vertical-align: top;\n    }\n\n    .dataframe thead th {\n        text-align: right;\n    }\n</style>\n<table border=\"1\" class=\"dataframe\">\n  <thead>\n    <tr style=\"text-align: right;\">\n      <th></th>\n      <th>id</th>\n      <th>collected date</th>\n      <th>test</th>\n      <th>ref range</th>\n      <th>avgresult</th>\n    </tr>\n  </thead>\n  <tbody>\n    <tr>\n      <th>4497</th>\n      <td>2</td>\n      <td>2007-01-09</td>\n      <td>calcium</td>\n      <td>2.17-2.44</td>\n      <td>2.7657</td>\n    </tr>\n    <tr>\n      <th>4665</th>\n      <td>2</td>\n      <td>2007-01-21</td>\n      <td>calcium</td>\n      <td>2.17-2.44</td>\n      <td>1.9600</td>\n    </tr>\n    <tr>\n      <th>4738</th>\n      <td>2</td>\n      <td>2007-01-29</td>\n      <td>calcium</td>\n      <td>2.17-2.44</td>\n      <td>2.2600</td>\n    </tr>\n    <tr>\n      <th>4752</th>\n      <td>2</td>\n      <td>2007-01-31</td>\n      <td>calcium</td>\n      <td>2.17-2.44</td>\n      <td>2.3600</td>\n    </tr>\n    <tr>\n      <th>4766</th>\n      <td>2</td>\n      <td>2007-02-05</td>\n      <td>calcium</td>\n      <td>2.17-2.44</td>\n      <td>2.5000</td>\n    </tr>\n    <tr>\n      <th>4779</th>\n      <td>2</td>\n      <td>2007-02-06</td>\n      <td>calcium</td>\n      <td>2.17-2.44</td>\n      <td>2.3400</td>\n    </tr>\n    <tr>\n      <th>4793</th>\n      <td>2</td>\n      <td>2007-02-07</td>\n      <td>calcium</td>\n      <td>2.17-2.44</td>\n      <td>2.2600</td>\n    </tr>\n    <tr>\n      <th>4826</th>\n      <td>2</td>\n      <td>2007-02-10</td>\n      <td>calcium</td>\n      <td>2.17-2.44</td>\n      <td>2.1400</td>\n    </tr>\n    <tr>\n      <th>4937</th>\n      <td>2</td>\n      <td>2007-02-23</td>\n      <td>calcium</td>\n      <td>2.17-2.44</td>\n      <td>2.3000</td>\n    </tr>\n    <tr>\n      <th>4951</th>\n      <td>2</td>\n      <td>2007-02-28</td>\n      <td>calcium</td>\n      <td>2.17-2.44</td>\n      <td>2.3800</td>\n    </tr>\n    <tr>\n      <th>4978</th>\n      <td>2</td>\n      <td>2007-03-07</td>\n      <td>calcium</td>\n      <td>2.17-2.44</td>\n      <td>2.3400</td>\n    </tr>\n    <tr>\n      <th>4994</th>\n      <td>2</td>\n      <td>2007-03-15 09:15</td>\n      <td>calcium</td>\n      <td>na</td>\n      <td>2.3100</td>\n    </tr>\n    <tr>\n      <th>5008</th>\n      <td>2</td>\n      <td>2007-03-21 09:00</td>\n      <td>calcium</td>\n      <td>na</td>\n      <td>2.1500</td>\n    </tr>\n    <tr>\n      <th>5022</th>\n      <td>2</td>\n      <td>2007-03-28 08:20</td>\n      <td>calcium</td>\n      <td>na</td>\n      <td>2.2600</td>\n    </tr>\n    <tr>\n      <th>5035</th>\n      <td>2</td>\n      <td>2007-04-04</td>\n      <td>calcium</td>\n      <td>2.17-2.65</td>\n      <td>2.2800</td>\n    </tr>\n    <tr>\n      <th>5049</th>\n      <td>2</td>\n      <td>2007-04-18 08:30</td>\n      <td>calcium</td>\n      <td>na</td>\n      <td>2.3500</td>\n    </tr>\n    <tr>\n      <th>5076</th>\n      <td>2</td>\n      <td>2007-05-16 11:55</td>\n      <td>calcium</td>\n      <td>na</td>\n      <td>2.3400</td>\n    </tr>\n    <tr>\n      <th>5090</th>\n      <td>2</td>\n      <td>2007-05-29 08:55</td>\n      <td>calcium</td>\n      <td>na</td>\n      <td>2.2000</td>\n    </tr>\n    <tr>\n      <th>5121</th>\n      <td>2</td>\n      <td>2007-07-10 09:25</td>\n      <td>calcium</td>\n      <td>na</td>\n      <td>2.1900</td>\n    </tr>\n    <tr>\n      <th>5135</th>\n      <td>2</td>\n      <td>2007-07-24 00:00</td>\n      <td>calcium</td>\n      <td>na</td>\n      <td>2.2700</td>\n    </tr>\n    <tr>\n      <th>5147</th>\n      <td>2</td>\n      <td>2007-07-31 08:50</td>\n      <td>calcium</td>\n      <td>na</td>\n      <td>2.3200</td>\n    </tr>\n    <tr>\n      <th>5161</th>\n      <td>2</td>\n      <td>2007-08-15 09:06</td>\n      <td>calcium</td>\n      <td>na</td>\n      <td>2.3600</td>\n    </tr>\n    <tr>\n      <th>5175</th>\n      <td>2</td>\n      <td>2007-08-27 09:00</td>\n      <td>calcium</td>\n      <td>na</td>\n      <td>2.2700</td>\n    </tr>\n    <tr>\n      <th>5189</th>\n      <td>2</td>\n      <td>2007-09-04 08:30</td>\n      <td>calcium</td>\n      <td>na</td>\n      <td>2.3500</td>\n    </tr>\n    <tr>\n      <th>5202</th>\n      <td>2</td>\n      <td>2007-09-12 00:00</td>\n      <td>calcium</td>\n      <td>na</td>\n      <td>2.2800</td>\n    </tr>\n    <tr>\n      <th>5229</th>\n      <td>2</td>\n      <td>2007-10-03 08:55</td>\n      <td>calcium</td>\n      <td>na</td>\n      <td>2.3100</td>\n    </tr>\n    <tr>\n      <th>5243</th>\n      <td>2</td>\n      <td>2007-10-17 00:01</td>\n      <td>calcium</td>\n      <td>na</td>\n      <td>2.3100</td>\n    </tr>\n    <tr>\n      <th>5270</th>\n      <td>2</td>\n      <td>2008-01-02 09:20</td>\n      <td>calcium</td>\n      <td>na</td>\n      <td>2.2300</td>\n    </tr>\n    <tr>\n      <th>5294</th>\n      <td>2</td>\n      <td>2008-01-15 09:30</td>\n      <td>calcium</td>\n      <td>na</td>\n      <td>2.1500</td>\n    </tr>\n    <tr>\n      <th>5307</th>\n      <td>2</td>\n      <td>2008-02-05 00:01</td>\n      <td>calcium</td>\n      <td>na</td>\n      <td>2.2900</td>\n    </tr>\n    <tr>\n      <th>5328</th>\n      <td>2</td>\n      <td>2008-03-04 09:18</td>\n      <td>calcium</td>\n      <td>na</td>\n      <td>2.2300</td>\n    </tr>\n    <tr>\n      <th>5342</th>\n      <td>2</td>\n      <td>2008-03-19 09:21</td>\n      <td>calcium</td>\n      <td>na</td>\n      <td>2.4600</td>\n    </tr>\n    <tr>\n      <th>5368</th>\n      <td>2</td>\n      <td>2008-05-27 09:40</td>\n      <td>calcium</td>\n      <td>na</td>\n      <td>2.3600</td>\n    </tr>\n    <tr>\n      <th>5382</th>\n      <td>2</td>\n      <td>2008-06-24 08:55</td>\n      <td>calcium</td>\n      <td>na</td>\n      <td>2.3400</td>\n    </tr>\n    <tr>\n      <th>5409</th>\n      <td>2</td>\n      <td>2008-12-02 09:04</td>\n      <td>calcium</td>\n      <td>na</td>\n      <td>2.5200</td>\n    </tr>\n    <tr>\n      <th>5423</th>\n      <td>2</td>\n      <td>2009-03-09 09:05</td>\n      <td>calcium</td>\n      <td>na</td>\n      <td>2.3600</td>\n    </tr>\n    <tr>\n      <th>5446</th>\n      <td>2</td>\n      <td>2009-04-08 09:14</td>\n      <td>calcium</td>\n      <td>na</td>\n      <td>2.2500</td>\n    </tr>\n    <tr>\n      <th>5460</th>\n      <td>2</td>\n      <td>2009-06-10 00:00</td>\n      <td>calcium</td>\n      <td>na</td>\n      <td>2.4700</td>\n    </tr>\n    <tr>\n      <th>5474</th>\n      <td>2</td>\n      <td>2009-06-16 00:00</td>\n      <td>calcium</td>\n      <td>na</td>\n      <td>2.4200</td>\n    </tr>\n    <tr>\n      <th>5499</th>\n      <td>2</td>\n      <td>2009-09-28 00:00</td>\n      <td>calcium</td>\n      <td>na</td>\n      <td>2.5100</td>\n    </tr>\n    <tr>\n      <th>5525</th>\n      <td>2</td>\n      <td>2009-12-01 08:50</td>\n      <td>calcium</td>\n      <td>na</td>\n      <td>2.4800</td>\n    </tr>\n  </tbody>\n</table>\n</div>"
     },
     "execution_count": 172,
     "metadata": {},
     "output_type": "execute_result"
    }
   ],
   "source": [
    "df_labs_avg[df_labs_avg['test'] == 'calcium']"
   ],
   "metadata": {
    "collapsed": false,
    "ExecuteTime": {
     "end_time": "2023-12-07T02:21:15.688333Z",
     "start_time": "2023-12-07T02:21:15.635991Z"
    }
   },
   "id": "2820c691cac748ea"
  },
  {
   "cell_type": "markdown",
   "source": [
    "## LabsRAw"
   ],
   "metadata": {
    "collapsed": false
   },
   "id": "6524176fc808748b"
  },
  {
   "cell_type": "code",
   "execution_count": 173,
   "outputs": [],
   "source": [
    "df_labs_raw = pd.read_excel('/Users/prakashgupta/radboudUMC-assignment/data/source/data/1-10/LabsRaw 1,2,3,4,6,7,10.xls')"
   ],
   "metadata": {
    "collapsed": false,
    "ExecuteTime": {
     "end_time": "2023-12-07T02:22:05.051816Z",
     "start_time": "2023-12-07T02:22:04.687361Z"
    }
   },
   "id": "2092c728f6c1237e"
  },
  {
   "cell_type": "code",
   "execution_count": 174,
   "outputs": [
    {
     "data": {
      "text/plain": "       id collected date collected time              test result ref range\n0       1     2006-11-25          01:15           lactate    1.6     0-2.4\n1       1     2006-11-25          01:15          potasium    3.5   3.5-6.0\n2       1     2006-11-25          01:15            sodium    133   133-142\n3       1     2006-11-25          05:25               ALT    153      0-60\n4       1     2006-11-25          05:25               AST     67     0-110\n...    ..            ...            ...               ...    ...       ...\n15052  10     2009-10-26          07:26         platelets    163   150-400\n15053  10     2009-10-26          07:26          potasium    4.3   3.7-5.0\n15054  10     2009-10-26          07:26            sodium    139   135-143\n15055  10     2009-10-26          07:26     urea in blood    5.4   2.9-7.1\n15056  10     2009-10-26          07:26  white blood cell    6.3  5.0-12.0\n\n[15057 rows x 6 columns]",
      "text/html": "<div>\n<style scoped>\n    .dataframe tbody tr th:only-of-type {\n        vertical-align: middle;\n    }\n\n    .dataframe tbody tr th {\n        vertical-align: top;\n    }\n\n    .dataframe thead th {\n        text-align: right;\n    }\n</style>\n<table border=\"1\" class=\"dataframe\">\n  <thead>\n    <tr style=\"text-align: right;\">\n      <th></th>\n      <th>id</th>\n      <th>collected date</th>\n      <th>collected time</th>\n      <th>test</th>\n      <th>result</th>\n      <th>ref range</th>\n    </tr>\n  </thead>\n  <tbody>\n    <tr>\n      <th>0</th>\n      <td>1</td>\n      <td>2006-11-25</td>\n      <td>01:15</td>\n      <td>lactate</td>\n      <td>1.6</td>\n      <td>0-2.4</td>\n    </tr>\n    <tr>\n      <th>1</th>\n      <td>1</td>\n      <td>2006-11-25</td>\n      <td>01:15</td>\n      <td>potasium</td>\n      <td>3.5</td>\n      <td>3.5-6.0</td>\n    </tr>\n    <tr>\n      <th>2</th>\n      <td>1</td>\n      <td>2006-11-25</td>\n      <td>01:15</td>\n      <td>sodium</td>\n      <td>133</td>\n      <td>133-142</td>\n    </tr>\n    <tr>\n      <th>3</th>\n      <td>1</td>\n      <td>2006-11-25</td>\n      <td>05:25</td>\n      <td>ALT</td>\n      <td>153</td>\n      <td>0-60</td>\n    </tr>\n    <tr>\n      <th>4</th>\n      <td>1</td>\n      <td>2006-11-25</td>\n      <td>05:25</td>\n      <td>AST</td>\n      <td>67</td>\n      <td>0-110</td>\n    </tr>\n    <tr>\n      <th>...</th>\n      <td>...</td>\n      <td>...</td>\n      <td>...</td>\n      <td>...</td>\n      <td>...</td>\n      <td>...</td>\n    </tr>\n    <tr>\n      <th>15052</th>\n      <td>10</td>\n      <td>2009-10-26</td>\n      <td>07:26</td>\n      <td>platelets</td>\n      <td>163</td>\n      <td>150-400</td>\n    </tr>\n    <tr>\n      <th>15053</th>\n      <td>10</td>\n      <td>2009-10-26</td>\n      <td>07:26</td>\n      <td>potasium</td>\n      <td>4.3</td>\n      <td>3.7-5.0</td>\n    </tr>\n    <tr>\n      <th>15054</th>\n      <td>10</td>\n      <td>2009-10-26</td>\n      <td>07:26</td>\n      <td>sodium</td>\n      <td>139</td>\n      <td>135-143</td>\n    </tr>\n    <tr>\n      <th>15055</th>\n      <td>10</td>\n      <td>2009-10-26</td>\n      <td>07:26</td>\n      <td>urea in blood</td>\n      <td>5.4</td>\n      <td>2.9-7.1</td>\n    </tr>\n    <tr>\n      <th>15056</th>\n      <td>10</td>\n      <td>2009-10-26</td>\n      <td>07:26</td>\n      <td>white blood cell</td>\n      <td>6.3</td>\n      <td>5.0-12.0</td>\n    </tr>\n  </tbody>\n</table>\n<p>15057 rows × 6 columns</p>\n</div>"
     },
     "execution_count": 174,
     "metadata": {},
     "output_type": "execute_result"
    }
   ],
   "source": [
    "df_labs_raw"
   ],
   "metadata": {
    "collapsed": false,
    "ExecuteTime": {
     "end_time": "2023-12-07T02:22:08.500394Z",
     "start_time": "2023-12-07T02:22:08.433813Z"
    }
   },
   "id": "a90db6d86a0aa701"
  },
  {
   "cell_type": "code",
   "execution_count": 176,
   "outputs": [],
   "source": [
    "df_labs_raw = df_labs_raw[df_labs_raw['id'] == 2]"
   ],
   "metadata": {
    "collapsed": false,
    "ExecuteTime": {
     "end_time": "2023-12-07T02:22:33.628814Z",
     "start_time": "2023-12-07T02:22:33.602087Z"
    }
   },
   "id": "39940d5a0ce9bdf"
  },
  {
   "cell_type": "code",
   "execution_count": 177,
   "outputs": [
    {
     "data": {
      "text/plain": "      id    collected date collected time              test result  \\\n6421   2        2007-01-09          13:00           calcium   2.03   \n6422   2        2007-01-09          13:00       hematocrite  0.284   \n6423   2        2007-01-09          13:00        hemoglobin     95   \n6424   2        2007-01-09          13:00         magnesium   0.66   \n6425   2        2007-01-09          13:00         platelets     92   \n...   ..               ...            ...               ...    ...   \n7703   2  2009-12-01 08:50             na         platelets    223   \n7704   2  2009-12-01 08:50             na          potasium    4.6   \n7705   2  2009-12-01 08:50             na            sodium    137   \n7706   2  2009-12-01 08:50             na     urea in blood    5.4   \n7707   2  2009-12-01 08:50             na  white blood cell    8.1   \n\n        ref range  \n6421    2.17-2.44  \n6422  0.300-0.420  \n6423      100-140  \n6424    0.70-0.95  \n6425      150-400  \n...           ...  \n7703           na  \n7704           na  \n7705           na  \n7706           na  \n7707           na  \n\n[1287 rows x 6 columns]",
      "text/html": "<div>\n<style scoped>\n    .dataframe tbody tr th:only-of-type {\n        vertical-align: middle;\n    }\n\n    .dataframe tbody tr th {\n        vertical-align: top;\n    }\n\n    .dataframe thead th {\n        text-align: right;\n    }\n</style>\n<table border=\"1\" class=\"dataframe\">\n  <thead>\n    <tr style=\"text-align: right;\">\n      <th></th>\n      <th>id</th>\n      <th>collected date</th>\n      <th>collected time</th>\n      <th>test</th>\n      <th>result</th>\n      <th>ref range</th>\n    </tr>\n  </thead>\n  <tbody>\n    <tr>\n      <th>6421</th>\n      <td>2</td>\n      <td>2007-01-09</td>\n      <td>13:00</td>\n      <td>calcium</td>\n      <td>2.03</td>\n      <td>2.17-2.44</td>\n    </tr>\n    <tr>\n      <th>6422</th>\n      <td>2</td>\n      <td>2007-01-09</td>\n      <td>13:00</td>\n      <td>hematocrite</td>\n      <td>0.284</td>\n      <td>0.300-0.420</td>\n    </tr>\n    <tr>\n      <th>6423</th>\n      <td>2</td>\n      <td>2007-01-09</td>\n      <td>13:00</td>\n      <td>hemoglobin</td>\n      <td>95</td>\n      <td>100-140</td>\n    </tr>\n    <tr>\n      <th>6424</th>\n      <td>2</td>\n      <td>2007-01-09</td>\n      <td>13:00</td>\n      <td>magnesium</td>\n      <td>0.66</td>\n      <td>0.70-0.95</td>\n    </tr>\n    <tr>\n      <th>6425</th>\n      <td>2</td>\n      <td>2007-01-09</td>\n      <td>13:00</td>\n      <td>platelets</td>\n      <td>92</td>\n      <td>150-400</td>\n    </tr>\n    <tr>\n      <th>...</th>\n      <td>...</td>\n      <td>...</td>\n      <td>...</td>\n      <td>...</td>\n      <td>...</td>\n      <td>...</td>\n    </tr>\n    <tr>\n      <th>7703</th>\n      <td>2</td>\n      <td>2009-12-01 08:50</td>\n      <td>na</td>\n      <td>platelets</td>\n      <td>223</td>\n      <td>na</td>\n    </tr>\n    <tr>\n      <th>7704</th>\n      <td>2</td>\n      <td>2009-12-01 08:50</td>\n      <td>na</td>\n      <td>potasium</td>\n      <td>4.6</td>\n      <td>na</td>\n    </tr>\n    <tr>\n      <th>7705</th>\n      <td>2</td>\n      <td>2009-12-01 08:50</td>\n      <td>na</td>\n      <td>sodium</td>\n      <td>137</td>\n      <td>na</td>\n    </tr>\n    <tr>\n      <th>7706</th>\n      <td>2</td>\n      <td>2009-12-01 08:50</td>\n      <td>na</td>\n      <td>urea in blood</td>\n      <td>5.4</td>\n      <td>na</td>\n    </tr>\n    <tr>\n      <th>7707</th>\n      <td>2</td>\n      <td>2009-12-01 08:50</td>\n      <td>na</td>\n      <td>white blood cell</td>\n      <td>8.1</td>\n      <td>na</td>\n    </tr>\n  </tbody>\n</table>\n<p>1287 rows × 6 columns</p>\n</div>"
     },
     "execution_count": 177,
     "metadata": {},
     "output_type": "execute_result"
    }
   ],
   "source": [
    "df_labs_raw"
   ],
   "metadata": {
    "collapsed": false,
    "ExecuteTime": {
     "end_time": "2023-12-07T02:22:41.637631Z",
     "start_time": "2023-12-07T02:22:41.572719Z"
    }
   },
   "id": "de7789a94c74bbff"
  },
  {
   "cell_type": "code",
   "execution_count": 180,
   "outputs": [
    {
     "data": {
      "text/plain": "      id    collected date collected time        test result ref range\n6473   2        2007-01-09          23:15  creatinine     21      9-44\n6491   2        2007-01-10          05:35  creatinine     21      9-44\n6511   2        2007-01-10          14:25  creatinine     24      9-44\n6534   2        2007-01-11          02:00  creatinine     21      9-44\n6552   2        2007-01-11          10:00  creatinine     24      9-44\n...   ..               ...            ...         ...    ...       ...\n7635   2  2009-06-10 00:00             na  creatinine     36        na\n7649   2  2009-06-16 00:00             na  creatinine     32        na\n7661   2  2009-06-23 09:00             na  creatinine     34        na\n7685   2        2009-10-05          08:09  creatinine     34       <36\n7700   2  2009-12-01 08:50             na  creatinine     40        na\n\n[88 rows x 6 columns]",
      "text/html": "<div>\n<style scoped>\n    .dataframe tbody tr th:only-of-type {\n        vertical-align: middle;\n    }\n\n    .dataframe tbody tr th {\n        vertical-align: top;\n    }\n\n    .dataframe thead th {\n        text-align: right;\n    }\n</style>\n<table border=\"1\" class=\"dataframe\">\n  <thead>\n    <tr style=\"text-align: right;\">\n      <th></th>\n      <th>id</th>\n      <th>collected date</th>\n      <th>collected time</th>\n      <th>test</th>\n      <th>result</th>\n      <th>ref range</th>\n    </tr>\n  </thead>\n  <tbody>\n    <tr>\n      <th>6473</th>\n      <td>2</td>\n      <td>2007-01-09</td>\n      <td>23:15</td>\n      <td>creatinine</td>\n      <td>21</td>\n      <td>9-44</td>\n    </tr>\n    <tr>\n      <th>6491</th>\n      <td>2</td>\n      <td>2007-01-10</td>\n      <td>05:35</td>\n      <td>creatinine</td>\n      <td>21</td>\n      <td>9-44</td>\n    </tr>\n    <tr>\n      <th>6511</th>\n      <td>2</td>\n      <td>2007-01-10</td>\n      <td>14:25</td>\n      <td>creatinine</td>\n      <td>24</td>\n      <td>9-44</td>\n    </tr>\n    <tr>\n      <th>6534</th>\n      <td>2</td>\n      <td>2007-01-11</td>\n      <td>02:00</td>\n      <td>creatinine</td>\n      <td>21</td>\n      <td>9-44</td>\n    </tr>\n    <tr>\n      <th>6552</th>\n      <td>2</td>\n      <td>2007-01-11</td>\n      <td>10:00</td>\n      <td>creatinine</td>\n      <td>24</td>\n      <td>9-44</td>\n    </tr>\n    <tr>\n      <th>...</th>\n      <td>...</td>\n      <td>...</td>\n      <td>...</td>\n      <td>...</td>\n      <td>...</td>\n      <td>...</td>\n    </tr>\n    <tr>\n      <th>7635</th>\n      <td>2</td>\n      <td>2009-06-10 00:00</td>\n      <td>na</td>\n      <td>creatinine</td>\n      <td>36</td>\n      <td>na</td>\n    </tr>\n    <tr>\n      <th>7649</th>\n      <td>2</td>\n      <td>2009-06-16 00:00</td>\n      <td>na</td>\n      <td>creatinine</td>\n      <td>32</td>\n      <td>na</td>\n    </tr>\n    <tr>\n      <th>7661</th>\n      <td>2</td>\n      <td>2009-06-23 09:00</td>\n      <td>na</td>\n      <td>creatinine</td>\n      <td>34</td>\n      <td>na</td>\n    </tr>\n    <tr>\n      <th>7685</th>\n      <td>2</td>\n      <td>2009-10-05</td>\n      <td>08:09</td>\n      <td>creatinine</td>\n      <td>34</td>\n      <td>&lt;36</td>\n    </tr>\n    <tr>\n      <th>7700</th>\n      <td>2</td>\n      <td>2009-12-01 08:50</td>\n      <td>na</td>\n      <td>creatinine</td>\n      <td>40</td>\n      <td>na</td>\n    </tr>\n  </tbody>\n</table>\n<p>88 rows × 6 columns</p>\n</div>"
     },
     "execution_count": 180,
     "metadata": {},
     "output_type": "execute_result"
    }
   ],
   "source": [
    "df_labs_raw[df_labs_raw['test'] == 'creatinine']"
   ],
   "metadata": {
    "collapsed": false,
    "ExecuteTime": {
     "end_time": "2023-12-07T02:23:30.004672Z",
     "start_time": "2023-12-07T02:23:29.948229Z"
    }
   },
   "id": "ade4de5dd47308e"
  },
  {
   "cell_type": "code",
   "execution_count": 184,
   "outputs": [
    {
     "data": {
      "text/plain": "      id collected date collected time                  test result  ref range\n6486   2     2007-01-10          03:00  creatinine clearance   1.67  1.30-2.40",
      "text/html": "<div>\n<style scoped>\n    .dataframe tbody tr th:only-of-type {\n        vertical-align: middle;\n    }\n\n    .dataframe tbody tr th {\n        vertical-align: top;\n    }\n\n    .dataframe thead th {\n        text-align: right;\n    }\n</style>\n<table border=\"1\" class=\"dataframe\">\n  <thead>\n    <tr style=\"text-align: right;\">\n      <th></th>\n      <th>id</th>\n      <th>collected date</th>\n      <th>collected time</th>\n      <th>test</th>\n      <th>result</th>\n      <th>ref range</th>\n    </tr>\n  </thead>\n  <tbody>\n    <tr>\n      <th>6486</th>\n      <td>2</td>\n      <td>2007-01-10</td>\n      <td>03:00</td>\n      <td>creatinine clearance</td>\n      <td>1.67</td>\n      <td>1.30-2.40</td>\n    </tr>\n  </tbody>\n</table>\n</div>"
     },
     "execution_count": 184,
     "metadata": {},
     "output_type": "execute_result"
    }
   ],
   "source": [
    "df_labs_raw[df_labs_raw['test'] == 'creatinine clearance']"
   ],
   "metadata": {
    "collapsed": false,
    "ExecuteTime": {
     "end_time": "2023-12-07T02:24:40.655464Z",
     "start_time": "2023-12-07T02:24:40.631166Z"
    }
   },
   "id": "eb5c5e7b9d6baaa2"
  },
  {
   "cell_type": "code",
   "execution_count": 191,
   "outputs": [
    {
     "data": {
      "text/plain": "id         2.000000e+00\nresult    3.769764e+147\ndtype: float64"
     },
     "execution_count": 191,
     "metadata": {},
     "output_type": "execute_result"
    }
   ],
   "source": [
    "df_labs_raw[df_labs_raw['test'] == 'albumin']."
   ],
   "metadata": {
    "collapsed": false,
    "ExecuteTime": {
     "end_time": "2023-12-07T02:26:23.654225Z",
     "start_time": "2023-12-07T02:26:23.627607Z"
    }
   },
   "id": "cf9bd33bbbce1ef0"
  },
  {
   "cell_type": "markdown",
   "source": [
    "## Meds"
   ],
   "metadata": {
    "collapsed": false
   },
   "id": "23851550e37bbd0"
  },
  {
   "cell_type": "code",
   "execution_count": 192,
   "outputs": [],
   "source": [
    "df_meds = pd.read_excel('/Users/prakashgupta/radboudUMC-assignment/data/source/data/1-10/Meds 1,2,3,4,6,7,10.xls')"
   ],
   "metadata": {
    "collapsed": false,
    "ExecuteTime": {
     "end_time": "2023-12-07T02:26:48.364683Z",
     "start_time": "2023-12-07T02:26:48.285108Z"
    }
   },
   "id": "1ad0ed051f83b00e"
  },
  {
   "cell_type": "code",
   "execution_count": 193,
   "outputs": [
    {
     "data": {
      "text/plain": "     id        start date      drug name   dose       route schedule  \\\n0     1  2006-03-07 19:17   Pantoprazole    3.5  INJECTABLE  ROUTINE   \n1     1  2006-11-19 18:48      MEROpenem    160         NaN  ROUTINE   \n2     1  2006-11-19 18:48      MEROpenem    160         NaN  ROUTINE   \n3     1  2006-11-19 18:49  Ciprofloxacin     80         NaN  ROUTINE   \n4     1  2006-11-19 18:49  Ciprofloxacin     80         NaN  ROUTINE   \n..   ..               ...            ...    ...         ...      ...   \n400  10  2009-04-16 00:00   PREDNISOLONE    8mg          po       OD   \n401  10  2009-04-23 00:00   PREDNISOLONE    4mg          po       OD   \n402  10  2009-04-23 00:00     TACROLIMUS  0.8mg          po      Q12   \n403  10  2009-04-29 00:00     TACROLIMUS    1mg          po      Q12   \n404  10  2009-04-30 00:00   PREDNISOLONE   4mgf          po      EOD   \n\n    target level      administered         stop date data source  \n0            NaN  2006-03-09 10:00  2006-03-11 03:24        CIMS  \n1            NaN  2006-11-21 12:00  2006-11-24 17:58        CIMS  \n2            NaN  2006-11-26 12:00  2006-11-24 17:58        CIMS  \n3            NaN  2006-11-20 16:00  2006-11-21 17:03        CIMS  \n4            NaN  2006-11-23 16:00  2006-11-21 17:03        CIMS  \n..           ...               ...               ...         ...  \n400          NaN               NaN  2009-04-28 00:00       PAMOT  \n401          NaN               NaN  2009-04-29 00:00       PAMOT  \n402          NaN               NaN  2009-04-29 00:00       PAMOT  \n403          NaN               NaN               NaN       PAMOT  \n404          NaN               NaN  2009-05-06 00:00       PAMOT  \n\n[405 rows x 10 columns]",
      "text/html": "<div>\n<style scoped>\n    .dataframe tbody tr th:only-of-type {\n        vertical-align: middle;\n    }\n\n    .dataframe tbody tr th {\n        vertical-align: top;\n    }\n\n    .dataframe thead th {\n        text-align: right;\n    }\n</style>\n<table border=\"1\" class=\"dataframe\">\n  <thead>\n    <tr style=\"text-align: right;\">\n      <th></th>\n      <th>id</th>\n      <th>start date</th>\n      <th>drug name</th>\n      <th>dose</th>\n      <th>route</th>\n      <th>schedule</th>\n      <th>target level</th>\n      <th>administered</th>\n      <th>stop date</th>\n      <th>data source</th>\n    </tr>\n  </thead>\n  <tbody>\n    <tr>\n      <th>0</th>\n      <td>1</td>\n      <td>2006-03-07 19:17</td>\n      <td>Pantoprazole</td>\n      <td>3.5</td>\n      <td>INJECTABLE</td>\n      <td>ROUTINE</td>\n      <td>NaN</td>\n      <td>2006-03-09 10:00</td>\n      <td>2006-03-11 03:24</td>\n      <td>CIMS</td>\n    </tr>\n    <tr>\n      <th>1</th>\n      <td>1</td>\n      <td>2006-11-19 18:48</td>\n      <td>MEROpenem</td>\n      <td>160</td>\n      <td>NaN</td>\n      <td>ROUTINE</td>\n      <td>NaN</td>\n      <td>2006-11-21 12:00</td>\n      <td>2006-11-24 17:58</td>\n      <td>CIMS</td>\n    </tr>\n    <tr>\n      <th>2</th>\n      <td>1</td>\n      <td>2006-11-19 18:48</td>\n      <td>MEROpenem</td>\n      <td>160</td>\n      <td>NaN</td>\n      <td>ROUTINE</td>\n      <td>NaN</td>\n      <td>2006-11-26 12:00</td>\n      <td>2006-11-24 17:58</td>\n      <td>CIMS</td>\n    </tr>\n    <tr>\n      <th>3</th>\n      <td>1</td>\n      <td>2006-11-19 18:49</td>\n      <td>Ciprofloxacin</td>\n      <td>80</td>\n      <td>NaN</td>\n      <td>ROUTINE</td>\n      <td>NaN</td>\n      <td>2006-11-20 16:00</td>\n      <td>2006-11-21 17:03</td>\n      <td>CIMS</td>\n    </tr>\n    <tr>\n      <th>4</th>\n      <td>1</td>\n      <td>2006-11-19 18:49</td>\n      <td>Ciprofloxacin</td>\n      <td>80</td>\n      <td>NaN</td>\n      <td>ROUTINE</td>\n      <td>NaN</td>\n      <td>2006-11-23 16:00</td>\n      <td>2006-11-21 17:03</td>\n      <td>CIMS</td>\n    </tr>\n    <tr>\n      <th>...</th>\n      <td>...</td>\n      <td>...</td>\n      <td>...</td>\n      <td>...</td>\n      <td>...</td>\n      <td>...</td>\n      <td>...</td>\n      <td>...</td>\n      <td>...</td>\n      <td>...</td>\n    </tr>\n    <tr>\n      <th>400</th>\n      <td>10</td>\n      <td>2009-04-16 00:00</td>\n      <td>PREDNISOLONE</td>\n      <td>8mg</td>\n      <td>po</td>\n      <td>OD</td>\n      <td>NaN</td>\n      <td>NaN</td>\n      <td>2009-04-28 00:00</td>\n      <td>PAMOT</td>\n    </tr>\n    <tr>\n      <th>401</th>\n      <td>10</td>\n      <td>2009-04-23 00:00</td>\n      <td>PREDNISOLONE</td>\n      <td>4mg</td>\n      <td>po</td>\n      <td>OD</td>\n      <td>NaN</td>\n      <td>NaN</td>\n      <td>2009-04-29 00:00</td>\n      <td>PAMOT</td>\n    </tr>\n    <tr>\n      <th>402</th>\n      <td>10</td>\n      <td>2009-04-23 00:00</td>\n      <td>TACROLIMUS</td>\n      <td>0.8mg</td>\n      <td>po</td>\n      <td>Q12</td>\n      <td>NaN</td>\n      <td>NaN</td>\n      <td>2009-04-29 00:00</td>\n      <td>PAMOT</td>\n    </tr>\n    <tr>\n      <th>403</th>\n      <td>10</td>\n      <td>2009-04-29 00:00</td>\n      <td>TACROLIMUS</td>\n      <td>1mg</td>\n      <td>po</td>\n      <td>Q12</td>\n      <td>NaN</td>\n      <td>NaN</td>\n      <td>NaN</td>\n      <td>PAMOT</td>\n    </tr>\n    <tr>\n      <th>404</th>\n      <td>10</td>\n      <td>2009-04-30 00:00</td>\n      <td>PREDNISOLONE</td>\n      <td>4mgf</td>\n      <td>po</td>\n      <td>EOD</td>\n      <td>NaN</td>\n      <td>NaN</td>\n      <td>2009-05-06 00:00</td>\n      <td>PAMOT</td>\n    </tr>\n  </tbody>\n</table>\n<p>405 rows × 10 columns</p>\n</div>"
     },
     "execution_count": 193,
     "metadata": {},
     "output_type": "execute_result"
    }
   ],
   "source": [
    "df_meds"
   ],
   "metadata": {
    "collapsed": false,
    "ExecuteTime": {
     "end_time": "2023-12-07T02:26:50.431944Z",
     "start_time": "2023-12-07T02:26:50.334602Z"
    }
   },
   "id": "1fc919bf485c054a"
  },
  {
   "cell_type": "code",
   "execution_count": 194,
   "outputs": [],
   "source": [
    "df_meds = df_meds[df_meds['id'] == 2]"
   ],
   "metadata": {
    "collapsed": false,
    "ExecuteTime": {
     "end_time": "2023-12-07T02:27:14.606838Z",
     "start_time": "2023-12-07T02:27:14.522759Z"
    }
   },
   "id": "e59188cee68e8280"
  },
  {
   "cell_type": "code",
   "execution_count": 195,
   "outputs": [
    {
     "data": {
      "text/plain": "    id        start date            drug name          dose route  schedule  \\\n20   2  2007-01-24 00:00                  ASA          40mg    po        OD   \n21   2  2007-01-24 00:00        COTRIMOXAZOLE          40mg    po      QMWF   \n22   2  2007-01-24 00:00              CYTOGAM        1500mg    po  Q 2WEEKS   \n23   2  2007-01-24 00:00          GANCICLOVIR          50mg    iv       Q24   \n24   2  2007-01-24 00:00  MAGNESIUM HYDROXIDE          90mg    po       BID   \n25   2  2007-01-24 00:00             NYSTATIN  100,000units    po       QID   \n26   2  2007-01-24 00:00         PREDNISOLONE           2mg    po        OD   \n27   2  2007-01-24 00:00           RANITIDINE          30mg    po       BID   \n28   2  2007-01-24 00:00           TACROLIMUS         2.4mg    po       Q12   \n29   2  2007-01-26 00:00           TACROLIMUS         2.7mg    po       Q12   \n30   2  2007-01-29 00:00           TACROLIMUS         2.9mg    po       Q12   \n31   2  2007-02-05 00:00           TACROLIMUS         3.1mg    po       Q12   \n32   2  2007-02-10 00:00         PREDNISOLONE           1mg    po        OD   \n33   2  2007-02-21 00:00  MAGNESIUM HYDROXIDE         132mg    po       TID   \n34   2  2007-02-21 00:00           TACROLIMUS         3.3mg    po       BID   \n35   2  2007-02-28 00:00         PREDNISOLONE         0.5mg    po        OD   \n36   2  2007-03-01 00:00           TACROLIMUS         3.1mg    po       BID   \n37   2  2007-03-05 00:00           TACROLIMUS         3.2mg    po       BID   \n38   2  2007-03-26 00:00  MAGNESIUM HYDROXIDE         132mg    po       BID   \n39   2  2007-03-26 00:00         PREDNISOLONE         0.5mg    po       EOD   \n40   2  2007-03-26 00:00           TACROLIMUS         3.1mg    po       BID   \n41   2  2007-04-23 00:00           TACROLIMUS         2.8mg    po       BID   \n42   2  2007-06-21 00:00           TACROLIMUS         2.5mg    po       BID   \n43   2  2007-07-12 00:00           TACROLIMUS         2.2mg    po       BID   \n44   2  2007-08-02 00:00           TACROLIMUS        2.1 mg    po       Q12   \n45   2  2007-08-21 00:00           TACROLIMUS         1.9mg    po       Q12   \n46   2  2007-09-27 00:00           TACROLIMUS         1.7mg    po       BID   \n47   2  2007-10-11 00:00           TACROLIMUS         1.5mg    po       BID   \n48   2  2007-11-13 00:00            ACYCLOVIR         260mg    po       QID   \n49   2  2008-01-09 00:00           TACROLIMUS           1mg    po       BID   \n50   2  2008-02-21 00:00            ACYCLOVIR         140mg    po       BID   \n51   2  2008-04-02 00:00            ACYCLOVIR         110mg    po       BID   \n52   2  2008-05-10 00:00             CLOBAZAM        2.5 mg    po       TID   \n53   2  2008-07-29 00:00                 IRON      20mg ele    po       BID   \n54   2  2009-04-01 00:00            ACYCLOVIR         110mg    po        OD   \n55   2  2009-10-05 00:00            ACYCLOVIR         200mg    po        OD   \n56   2  2009-10-30 00:00          OSELTAMIVIR          45mg    po       BID   \n\n   target level administered         stop date data source  \n20          NaN          NaN  2008-01-09 00:00       PAMOT  \n21          NaN          NaN  2008-01-09 00:00       PAMOT  \n22          NaN          NaN  2007-05-03 00:00       PAMOT  \n23          NaN          NaN  2007-03-27 00:00       PAMOT  \n24          NaN          NaN  2007-02-28 00:00       PAMOT  \n25          NaN          NaN  2007-04-04 00:00       PAMOT  \n26          NaN          NaN  2007-02-28 00:00       PAMOT  \n27          NaN          NaN  2007-04-04 00:00       PAMOT  \n28          NaN          NaN  2007-01-25 00:00       PAMOT  \n29          NaN          NaN  2007-01-29 00:00       PAMOT  \n30          NaN          NaN  2007-02-05 00:00       PAMOT  \n31        10-12          NaN  2007-02-21 00:00       PAMOT  \n32          NaN          NaN  2007-02-28 00:00       PAMOT  \n33          NaN          NaN  2007-03-26 00:00       PAMOT  \n34        10-12          NaN  2007-03-01 00:00       PAMOT  \n35          NaN          NaN  2007-03-26 00:00       PAMOT  \n36        10-12          NaN  2007-03-05 00:00       PAMOT  \n37        10-12          NaN  2007-03-26 00:00       PAMOT  \n38          NaN          NaN  2007-06-20 00:00       PAMOT  \n39          NaN          NaN  2007-04-04 00:00       PAMOT  \n40        10-12          NaN  2007-04-23 00:00       PAMOT  \n41        10-12          NaN  2007-06-21 00:00       PAMOT  \n42          NaN          NaN  2007-07-12 00:00       PAMOT  \n43          NaN          NaN  2007-08-02 00:00       PAMOT  \n44         8-10          NaN  2007-08-21 00:00       PAMOT  \n45          6-8          NaN  2007-09-27 00:00       PAMOT  \n46          6-8          NaN  2007-10-11 00:00       PAMOT  \n47          NaN          NaN  2008-01-09 00:00       PAMOT  \n48          NaN          NaN  2007-12-01 00:00       PAMOT  \n49          NaN          NaN               NaN       PAMOT  \n50          NaN          NaN  2008-03-01 00:00       PAMOT  \n51          NaN          NaN  2009-01-30 00:00       PAMOT  \n52          NaN          NaN  2010-02-26 00:00       PAMOT  \n53          NaN          NaN  2008-09-01 00:00       PAMOT  \n54          NaN          NaN  2009-06-16 00:00       PAMOT  \n55          NaN          NaN               NaN       PAMOT  \n56          NaN          NaN  2009-11-03 00:00       PAMOT  ",
      "text/html": "<div>\n<style scoped>\n    .dataframe tbody tr th:only-of-type {\n        vertical-align: middle;\n    }\n\n    .dataframe tbody tr th {\n        vertical-align: top;\n    }\n\n    .dataframe thead th {\n        text-align: right;\n    }\n</style>\n<table border=\"1\" class=\"dataframe\">\n  <thead>\n    <tr style=\"text-align: right;\">\n      <th></th>\n      <th>id</th>\n      <th>start date</th>\n      <th>drug name</th>\n      <th>dose</th>\n      <th>route</th>\n      <th>schedule</th>\n      <th>target level</th>\n      <th>administered</th>\n      <th>stop date</th>\n      <th>data source</th>\n    </tr>\n  </thead>\n  <tbody>\n    <tr>\n      <th>20</th>\n      <td>2</td>\n      <td>2007-01-24 00:00</td>\n      <td>ASA</td>\n      <td>40mg</td>\n      <td>po</td>\n      <td>OD</td>\n      <td>NaN</td>\n      <td>NaN</td>\n      <td>2008-01-09 00:00</td>\n      <td>PAMOT</td>\n    </tr>\n    <tr>\n      <th>21</th>\n      <td>2</td>\n      <td>2007-01-24 00:00</td>\n      <td>COTRIMOXAZOLE</td>\n      <td>40mg</td>\n      <td>po</td>\n      <td>QMWF</td>\n      <td>NaN</td>\n      <td>NaN</td>\n      <td>2008-01-09 00:00</td>\n      <td>PAMOT</td>\n    </tr>\n    <tr>\n      <th>22</th>\n      <td>2</td>\n      <td>2007-01-24 00:00</td>\n      <td>CYTOGAM</td>\n      <td>1500mg</td>\n      <td>po</td>\n      <td>Q 2WEEKS</td>\n      <td>NaN</td>\n      <td>NaN</td>\n      <td>2007-05-03 00:00</td>\n      <td>PAMOT</td>\n    </tr>\n    <tr>\n      <th>23</th>\n      <td>2</td>\n      <td>2007-01-24 00:00</td>\n      <td>GANCICLOVIR</td>\n      <td>50mg</td>\n      <td>iv</td>\n      <td>Q24</td>\n      <td>NaN</td>\n      <td>NaN</td>\n      <td>2007-03-27 00:00</td>\n      <td>PAMOT</td>\n    </tr>\n    <tr>\n      <th>24</th>\n      <td>2</td>\n      <td>2007-01-24 00:00</td>\n      <td>MAGNESIUM HYDROXIDE</td>\n      <td>90mg</td>\n      <td>po</td>\n      <td>BID</td>\n      <td>NaN</td>\n      <td>NaN</td>\n      <td>2007-02-28 00:00</td>\n      <td>PAMOT</td>\n    </tr>\n    <tr>\n      <th>25</th>\n      <td>2</td>\n      <td>2007-01-24 00:00</td>\n      <td>NYSTATIN</td>\n      <td>100,000units</td>\n      <td>po</td>\n      <td>QID</td>\n      <td>NaN</td>\n      <td>NaN</td>\n      <td>2007-04-04 00:00</td>\n      <td>PAMOT</td>\n    </tr>\n    <tr>\n      <th>26</th>\n      <td>2</td>\n      <td>2007-01-24 00:00</td>\n      <td>PREDNISOLONE</td>\n      <td>2mg</td>\n      <td>po</td>\n      <td>OD</td>\n      <td>NaN</td>\n      <td>NaN</td>\n      <td>2007-02-28 00:00</td>\n      <td>PAMOT</td>\n    </tr>\n    <tr>\n      <th>27</th>\n      <td>2</td>\n      <td>2007-01-24 00:00</td>\n      <td>RANITIDINE</td>\n      <td>30mg</td>\n      <td>po</td>\n      <td>BID</td>\n      <td>NaN</td>\n      <td>NaN</td>\n      <td>2007-04-04 00:00</td>\n      <td>PAMOT</td>\n    </tr>\n    <tr>\n      <th>28</th>\n      <td>2</td>\n      <td>2007-01-24 00:00</td>\n      <td>TACROLIMUS</td>\n      <td>2.4mg</td>\n      <td>po</td>\n      <td>Q12</td>\n      <td>NaN</td>\n      <td>NaN</td>\n      <td>2007-01-25 00:00</td>\n      <td>PAMOT</td>\n    </tr>\n    <tr>\n      <th>29</th>\n      <td>2</td>\n      <td>2007-01-26 00:00</td>\n      <td>TACROLIMUS</td>\n      <td>2.7mg</td>\n      <td>po</td>\n      <td>Q12</td>\n      <td>NaN</td>\n      <td>NaN</td>\n      <td>2007-01-29 00:00</td>\n      <td>PAMOT</td>\n    </tr>\n    <tr>\n      <th>30</th>\n      <td>2</td>\n      <td>2007-01-29 00:00</td>\n      <td>TACROLIMUS</td>\n      <td>2.9mg</td>\n      <td>po</td>\n      <td>Q12</td>\n      <td>NaN</td>\n      <td>NaN</td>\n      <td>2007-02-05 00:00</td>\n      <td>PAMOT</td>\n    </tr>\n    <tr>\n      <th>31</th>\n      <td>2</td>\n      <td>2007-02-05 00:00</td>\n      <td>TACROLIMUS</td>\n      <td>3.1mg</td>\n      <td>po</td>\n      <td>Q12</td>\n      <td>10-12</td>\n      <td>NaN</td>\n      <td>2007-02-21 00:00</td>\n      <td>PAMOT</td>\n    </tr>\n    <tr>\n      <th>32</th>\n      <td>2</td>\n      <td>2007-02-10 00:00</td>\n      <td>PREDNISOLONE</td>\n      <td>1mg</td>\n      <td>po</td>\n      <td>OD</td>\n      <td>NaN</td>\n      <td>NaN</td>\n      <td>2007-02-28 00:00</td>\n      <td>PAMOT</td>\n    </tr>\n    <tr>\n      <th>33</th>\n      <td>2</td>\n      <td>2007-02-21 00:00</td>\n      <td>MAGNESIUM HYDROXIDE</td>\n      <td>132mg</td>\n      <td>po</td>\n      <td>TID</td>\n      <td>NaN</td>\n      <td>NaN</td>\n      <td>2007-03-26 00:00</td>\n      <td>PAMOT</td>\n    </tr>\n    <tr>\n      <th>34</th>\n      <td>2</td>\n      <td>2007-02-21 00:00</td>\n      <td>TACROLIMUS</td>\n      <td>3.3mg</td>\n      <td>po</td>\n      <td>BID</td>\n      <td>10-12</td>\n      <td>NaN</td>\n      <td>2007-03-01 00:00</td>\n      <td>PAMOT</td>\n    </tr>\n    <tr>\n      <th>35</th>\n      <td>2</td>\n      <td>2007-02-28 00:00</td>\n      <td>PREDNISOLONE</td>\n      <td>0.5mg</td>\n      <td>po</td>\n      <td>OD</td>\n      <td>NaN</td>\n      <td>NaN</td>\n      <td>2007-03-26 00:00</td>\n      <td>PAMOT</td>\n    </tr>\n    <tr>\n      <th>36</th>\n      <td>2</td>\n      <td>2007-03-01 00:00</td>\n      <td>TACROLIMUS</td>\n      <td>3.1mg</td>\n      <td>po</td>\n      <td>BID</td>\n      <td>10-12</td>\n      <td>NaN</td>\n      <td>2007-03-05 00:00</td>\n      <td>PAMOT</td>\n    </tr>\n    <tr>\n      <th>37</th>\n      <td>2</td>\n      <td>2007-03-05 00:00</td>\n      <td>TACROLIMUS</td>\n      <td>3.2mg</td>\n      <td>po</td>\n      <td>BID</td>\n      <td>10-12</td>\n      <td>NaN</td>\n      <td>2007-03-26 00:00</td>\n      <td>PAMOT</td>\n    </tr>\n    <tr>\n      <th>38</th>\n      <td>2</td>\n      <td>2007-03-26 00:00</td>\n      <td>MAGNESIUM HYDROXIDE</td>\n      <td>132mg</td>\n      <td>po</td>\n      <td>BID</td>\n      <td>NaN</td>\n      <td>NaN</td>\n      <td>2007-06-20 00:00</td>\n      <td>PAMOT</td>\n    </tr>\n    <tr>\n      <th>39</th>\n      <td>2</td>\n      <td>2007-03-26 00:00</td>\n      <td>PREDNISOLONE</td>\n      <td>0.5mg</td>\n      <td>po</td>\n      <td>EOD</td>\n      <td>NaN</td>\n      <td>NaN</td>\n      <td>2007-04-04 00:00</td>\n      <td>PAMOT</td>\n    </tr>\n    <tr>\n      <th>40</th>\n      <td>2</td>\n      <td>2007-03-26 00:00</td>\n      <td>TACROLIMUS</td>\n      <td>3.1mg</td>\n      <td>po</td>\n      <td>BID</td>\n      <td>10-12</td>\n      <td>NaN</td>\n      <td>2007-04-23 00:00</td>\n      <td>PAMOT</td>\n    </tr>\n    <tr>\n      <th>41</th>\n      <td>2</td>\n      <td>2007-04-23 00:00</td>\n      <td>TACROLIMUS</td>\n      <td>2.8mg</td>\n      <td>po</td>\n      <td>BID</td>\n      <td>10-12</td>\n      <td>NaN</td>\n      <td>2007-06-21 00:00</td>\n      <td>PAMOT</td>\n    </tr>\n    <tr>\n      <th>42</th>\n      <td>2</td>\n      <td>2007-06-21 00:00</td>\n      <td>TACROLIMUS</td>\n      <td>2.5mg</td>\n      <td>po</td>\n      <td>BID</td>\n      <td>NaN</td>\n      <td>NaN</td>\n      <td>2007-07-12 00:00</td>\n      <td>PAMOT</td>\n    </tr>\n    <tr>\n      <th>43</th>\n      <td>2</td>\n      <td>2007-07-12 00:00</td>\n      <td>TACROLIMUS</td>\n      <td>2.2mg</td>\n      <td>po</td>\n      <td>BID</td>\n      <td>NaN</td>\n      <td>NaN</td>\n      <td>2007-08-02 00:00</td>\n      <td>PAMOT</td>\n    </tr>\n    <tr>\n      <th>44</th>\n      <td>2</td>\n      <td>2007-08-02 00:00</td>\n      <td>TACROLIMUS</td>\n      <td>2.1 mg</td>\n      <td>po</td>\n      <td>Q12</td>\n      <td>8-10</td>\n      <td>NaN</td>\n      <td>2007-08-21 00:00</td>\n      <td>PAMOT</td>\n    </tr>\n    <tr>\n      <th>45</th>\n      <td>2</td>\n      <td>2007-08-21 00:00</td>\n      <td>TACROLIMUS</td>\n      <td>1.9mg</td>\n      <td>po</td>\n      <td>Q12</td>\n      <td>6-8</td>\n      <td>NaN</td>\n      <td>2007-09-27 00:00</td>\n      <td>PAMOT</td>\n    </tr>\n    <tr>\n      <th>46</th>\n      <td>2</td>\n      <td>2007-09-27 00:00</td>\n      <td>TACROLIMUS</td>\n      <td>1.7mg</td>\n      <td>po</td>\n      <td>BID</td>\n      <td>6-8</td>\n      <td>NaN</td>\n      <td>2007-10-11 00:00</td>\n      <td>PAMOT</td>\n    </tr>\n    <tr>\n      <th>47</th>\n      <td>2</td>\n      <td>2007-10-11 00:00</td>\n      <td>TACROLIMUS</td>\n      <td>1.5mg</td>\n      <td>po</td>\n      <td>BID</td>\n      <td>NaN</td>\n      <td>NaN</td>\n      <td>2008-01-09 00:00</td>\n      <td>PAMOT</td>\n    </tr>\n    <tr>\n      <th>48</th>\n      <td>2</td>\n      <td>2007-11-13 00:00</td>\n      <td>ACYCLOVIR</td>\n      <td>260mg</td>\n      <td>po</td>\n      <td>QID</td>\n      <td>NaN</td>\n      <td>NaN</td>\n      <td>2007-12-01 00:00</td>\n      <td>PAMOT</td>\n    </tr>\n    <tr>\n      <th>49</th>\n      <td>2</td>\n      <td>2008-01-09 00:00</td>\n      <td>TACROLIMUS</td>\n      <td>1mg</td>\n      <td>po</td>\n      <td>BID</td>\n      <td>NaN</td>\n      <td>NaN</td>\n      <td>NaN</td>\n      <td>PAMOT</td>\n    </tr>\n    <tr>\n      <th>50</th>\n      <td>2</td>\n      <td>2008-02-21 00:00</td>\n      <td>ACYCLOVIR</td>\n      <td>140mg</td>\n      <td>po</td>\n      <td>BID</td>\n      <td>NaN</td>\n      <td>NaN</td>\n      <td>2008-03-01 00:00</td>\n      <td>PAMOT</td>\n    </tr>\n    <tr>\n      <th>51</th>\n      <td>2</td>\n      <td>2008-04-02 00:00</td>\n      <td>ACYCLOVIR</td>\n      <td>110mg</td>\n      <td>po</td>\n      <td>BID</td>\n      <td>NaN</td>\n      <td>NaN</td>\n      <td>2009-01-30 00:00</td>\n      <td>PAMOT</td>\n    </tr>\n    <tr>\n      <th>52</th>\n      <td>2</td>\n      <td>2008-05-10 00:00</td>\n      <td>CLOBAZAM</td>\n      <td>2.5 mg</td>\n      <td>po</td>\n      <td>TID</td>\n      <td>NaN</td>\n      <td>NaN</td>\n      <td>2010-02-26 00:00</td>\n      <td>PAMOT</td>\n    </tr>\n    <tr>\n      <th>53</th>\n      <td>2</td>\n      <td>2008-07-29 00:00</td>\n      <td>IRON</td>\n      <td>20mg ele</td>\n      <td>po</td>\n      <td>BID</td>\n      <td>NaN</td>\n      <td>NaN</td>\n      <td>2008-09-01 00:00</td>\n      <td>PAMOT</td>\n    </tr>\n    <tr>\n      <th>54</th>\n      <td>2</td>\n      <td>2009-04-01 00:00</td>\n      <td>ACYCLOVIR</td>\n      <td>110mg</td>\n      <td>po</td>\n      <td>OD</td>\n      <td>NaN</td>\n      <td>NaN</td>\n      <td>2009-06-16 00:00</td>\n      <td>PAMOT</td>\n    </tr>\n    <tr>\n      <th>55</th>\n      <td>2</td>\n      <td>2009-10-05 00:00</td>\n      <td>ACYCLOVIR</td>\n      <td>200mg</td>\n      <td>po</td>\n      <td>OD</td>\n      <td>NaN</td>\n      <td>NaN</td>\n      <td>NaN</td>\n      <td>PAMOT</td>\n    </tr>\n    <tr>\n      <th>56</th>\n      <td>2</td>\n      <td>2009-10-30 00:00</td>\n      <td>OSELTAMIVIR</td>\n      <td>45mg</td>\n      <td>po</td>\n      <td>BID</td>\n      <td>NaN</td>\n      <td>NaN</td>\n      <td>2009-11-03 00:00</td>\n      <td>PAMOT</td>\n    </tr>\n  </tbody>\n</table>\n</div>"
     },
     "execution_count": 195,
     "metadata": {},
     "output_type": "execute_result"
    }
   ],
   "source": [
    "df_meds"
   ],
   "metadata": {
    "collapsed": false,
    "ExecuteTime": {
     "end_time": "2023-12-07T02:27:16.482182Z",
     "start_time": "2023-12-07T02:27:16.399239Z"
    }
   },
   "id": "113b56fc9609e708"
  },
  {
   "cell_type": "markdown",
   "source": [
    "## mgfr"
   ],
   "metadata": {
    "collapsed": false
   },
   "id": "2ecbb8c1ad650972"
  },
  {
   "cell_type": "code",
   "execution_count": 200,
   "outputs": [],
   "source": [
    "df_mgfr = pd.read_excel('/Users/prakashgupta/radboudUMC-assignment/data/source/data/1-10/mGFR & MRI 2.xls')"
   ],
   "metadata": {
    "collapsed": false,
    "ExecuteTime": {
     "end_time": "2023-12-07T02:29:25.518015Z",
     "start_time": "2023-12-07T02:29:25.476456Z"
    }
   },
   "id": "cde3f3c7157e1247"
  },
  {
   "cell_type": "code",
   "execution_count": 202,
   "outputs": [
    {
     "data": {
      "text/plain": "0                                               RESULT\n1                                       [empty string]\n2    READ The pattern of extraction and excretion o...\n3    READ Both kidneys shows decreased uptake follo...\nName: Unnamed: 5, dtype: object"
     },
     "execution_count": 202,
     "metadata": {},
     "output_type": "execute_result"
    }
   ],
   "source": [
    "df_mgfr['Unnamed: 5']"
   ],
   "metadata": {
    "collapsed": false,
    "ExecuteTime": {
     "end_time": "2023-12-07T02:29:52.942068Z",
     "start_time": "2023-12-07T02:29:52.885039Z"
    }
   },
   "id": "e79f81a34940f73d"
  },
  {
   "cell_type": "markdown",
   "source": [
    "## serology "
   ],
   "metadata": {
    "collapsed": false
   },
   "id": "8e522874af37a05e"
  },
  {
   "cell_type": "code",
   "execution_count": 203,
   "outputs": [],
   "source": [
    "df_serology = pd.read_excel('/Users/prakashgupta/radboudUMC-assignment/data/source/data/1-10/Serology 1,2,3,4,6,7,10.xls')"
   ],
   "metadata": {
    "collapsed": false,
    "ExecuteTime": {
     "end_time": "2023-12-07T02:30:48.618966Z",
     "start_time": "2023-12-07T02:30:48.527282Z"
    }
   },
   "id": "2651c4aca3bea705"
  },
  {
   "cell_type": "code",
   "execution_count": 204,
   "outputs": [
    {
     "data": {
      "text/plain": "     id datecollected                          test  result  \\\n0     1    2006-12-10                CMV IgM BY EIA   NEGCN   \n1     1    2006-12-10                CMV IgM BY EIA   NEGCN   \n2     1    2006-12-10  SEMIQUANTITATIVE CMV IgG EIA  LPOSCQ   \n3     1    2007-01-04                CMV IgM BY EIA   NEGCN   \n4     1    2007-01-04                CMV IgM BY EIA   NEGCN   \n..   ..           ...                           ...     ...   \n118   6    2007-06-13                VZV IgG BY EIA   POSVG   \n119  10    2007-04-03             EBV EA IgG BY EIA   NEGEA   \n120  10    2007-04-03           EBV EBNA IgG BY EIA   NEGEB   \n121  10    2007-04-03            EBV VCA IgG BY EIA   NEGEV   \n122  10    2007-04-03  SEMIQUANTITATIVE CMV IgG EIA  MPOSCQ   \n\n                                                  text message num  \\\n0    Negative for IgM antibody to cytomegalovirus b...          1C   \n1                                         PHL s1382288          2T   \n2    Low positive for IgG antibody to cytomegalovir...          1C   \n3    Negative for IgM antibody to cytomegalovirus b...          1C   \n4                                         PHL s1386837          2T   \n..                                                 ...         ...   \n118  Positive for IgG antibody to varicella zoster ...          1C   \n119  Negative for IgG antibody to Epstein-Barr viru...          1C   \n120  Negative for IgG antibody to Epstein-Barr viru...          1C   \n121  Negative for IgG antibody to Epstein-Barr viru...          1C   \n122  Moderately positive for IgG antibody to cytome...          1C   \n\n     relavent diag  \n0              NaN  \n1              NaN  \n2              NaN  \n3              NaN  \n4              NaN  \n..             ...  \n118            NaN  \n119            NaN  \n120            NaN  \n121            NaN  \n122            NaN  \n\n[123 rows x 7 columns]",
      "text/html": "<div>\n<style scoped>\n    .dataframe tbody tr th:only-of-type {\n        vertical-align: middle;\n    }\n\n    .dataframe tbody tr th {\n        vertical-align: top;\n    }\n\n    .dataframe thead th {\n        text-align: right;\n    }\n</style>\n<table border=\"1\" class=\"dataframe\">\n  <thead>\n    <tr style=\"text-align: right;\">\n      <th></th>\n      <th>id</th>\n      <th>datecollected</th>\n      <th>test</th>\n      <th>result</th>\n      <th>text</th>\n      <th>message num</th>\n      <th>relavent diag</th>\n    </tr>\n  </thead>\n  <tbody>\n    <tr>\n      <th>0</th>\n      <td>1</td>\n      <td>2006-12-10</td>\n      <td>CMV IgM BY EIA</td>\n      <td>NEGCN</td>\n      <td>Negative for IgM antibody to cytomegalovirus b...</td>\n      <td>1C</td>\n      <td>NaN</td>\n    </tr>\n    <tr>\n      <th>1</th>\n      <td>1</td>\n      <td>2006-12-10</td>\n      <td>CMV IgM BY EIA</td>\n      <td>NEGCN</td>\n      <td>PHL s1382288</td>\n      <td>2T</td>\n      <td>NaN</td>\n    </tr>\n    <tr>\n      <th>2</th>\n      <td>1</td>\n      <td>2006-12-10</td>\n      <td>SEMIQUANTITATIVE CMV IgG EIA</td>\n      <td>LPOSCQ</td>\n      <td>Low positive for IgG antibody to cytomegalovir...</td>\n      <td>1C</td>\n      <td>NaN</td>\n    </tr>\n    <tr>\n      <th>3</th>\n      <td>1</td>\n      <td>2007-01-04</td>\n      <td>CMV IgM BY EIA</td>\n      <td>NEGCN</td>\n      <td>Negative for IgM antibody to cytomegalovirus b...</td>\n      <td>1C</td>\n      <td>NaN</td>\n    </tr>\n    <tr>\n      <th>4</th>\n      <td>1</td>\n      <td>2007-01-04</td>\n      <td>CMV IgM BY EIA</td>\n      <td>NEGCN</td>\n      <td>PHL s1386837</td>\n      <td>2T</td>\n      <td>NaN</td>\n    </tr>\n    <tr>\n      <th>...</th>\n      <td>...</td>\n      <td>...</td>\n      <td>...</td>\n      <td>...</td>\n      <td>...</td>\n      <td>...</td>\n      <td>...</td>\n    </tr>\n    <tr>\n      <th>118</th>\n      <td>6</td>\n      <td>2007-06-13</td>\n      <td>VZV IgG BY EIA</td>\n      <td>POSVG</td>\n      <td>Positive for IgG antibody to varicella zoster ...</td>\n      <td>1C</td>\n      <td>NaN</td>\n    </tr>\n    <tr>\n      <th>119</th>\n      <td>10</td>\n      <td>2007-04-03</td>\n      <td>EBV EA IgG BY EIA</td>\n      <td>NEGEA</td>\n      <td>Negative for IgG antibody to Epstein-Barr viru...</td>\n      <td>1C</td>\n      <td>NaN</td>\n    </tr>\n    <tr>\n      <th>120</th>\n      <td>10</td>\n      <td>2007-04-03</td>\n      <td>EBV EBNA IgG BY EIA</td>\n      <td>NEGEB</td>\n      <td>Negative for IgG antibody to Epstein-Barr viru...</td>\n      <td>1C</td>\n      <td>NaN</td>\n    </tr>\n    <tr>\n      <th>121</th>\n      <td>10</td>\n      <td>2007-04-03</td>\n      <td>EBV VCA IgG BY EIA</td>\n      <td>NEGEV</td>\n      <td>Negative for IgG antibody to Epstein-Barr viru...</td>\n      <td>1C</td>\n      <td>NaN</td>\n    </tr>\n    <tr>\n      <th>122</th>\n      <td>10</td>\n      <td>2007-04-03</td>\n      <td>SEMIQUANTITATIVE CMV IgG EIA</td>\n      <td>MPOSCQ</td>\n      <td>Moderately positive for IgG antibody to cytome...</td>\n      <td>1C</td>\n      <td>NaN</td>\n    </tr>\n  </tbody>\n</table>\n<p>123 rows × 7 columns</p>\n</div>"
     },
     "execution_count": 204,
     "metadata": {},
     "output_type": "execute_result"
    }
   ],
   "source": [
    "df_serology"
   ],
   "metadata": {
    "collapsed": false,
    "ExecuteTime": {
     "end_time": "2023-12-07T02:30:50.772605Z",
     "start_time": "2023-12-07T02:30:50.695968Z"
    }
   },
   "id": "dfb06e4a8865a983"
  },
  {
   "cell_type": "markdown",
   "source": [
    "## Tacro"
   ],
   "metadata": {
    "collapsed": false
   },
   "id": "36498097aa9b9b34"
  },
  {
   "cell_type": "code",
   "execution_count": 210,
   "outputs": [],
   "source": [
    "df_tacro = pd.read_excel('/Users/prakashgupta/radboudUMC-assignment/data/source/data/1-10/Tacro 1,2,3,4,6,7,10.xls')"
   ],
   "metadata": {
    "collapsed": false,
    "ExecuteTime": {
     "end_time": "2023-12-07T02:32:33.912791Z",
     "start_time": "2023-12-07T02:32:33.859370Z"
    }
   },
   "id": "b6cb3438b9e4bbe9"
  },
  {
   "cell_type": "code",
   "execution_count": 211,
   "outputs": [],
   "source": [
    "df_tacro = df_tacro[df_tacro['id'] == 2]"
   ],
   "metadata": {
    "collapsed": false,
    "ExecuteTime": {
     "end_time": "2023-12-07T02:32:39.430923Z",
     "start_time": "2023-12-07T02:32:39.370714Z"
    }
   },
   "id": "d2d16ea87e59c1cf"
  },
  {
   "cell_type": "code",
   "execution_count": 212,
   "outputs": [
    {
     "data": {
      "text/plain": "     id collected date collected time result ref range\n202   2     2007-01-11          06:00    1.2  5.0-15.0\n203   2     2007-01-11          08:30   <1.0  5.0-15.0\n204   2     2007-01-12          09:05    4.8  5.0-15.0\n205   2     2007-01-12          10:25    6.9  5.0-15.0\n206   2     2007-01-13          08:00   10.6  5.0-15.0\n..   ..            ...            ...    ...       ...\n275   2     2009-04-08          09:14    4.9  5.0-15.0\n276   2     2009-06-16          09:02    7.9  5.0-15.0\n277   2     2009-06-23          09:00    2.6  5.0-15.0\n278   2     2009-10-05          08:09    3.3  5.0-15.0\n279   2     2009-12-01          08:50    5.4  5.0-15.0\n\n[78 rows x 5 columns]",
      "text/html": "<div>\n<style scoped>\n    .dataframe tbody tr th:only-of-type {\n        vertical-align: middle;\n    }\n\n    .dataframe tbody tr th {\n        vertical-align: top;\n    }\n\n    .dataframe thead th {\n        text-align: right;\n    }\n</style>\n<table border=\"1\" class=\"dataframe\">\n  <thead>\n    <tr style=\"text-align: right;\">\n      <th></th>\n      <th>id</th>\n      <th>collected date</th>\n      <th>collected time</th>\n      <th>result</th>\n      <th>ref range</th>\n    </tr>\n  </thead>\n  <tbody>\n    <tr>\n      <th>202</th>\n      <td>2</td>\n      <td>2007-01-11</td>\n      <td>06:00</td>\n      <td>1.2</td>\n      <td>5.0-15.0</td>\n    </tr>\n    <tr>\n      <th>203</th>\n      <td>2</td>\n      <td>2007-01-11</td>\n      <td>08:30</td>\n      <td>&lt;1.0</td>\n      <td>5.0-15.0</td>\n    </tr>\n    <tr>\n      <th>204</th>\n      <td>2</td>\n      <td>2007-01-12</td>\n      <td>09:05</td>\n      <td>4.8</td>\n      <td>5.0-15.0</td>\n    </tr>\n    <tr>\n      <th>205</th>\n      <td>2</td>\n      <td>2007-01-12</td>\n      <td>10:25</td>\n      <td>6.9</td>\n      <td>5.0-15.0</td>\n    </tr>\n    <tr>\n      <th>206</th>\n      <td>2</td>\n      <td>2007-01-13</td>\n      <td>08:00</td>\n      <td>10.6</td>\n      <td>5.0-15.0</td>\n    </tr>\n    <tr>\n      <th>...</th>\n      <td>...</td>\n      <td>...</td>\n      <td>...</td>\n      <td>...</td>\n      <td>...</td>\n    </tr>\n    <tr>\n      <th>275</th>\n      <td>2</td>\n      <td>2009-04-08</td>\n      <td>09:14</td>\n      <td>4.9</td>\n      <td>5.0-15.0</td>\n    </tr>\n    <tr>\n      <th>276</th>\n      <td>2</td>\n      <td>2009-06-16</td>\n      <td>09:02</td>\n      <td>7.9</td>\n      <td>5.0-15.0</td>\n    </tr>\n    <tr>\n      <th>277</th>\n      <td>2</td>\n      <td>2009-06-23</td>\n      <td>09:00</td>\n      <td>2.6</td>\n      <td>5.0-15.0</td>\n    </tr>\n    <tr>\n      <th>278</th>\n      <td>2</td>\n      <td>2009-10-05</td>\n      <td>08:09</td>\n      <td>3.3</td>\n      <td>5.0-15.0</td>\n    </tr>\n    <tr>\n      <th>279</th>\n      <td>2</td>\n      <td>2009-12-01</td>\n      <td>08:50</td>\n      <td>5.4</td>\n      <td>5.0-15.0</td>\n    </tr>\n  </tbody>\n</table>\n<p>78 rows × 5 columns</p>\n</div>"
     },
     "execution_count": 212,
     "metadata": {},
     "output_type": "execute_result"
    }
   ],
   "source": [
    "df_tacro"
   ],
   "metadata": {
    "collapsed": false,
    "ExecuteTime": {
     "end_time": "2023-12-07T02:32:42.222261Z",
     "start_time": "2023-12-07T02:32:42.182262Z"
    }
   },
   "id": "c1cf2ef7070bcdbc"
  },
  {
   "cell_type": "code",
   "execution_count": 213,
   "outputs": [],
   "source": [
    "df_tacro['collected date'] = pd.to_datetime(df_tacro['collected date'], errors='coerce')\n",
    "df_tacro['result'] = pd.to_numeric(df_tacro['result'], errors='coerce')"
   ],
   "metadata": {
    "collapsed": false,
    "ExecuteTime": {
     "end_time": "2023-12-07T02:33:25.473267Z",
     "start_time": "2023-12-07T02:33:25.375320Z"
    }
   },
   "id": "f667aba21423b255"
  },
  {
   "cell_type": "code",
   "execution_count": 217,
   "outputs": [
    {
     "data": {
      "text/plain": "202     1.2\n203     NaN\n204     4.8\n205     6.9\n206    10.6\n       ... \n275     4.9\n276     7.9\n277     2.6\n278     3.3\n279     5.4\nName: result, Length: 78, dtype: float64"
     },
     "execution_count": 217,
     "metadata": {},
     "output_type": "execute_result"
    }
   ],
   "source": [
    "df_tacro['result']"
   ],
   "metadata": {
    "collapsed": false,
    "ExecuteTime": {
     "end_time": "2023-12-07T02:34:14.211157Z",
     "start_time": "2023-12-07T02:34:13.991572Z"
    }
   },
   "id": "88d8310c01486a0f"
  },
  {
   "cell_type": "markdown",
   "source": [
    "### vitals "
   ],
   "metadata": {
    "collapsed": false
   },
   "id": "aac8a53cceb0f417"
  },
  {
   "cell_type": "code",
   "execution_count": 219,
   "outputs": [],
   "source": [
    "df_vitals = pd.read_excel('/Users/prakashgupta/radboudUMC-assignment/data/source/data/1-10/Vitals 2.xls')"
   ],
   "metadata": {
    "collapsed": false,
    "ExecuteTime": {
     "end_time": "2023-12-07T02:34:59.826251Z",
     "start_time": "2023-12-07T02:34:59.764177Z"
    }
   },
   "id": "ced309e85d2323d8"
  },
  {
   "cell_type": "code",
   "execution_count": 220,
   "outputs": [
    {
     "data": {
      "text/plain": "    id  date taken vital sign  the value\n0    2  2007-01-09         WT      10.61\n1    2  2007-01-09  diastolic      52.00\n2    2  2007-01-09   systolic      93.00\n3    2  2007-01-10  diastolic      54.00\n4    2  2007-01-10   systolic     107.00\n..  ..         ...        ...        ...\n95   2  2009-10-01   systolic      85.00\n96   2  2009-10-05         HR      91.00\n97   2  2009-10-05         WT      19.40\n98   2  2009-10-05  diastolic      61.00\n99   2  2009-10-05   systolic      96.00\n\n[100 rows x 4 columns]",
      "text/html": "<div>\n<style scoped>\n    .dataframe tbody tr th:only-of-type {\n        vertical-align: middle;\n    }\n\n    .dataframe tbody tr th {\n        vertical-align: top;\n    }\n\n    .dataframe thead th {\n        text-align: right;\n    }\n</style>\n<table border=\"1\" class=\"dataframe\">\n  <thead>\n    <tr style=\"text-align: right;\">\n      <th></th>\n      <th>id</th>\n      <th>date taken</th>\n      <th>vital sign</th>\n      <th>the value</th>\n    </tr>\n  </thead>\n  <tbody>\n    <tr>\n      <th>0</th>\n      <td>2</td>\n      <td>2007-01-09</td>\n      <td>WT</td>\n      <td>10.61</td>\n    </tr>\n    <tr>\n      <th>1</th>\n      <td>2</td>\n      <td>2007-01-09</td>\n      <td>diastolic</td>\n      <td>52.00</td>\n    </tr>\n    <tr>\n      <th>2</th>\n      <td>2</td>\n      <td>2007-01-09</td>\n      <td>systolic</td>\n      <td>93.00</td>\n    </tr>\n    <tr>\n      <th>3</th>\n      <td>2</td>\n      <td>2007-01-10</td>\n      <td>diastolic</td>\n      <td>54.00</td>\n    </tr>\n    <tr>\n      <th>4</th>\n      <td>2</td>\n      <td>2007-01-10</td>\n      <td>systolic</td>\n      <td>107.00</td>\n    </tr>\n    <tr>\n      <th>...</th>\n      <td>...</td>\n      <td>...</td>\n      <td>...</td>\n      <td>...</td>\n    </tr>\n    <tr>\n      <th>95</th>\n      <td>2</td>\n      <td>2009-10-01</td>\n      <td>systolic</td>\n      <td>85.00</td>\n    </tr>\n    <tr>\n      <th>96</th>\n      <td>2</td>\n      <td>2009-10-05</td>\n      <td>HR</td>\n      <td>91.00</td>\n    </tr>\n    <tr>\n      <th>97</th>\n      <td>2</td>\n      <td>2009-10-05</td>\n      <td>WT</td>\n      <td>19.40</td>\n    </tr>\n    <tr>\n      <th>98</th>\n      <td>2</td>\n      <td>2009-10-05</td>\n      <td>diastolic</td>\n      <td>61.00</td>\n    </tr>\n    <tr>\n      <th>99</th>\n      <td>2</td>\n      <td>2009-10-05</td>\n      <td>systolic</td>\n      <td>96.00</td>\n    </tr>\n  </tbody>\n</table>\n<p>100 rows × 4 columns</p>\n</div>"
     },
     "execution_count": 220,
     "metadata": {},
     "output_type": "execute_result"
    }
   ],
   "source": [
    "df_vitals"
   ],
   "metadata": {
    "collapsed": false,
    "ExecuteTime": {
     "end_time": "2023-12-07T02:35:05.193299Z",
     "start_time": "2023-12-07T02:35:05.106134Z"
    }
   },
   "id": "bc410a246b29bfd9"
  },
  {
   "cell_type": "code",
   "execution_count": 225,
   "outputs": [
    {
     "data": {
      "text/plain": "id             2.000000\nthe value    106.806452\ndtype: float64"
     },
     "execution_count": 225,
     "metadata": {},
     "output_type": "execute_result"
    }
   ],
   "source": [
    "(df_vitals[df_vitals['vital sign'] == 'systolic'].mean())"
   ],
   "metadata": {
    "collapsed": false,
    "ExecuteTime": {
     "end_time": "2023-12-07T02:37:03.432007Z",
     "start_time": "2023-12-07T02:37:03.342403Z"
    }
   },
   "id": "6d96f70cd7bdcae8"
  },
  {
   "cell_type": "code",
   "execution_count": 226,
   "outputs": [
    {
     "data": {
      "text/plain": "id            2.000000\nthe value    64.225806\ndtype: float64"
     },
     "execution_count": 226,
     "metadata": {},
     "output_type": "execute_result"
    }
   ],
   "source": [
    "df_vitals[df_vitals['vital sign'] == 'diastolic'].mean()"
   ],
   "metadata": {
    "collapsed": false,
    "ExecuteTime": {
     "end_time": "2023-12-07T02:40:17.598376Z",
     "start_time": "2023-12-07T02:40:17.449832Z"
    }
   },
   "id": "df1ec4d21afad41b"
  },
  {
   "cell_type": "markdown",
   "source": [
    "## New code "
   ],
   "metadata": {
    "collapsed": false
   },
   "id": "bd449115a80aecd6"
  },
  {
   "cell_type": "code",
   "execution_count": 228,
   "outputs": [
    {
     "data": {
      "text/plain": "   ID ADMIT DATE  DISCH DATE\n1   2 2007-01-08  2007-01-26\n2   2 2007-02-06  2007-02-20",
      "text/html": "<div>\n<style scoped>\n    .dataframe tbody tr th:only-of-type {\n        vertical-align: middle;\n    }\n\n    .dataframe tbody tr th {\n        vertical-align: top;\n    }\n\n    .dataframe thead th {\n        text-align: right;\n    }\n</style>\n<table border=\"1\" class=\"dataframe\">\n  <thead>\n    <tr style=\"text-align: right;\">\n      <th></th>\n      <th>ID</th>\n      <th>ADMIT DATE</th>\n      <th>DISCH DATE</th>\n    </tr>\n  </thead>\n  <tbody>\n    <tr>\n      <th>1</th>\n      <td>2</td>\n      <td>2007-01-08</td>\n      <td>2007-01-26</td>\n    </tr>\n    <tr>\n      <th>2</th>\n      <td>2</td>\n      <td>2007-02-06</td>\n      <td>2007-02-20</td>\n    </tr>\n  </tbody>\n</table>\n</div>"
     },
     "execution_count": 228,
     "metadata": {},
     "output_type": "execute_result"
    }
   ],
   "source": [
    "df_admission"
   ],
   "metadata": {
    "collapsed": false,
    "ExecuteTime": {
     "end_time": "2023-12-07T02:51:13.601500Z",
     "start_time": "2023-12-07T02:51:13.489185Z"
    }
   },
   "id": "adfcda66f9ae8e60"
  },
  {
   "cell_type": "code",
   "execution_count": null,
   "outputs": [],
   "source": [
    "def admission_meds(df):\n",
    "    df_admission = df_admission[df_admission['ID'] == 2]\n",
    "    \n",
    "def admission_tac():"
   ],
   "metadata": {
    "collapsed": false
   },
   "id": "df1ed83a5cb3eb8"
  }
 ],
 "metadata": {
  "kernelspec": {
   "display_name": "Python 3",
   "language": "python",
   "name": "python3"
  },
  "language_info": {
   "codemirror_mode": {
    "name": "ipython",
    "version": 2
   },
   "file_extension": ".py",
   "mimetype": "text/x-python",
   "name": "python",
   "nbconvert_exporter": "python",
   "pygments_lexer": "ipython2",
   "version": "2.7.6"
  }
 },
 "nbformat": 4,
 "nbformat_minor": 5
}
